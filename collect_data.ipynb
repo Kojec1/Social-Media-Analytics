{
 "cells": [
  {
   "cell_type": "code",
   "execution_count": 1,
   "outputs": [],
   "source": [
    "import pandas as pd\n",
    "import tweepy\n",
    "import json"
   ],
   "metadata": {
    "collapsed": false,
    "pycharm": {
     "name": "#%%\n"
    }
   }
  },
  {
   "cell_type": "code",
   "execution_count": 2,
   "outputs": [],
   "source": [
    "with open(\"credentials.json\") as f:\n",
    "    credentials = json.load(f)"
   ],
   "metadata": {
    "collapsed": false,
    "pycharm": {
     "name": "#%%\n"
    }
   }
  },
  {
   "cell_type": "code",
   "execution_count": 3,
   "outputs": [],
   "source": [
    "client = tweepy.Client(bearer_token=credentials['BEARER_TOKEN'])"
   ],
   "metadata": {
    "collapsed": false,
    "pycharm": {
     "name": "#%%\n"
    }
   }
  },
  {
   "cell_type": "code",
   "execution_count": 4,
   "outputs": [],
   "source": [
    "tweets_df = pd.DataFrame()\n",
    "users_df = pd.DataFrame()"
   ],
   "metadata": {
    "collapsed": false,
    "pycharm": {
     "name": "#%%\n"
    }
   }
  },
  {
   "cell_type": "code",
   "execution_count": 5,
   "outputs": [],
   "source": [
    "queries = ['#Qatar2022']"
   ],
   "metadata": {
    "collapsed": false,
    "pycharm": {
     "name": "#%%\n"
    }
   }
  },
  {
   "cell_type": "code",
   "execution_count": 6,
   "outputs": [],
   "source": [
    "params = {\n",
    "    'max_results': 100,\n",
    "    'limit': 30,\n",
    "    'tweet_fields': ['id', 'text', 'public_metrics', 'author_id', 'created_at', 'lang'],\n",
    "    'user_fields': ['username', 'created_at', 'public_metrics', 'protected', 'verified'],\n",
    "    'expansions': ['author_id', 'entities.mentions.username']\n",
    "}"
   ],
   "metadata": {
    "collapsed": false,
    "pycharm": {
     "name": "#%%\n"
    }
   }
  },
  {
   "cell_type": "code",
   "execution_count": 7,
   "outputs": [],
   "source": [
    "tweet_list = list()\n",
    "users_list = list()"
   ],
   "metadata": {
    "collapsed": false,
    "pycharm": {
     "name": "#%%\n"
    }
   }
  },
  {
   "cell_type": "code",
   "execution_count": 8,
   "outputs": [],
   "source": [
    "for query in queries:\n",
    "    for chunk in tweepy.Paginator(client.search_recent_tweets, query=f'{query} -is:retweet', **params):\n",
    "        for tweets in chunk.data:\n",
    "            tweet = [query,\n",
    "                     tweets.id,\n",
    "                     tweets.author_id,\n",
    "                     tweets.text,\n",
    "                     tweets.public_metrics['like_count'],\n",
    "                     tweets.public_metrics['reply_count'],\n",
    "                     tweets.public_metrics['retweet_count'],\n",
    "                     tweets.public_metrics['quote_count'],\n",
    "                     tweets.created_at,\n",
    "                     tweets.lang]\n",
    "\n",
    "            mentions = None\n",
    "            if tweets.entities is not None:\n",
    "                mentions = [mention['id'] for mention in tweets.entities['mentions']]\n",
    "            tweet.append(mentions)\n",
    "\n",
    "            tweet_list.append(tweet)\n",
    "\n",
    "        for user in chunk.includes['users']:\n",
    "            users_list.append([user.id,\n",
    "                               user.username,\n",
    "                               user.created_at,\n",
    "                               user.public_metrics['followers_count'],\n",
    "                               user.public_metrics['following_count'],\n",
    "                               user.public_metrics['tweet_count'],\n",
    "                               user.protected,\n",
    "                               user.verified])\n",
    "\n",
    "    temp_tweets = pd.DataFrame(tweet_list,\n",
    "                               columns=['hashtag', 'id', 'author_id', 'text', 'like_count', 'reply_count',\n",
    "                                        'retweet_count',\n",
    "                                        'quote_count',\n",
    "                                        'created_at', 'lang', 'mentions'])\n",
    "    temp_users = pd.DataFrame(users_list,\n",
    "                              columns=['id', 'username', 'created_at', 'followers_count', 'following_count',\n",
    "                                       'tweet_count', 'protected', 'verified'])\n",
    "\n",
    "    tweets_df = pd.concat([tweets_df, temp_tweets])\n",
    "    users_df = pd.concat([users_df, temp_users])"
   ],
   "metadata": {
    "collapsed": false,
    "pycharm": {
     "name": "#%%\n"
    }
   }
  },
  {
   "cell_type": "code",
   "execution_count": 9,
   "outputs": [
    {
     "data": {
      "text/plain": "       hashtag                   id            author_id  \\\n0   #Qatar2022  1592601212511133696           3254197047   \n1   #Qatar2022  1592601205595070464  1441282471400673280   \n2   #Qatar2022  1592601191761838081  1591065849531604994   \n3   #Qatar2022  1592601170014412800           2901835883   \n4   #Qatar2022  1592601169922523136  1456620452261072896   \n..         ...                  ...                  ...   \n95  #Qatar2022  1592600069244522496            186607467   \n96  #Qatar2022  1592600045530288128           4704502941   \n97  #Qatar2022  1592600043483455489            123372110   \n98  #Qatar2022  1592600042443264000  1128351207704207360   \n99  #Qatar2022  1592600030640209926            524531680   \n\n                                                 text  like_count  \\\n0   Uffà...ma quando finiscono i mondiali di #Qata...           0   \n1   Η εντυπωσιακή σύμπτωση με τα «αστέρια» της Παρ...           0   \n2   Massage and sex in Qatar❤️\\nMassage body to bo...           0   \n3   #Qatar2022 | NKUNKU ENCIENDE LAS ALARMAS 🚨\\n\\n...           0   \n4   Ils étaient en 2018 en Russie, ils sont retenu...           0   \n..                                                ...         ...   \n95  Gianni Infantino presidente de la FIFA pidió e...           0   \n96  #Qatar2022 World Cup leaves migrant workers de...           0   \n97  🌈Me gustaría que si @shakira actúa al final en...           0   \n98                    @deporteatc #Qatar2022 Alemania           0   \n99  ¡CONMOVEDOR! Las emotivas palabras de aliento ...          20   \n\n    reply_count  retweet_count  quote_count                created_at lang  \\\n0             0              0            0 2022-11-15 19:31:32+00:00   it   \n1             0              0            0 2022-11-15 19:31:31+00:00   el   \n2             0              0            0 2022-11-15 19:31:27+00:00   en   \n3             0              0            0 2022-11-15 19:31:22+00:00   es   \n4             0              0            0 2022-11-15 19:31:22+00:00   fr   \n..          ...            ...          ...                       ...  ...   \n95            0              0            0 2022-11-15 19:27:00+00:00   es   \n96            0              0            0 2022-11-15 19:26:54+00:00   en   \n97            0              0            0 2022-11-15 19:26:54+00:00   es   \n98            0              0            0 2022-11-15 19:26:53+00:00   es   \n99            3              0            0 2022-11-15 19:26:51+00:00   es   \n\n                            mentions  \n0                               None  \n1                               None  \n2                               None  \n3                               None  \n4                               None  \n..                               ...  \n95              [786249795014844416]  \n96                              None  \n97  [44409004, 138372303, 140070953]  \n98             [1306298260823388161]  \n99                              None  \n\n[100 rows x 11 columns]",
      "text/html": "<div>\n<style scoped>\n    .dataframe tbody tr th:only-of-type {\n        vertical-align: middle;\n    }\n\n    .dataframe tbody tr th {\n        vertical-align: top;\n    }\n\n    .dataframe thead th {\n        text-align: right;\n    }\n</style>\n<table border=\"1\" class=\"dataframe\">\n  <thead>\n    <tr style=\"text-align: right;\">\n      <th></th>\n      <th>hashtag</th>\n      <th>id</th>\n      <th>author_id</th>\n      <th>text</th>\n      <th>like_count</th>\n      <th>reply_count</th>\n      <th>retweet_count</th>\n      <th>quote_count</th>\n      <th>created_at</th>\n      <th>lang</th>\n      <th>mentions</th>\n    </tr>\n  </thead>\n  <tbody>\n    <tr>\n      <th>0</th>\n      <td>#Qatar2022</td>\n      <td>1592601212511133696</td>\n      <td>3254197047</td>\n      <td>Uffà...ma quando finiscono i mondiali di #Qata...</td>\n      <td>0</td>\n      <td>0</td>\n      <td>0</td>\n      <td>0</td>\n      <td>2022-11-15 19:31:32+00:00</td>\n      <td>it</td>\n      <td>None</td>\n    </tr>\n    <tr>\n      <th>1</th>\n      <td>#Qatar2022</td>\n      <td>1592601205595070464</td>\n      <td>1441282471400673280</td>\n      <td>Η εντυπωσιακή σύμπτωση με τα «αστέρια» της Παρ...</td>\n      <td>0</td>\n      <td>0</td>\n      <td>0</td>\n      <td>0</td>\n      <td>2022-11-15 19:31:31+00:00</td>\n      <td>el</td>\n      <td>None</td>\n    </tr>\n    <tr>\n      <th>2</th>\n      <td>#Qatar2022</td>\n      <td>1592601191761838081</td>\n      <td>1591065849531604994</td>\n      <td>Massage and sex in Qatar❤️\\nMassage body to bo...</td>\n      <td>0</td>\n      <td>0</td>\n      <td>0</td>\n      <td>0</td>\n      <td>2022-11-15 19:31:27+00:00</td>\n      <td>en</td>\n      <td>None</td>\n    </tr>\n    <tr>\n      <th>3</th>\n      <td>#Qatar2022</td>\n      <td>1592601170014412800</td>\n      <td>2901835883</td>\n      <td>#Qatar2022 | NKUNKU ENCIENDE LAS ALARMAS 🚨\\n\\n...</td>\n      <td>0</td>\n      <td>0</td>\n      <td>0</td>\n      <td>0</td>\n      <td>2022-11-15 19:31:22+00:00</td>\n      <td>es</td>\n      <td>None</td>\n    </tr>\n    <tr>\n      <th>4</th>\n      <td>#Qatar2022</td>\n      <td>1592601169922523136</td>\n      <td>1456620452261072896</td>\n      <td>Ils étaient en 2018 en Russie, ils sont retenu...</td>\n      <td>0</td>\n      <td>0</td>\n      <td>0</td>\n      <td>0</td>\n      <td>2022-11-15 19:31:22+00:00</td>\n      <td>fr</td>\n      <td>None</td>\n    </tr>\n    <tr>\n      <th>...</th>\n      <td>...</td>\n      <td>...</td>\n      <td>...</td>\n      <td>...</td>\n      <td>...</td>\n      <td>...</td>\n      <td>...</td>\n      <td>...</td>\n      <td>...</td>\n      <td>...</td>\n      <td>...</td>\n    </tr>\n    <tr>\n      <th>95</th>\n      <td>#Qatar2022</td>\n      <td>1592600069244522496</td>\n      <td>186607467</td>\n      <td>Gianni Infantino presidente de la FIFA pidió e...</td>\n      <td>0</td>\n      <td>0</td>\n      <td>0</td>\n      <td>0</td>\n      <td>2022-11-15 19:27:00+00:00</td>\n      <td>es</td>\n      <td>[786249795014844416]</td>\n    </tr>\n    <tr>\n      <th>96</th>\n      <td>#Qatar2022</td>\n      <td>1592600045530288128</td>\n      <td>4704502941</td>\n      <td>#Qatar2022 World Cup leaves migrant workers de...</td>\n      <td>0</td>\n      <td>0</td>\n      <td>0</td>\n      <td>0</td>\n      <td>2022-11-15 19:26:54+00:00</td>\n      <td>en</td>\n      <td>None</td>\n    </tr>\n    <tr>\n      <th>97</th>\n      <td>#Qatar2022</td>\n      <td>1592600043483455489</td>\n      <td>123372110</td>\n      <td>🌈Me gustaría que si @shakira actúa al final en...</td>\n      <td>0</td>\n      <td>0</td>\n      <td>0</td>\n      <td>0</td>\n      <td>2022-11-15 19:26:54+00:00</td>\n      <td>es</td>\n      <td>[44409004, 138372303, 140070953]</td>\n    </tr>\n    <tr>\n      <th>98</th>\n      <td>#Qatar2022</td>\n      <td>1592600042443264000</td>\n      <td>1128351207704207360</td>\n      <td>@deporteatc #Qatar2022 Alemania</td>\n      <td>0</td>\n      <td>0</td>\n      <td>0</td>\n      <td>0</td>\n      <td>2022-11-15 19:26:53+00:00</td>\n      <td>es</td>\n      <td>[1306298260823388161]</td>\n    </tr>\n    <tr>\n      <th>99</th>\n      <td>#Qatar2022</td>\n      <td>1592600030640209926</td>\n      <td>524531680</td>\n      <td>¡CONMOVEDOR! Las emotivas palabras de aliento ...</td>\n      <td>20</td>\n      <td>3</td>\n      <td>0</td>\n      <td>0</td>\n      <td>2022-11-15 19:26:51+00:00</td>\n      <td>es</td>\n      <td>None</td>\n    </tr>\n  </tbody>\n</table>\n<p>100 rows × 11 columns</p>\n</div>"
     },
     "execution_count": 9,
     "metadata": {},
     "output_type": "execute_result"
    }
   ],
   "source": [
    "tweets_df"
   ],
   "metadata": {
    "collapsed": false,
    "pycharm": {
     "name": "#%%\n"
    }
   }
  },
  {
   "cell_type": "code",
   "execution_count": 14,
   "outputs": [
    {
     "data": {
      "text/plain": "                      id         username                created_at  \\\n0             3254197047    PalloneBucato 2015-05-14 16:48:40+00:00   \n1    1441282471400673280       BNsportsGr 2021-09-24 06:05:17+00:00   \n2    1591065849531604994   mistresslily85 2022-11-11 13:50:48+00:00   \n3             2901835883       lacasacatv 2014-12-02 04:01:41+00:00   \n4    1456620452261072896    XavBarretFoot 2021-11-05 13:54:59+00:00   \n..                   ...              ...                       ...   \n175             44409004          shakira 2009-06-03 17:38:07+00:00   \n176            140070953          FIFAcom 2010-05-04 13:48:36+00:00   \n177  1128351207704207360  LolaPer19200564 2019-05-14 17:27:46+00:00   \n178  1306298260823388161       deporteatc 2020-09-16 18:26:03+00:00   \n179            524531680          SC_ESPN 2012-03-14 17:00:18+00:00   \n\n     followers_count  following_count  tweet_count  protected  verified  \n0                558              610        23651      False     False  \n1               1260              142        19825      False     False  \n2                  0                5            7      False     False  \n3               1991              445         7163      False     False  \n4                631              205          624      False     False  \n..               ...              ...          ...        ...       ...  \n175         53312206              233         7961      False      True  \n176         15673346              267        90459      False      True  \n177              199             4792        36462      False     False  \n178              912              152         2065      False     False  \n179          3399057               22       944052      False      True  \n\n[180 rows x 8 columns]",
      "text/html": "<div>\n<style scoped>\n    .dataframe tbody tr th:only-of-type {\n        vertical-align: middle;\n    }\n\n    .dataframe tbody tr th {\n        vertical-align: top;\n    }\n\n    .dataframe thead th {\n        text-align: right;\n    }\n</style>\n<table border=\"1\" class=\"dataframe\">\n  <thead>\n    <tr style=\"text-align: right;\">\n      <th></th>\n      <th>id</th>\n      <th>username</th>\n      <th>created_at</th>\n      <th>followers_count</th>\n      <th>following_count</th>\n      <th>tweet_count</th>\n      <th>protected</th>\n      <th>verified</th>\n    </tr>\n  </thead>\n  <tbody>\n    <tr>\n      <th>0</th>\n      <td>3254197047</td>\n      <td>PalloneBucato</td>\n      <td>2015-05-14 16:48:40+00:00</td>\n      <td>558</td>\n      <td>610</td>\n      <td>23651</td>\n      <td>False</td>\n      <td>False</td>\n    </tr>\n    <tr>\n      <th>1</th>\n      <td>1441282471400673280</td>\n      <td>BNsportsGr</td>\n      <td>2021-09-24 06:05:17+00:00</td>\n      <td>1260</td>\n      <td>142</td>\n      <td>19825</td>\n      <td>False</td>\n      <td>False</td>\n    </tr>\n    <tr>\n      <th>2</th>\n      <td>1591065849531604994</td>\n      <td>mistresslily85</td>\n      <td>2022-11-11 13:50:48+00:00</td>\n      <td>0</td>\n      <td>5</td>\n      <td>7</td>\n      <td>False</td>\n      <td>False</td>\n    </tr>\n    <tr>\n      <th>3</th>\n      <td>2901835883</td>\n      <td>lacasacatv</td>\n      <td>2014-12-02 04:01:41+00:00</td>\n      <td>1991</td>\n      <td>445</td>\n      <td>7163</td>\n      <td>False</td>\n      <td>False</td>\n    </tr>\n    <tr>\n      <th>4</th>\n      <td>1456620452261072896</td>\n      <td>XavBarretFoot</td>\n      <td>2021-11-05 13:54:59+00:00</td>\n      <td>631</td>\n      <td>205</td>\n      <td>624</td>\n      <td>False</td>\n      <td>False</td>\n    </tr>\n    <tr>\n      <th>...</th>\n      <td>...</td>\n      <td>...</td>\n      <td>...</td>\n      <td>...</td>\n      <td>...</td>\n      <td>...</td>\n      <td>...</td>\n      <td>...</td>\n    </tr>\n    <tr>\n      <th>175</th>\n      <td>44409004</td>\n      <td>shakira</td>\n      <td>2009-06-03 17:38:07+00:00</td>\n      <td>53312206</td>\n      <td>233</td>\n      <td>7961</td>\n      <td>False</td>\n      <td>True</td>\n    </tr>\n    <tr>\n      <th>176</th>\n      <td>140070953</td>\n      <td>FIFAcom</td>\n      <td>2010-05-04 13:48:36+00:00</td>\n      <td>15673346</td>\n      <td>267</td>\n      <td>90459</td>\n      <td>False</td>\n      <td>True</td>\n    </tr>\n    <tr>\n      <th>177</th>\n      <td>1128351207704207360</td>\n      <td>LolaPer19200564</td>\n      <td>2019-05-14 17:27:46+00:00</td>\n      <td>199</td>\n      <td>4792</td>\n      <td>36462</td>\n      <td>False</td>\n      <td>False</td>\n    </tr>\n    <tr>\n      <th>178</th>\n      <td>1306298260823388161</td>\n      <td>deporteatc</td>\n      <td>2020-09-16 18:26:03+00:00</td>\n      <td>912</td>\n      <td>152</td>\n      <td>2065</td>\n      <td>False</td>\n      <td>False</td>\n    </tr>\n    <tr>\n      <th>179</th>\n      <td>524531680</td>\n      <td>SC_ESPN</td>\n      <td>2012-03-14 17:00:18+00:00</td>\n      <td>3399057</td>\n      <td>22</td>\n      <td>944052</td>\n      <td>False</td>\n      <td>True</td>\n    </tr>\n  </tbody>\n</table>\n<p>180 rows × 8 columns</p>\n</div>"
     },
     "execution_count": 14,
     "metadata": {},
     "output_type": "execute_result"
    }
   ],
   "source": [
    "users_df"
   ],
   "metadata": {
    "collapsed": false,
    "pycharm": {
     "name": "#%%\n"
    }
   }
  },
  {
   "cell_type": "code",
   "execution_count": 15,
   "outputs": [],
   "source": [
    "tweets_df.to_csv('./data/tweets.csv', mode='a', index=False)\n",
    "users_df.to_csv('./data/users.csv', mode='a', index=False)"
   ],
   "metadata": {
    "collapsed": false,
    "pycharm": {
     "name": "#%%\n"
    }
   }
  }
 ],
 "metadata": {
  "kernelspec": {
   "display_name": "Python 3",
   "language": "python",
   "name": "python3"
  },
  "language_info": {
   "codemirror_mode": {
    "name": "ipython",
    "version": 2
   },
   "file_extension": ".py",
   "mimetype": "text/x-python",
   "name": "python",
   "nbconvert_exporter": "python",
   "pygments_lexer": "ipython2",
   "version": "2.7.6"
  }
 },
 "nbformat": 4,
 "nbformat_minor": 0
}