{
 "cells": [
  {
   "cell_type": "code",
   "execution_count": 1,
   "outputs": [],
   "source": [
    "import pandas as pd\n",
    "import tweepy\n",
    "import json"
   ],
   "metadata": {
    "collapsed": false,
    "pycharm": {
     "name": "#%%\n"
    }
   }
  },
  {
   "cell_type": "code",
   "execution_count": 2,
   "outputs": [],
   "source": [
    "theme = 'WorldCup'"
   ],
   "metadata": {
    "collapsed": false,
    "pycharm": {
     "name": "#%%\n"
    }
   }
  },
  {
   "cell_type": "code",
   "execution_count": 3,
   "outputs": [],
   "source": [
    "with open(\"credentials.json\") as f:\n",
    "    credentials = json.load(f)"
   ],
   "metadata": {
    "collapsed": false,
    "pycharm": {
     "name": "#%%\n"
    }
   }
  },
  {
   "cell_type": "code",
   "execution_count": 4,
   "outputs": [],
   "source": [
    "client = tweepy.Client(bearer_token=credentials['BEARER_TOKEN'])"
   ],
   "metadata": {
    "collapsed": false,
    "pycharm": {
     "name": "#%%\n"
    }
   }
  },
  {
   "cell_type": "code",
   "execution_count": 5,
   "outputs": [],
   "source": [
    "tweets_df = pd.DataFrame()\n",
    "users_df = pd.DataFrame()"
   ],
   "metadata": {
    "collapsed": false,
    "pycharm": {
     "name": "#%%\n"
    }
   }
  },
  {
   "cell_type": "code",
   "execution_count": 6,
   "outputs": [],
   "source": [
    "queries = ['#QatarWorldCup2022', '#Qatar2022', '#FIFAWorldCup']"
   ],
   "metadata": {
    "collapsed": false,
    "pycharm": {
     "name": "#%%\n"
    }
   }
  },
  {
   "cell_type": "code",
   "execution_count": 7,
   "outputs": [],
   "source": [
    "indices = pd.read_csv(f'./data/{theme}/tweets.csv', usecols=['id'])"
   ],
   "metadata": {
    "collapsed": false,
    "pycharm": {
     "name": "#%%\n"
    }
   }
  },
  {
   "cell_type": "code",
   "execution_count": 8,
   "outputs": [],
   "source": [
    "params = {\n",
    "    'max_results': 10,\n",
    "    'limit': 1,\n",
    "    'tweet_fields': ['id', 'text', 'public_metrics', 'author_id', 'created_at', 'lang'],\n",
    "    'user_fields': ['username', 'created_at', 'public_metrics', 'protected', 'verified'],\n",
    "    'expansions': ['author_id', 'entities.mentions.username'],\n",
    "    'since_id': indices.max()\n",
    "}"
   ],
   "metadata": {
    "collapsed": false,
    "pycharm": {
     "name": "#%%\n"
    }
   }
  },
  {
   "cell_type": "code",
   "execution_count": 9,
   "outputs": [],
   "source": [
    "tweet_list = list()\n",
    "users_list = list()"
   ],
   "metadata": {
    "collapsed": false,
    "pycharm": {
     "name": "#%%\n"
    }
   }
  },
  {
   "cell_type": "code",
   "execution_count": 10,
   "outputs": [],
   "source": [
    "for query in queries:\n",
    "    try:\n",
    "        for chunk in tweepy.Paginator(client.search_recent_tweets, query=f'{query} -is:retweet', **params):\n",
    "            for tweets in chunk.data:\n",
    "                tweet = [query,\n",
    "                         tweets.id,\n",
    "                         tweets.author_id,\n",
    "                         tweets.text,\n",
    "                         tweets.public_metrics['like_count'],\n",
    "                         tweets.public_metrics['reply_count'],\n",
    "                         tweets.public_metrics['retweet_count'],\n",
    "                         tweets.public_metrics['quote_count'],\n",
    "                         tweets.created_at,\n",
    "                         tweets.lang]\n",
    "\n",
    "                mentions = None\n",
    "                if tweets.entities is not None:\n",
    "                    mentions = [mention['id'] for mention in tweets.entities['mentions']]\n",
    "                tweet.append(mentions)\n",
    "\n",
    "                tweet_list.append(tweet)\n",
    "\n",
    "            for user in chunk.includes['users']:\n",
    "                users_list.append([user.id,\n",
    "                                   user.username,\n",
    "                                   user.created_at,\n",
    "                                   user.public_metrics['followers_count'],\n",
    "                                   user.public_metrics['following_count'],\n",
    "                                   user.public_metrics['tweet_count'],\n",
    "                                   user.protected,\n",
    "                                   user.verified])\n",
    "\n",
    "        temp_tweets = pd.DataFrame(tweet_list,\n",
    "                                   columns=['hashtag', 'id', 'author_id', 'text', 'like_count', 'reply_count',\n",
    "                                            'retweet_count',\n",
    "                                            'quote_count',\n",
    "                                            'created_at', 'lang', 'mentions'])\n",
    "        temp_users = pd.DataFrame(users_list,\n",
    "                                  columns=['id', 'username', 'created_at', 'followers_count', 'following_count',\n",
    "                                           'tweet_count', 'protected', 'verified'])\n",
    "\n",
    "        tweets_df = pd.concat([tweets_df, temp_tweets])\n",
    "        users_df = pd.concat([users_df, temp_users])\n",
    "    except tweepy.TooManyRequests:\n",
    "        print('WARNING: Tweet download stopped due to TooManyRequest exception. Wait 15 minutes...')\n",
    "        break"
   ],
   "metadata": {
    "collapsed": false,
    "pycharm": {
     "name": "#%%\n"
    }
   }
  },
  {
   "cell_type": "code",
   "execution_count": 11,
   "outputs": [
    {
     "data": {
      "text/plain": "               hashtag                   id            author_id  \\\n0   #QatarWorldCup2022  1594689322015674377  1486192799078916097   \n1   #QatarWorldCup2022  1594689321822433281  1579287543736340480   \n2   #QatarWorldCup2022  1594689321797357568  1578295605243383809   \n3   #QatarWorldCup2022  1594689321650786304  1552710950205136896   \n4   #QatarWorldCup2022  1594689321638178816  1432619663788290049   \n5   #QatarWorldCup2022  1594689321105346560            520970595   \n6   #QatarWorldCup2022  1594689320685867012  1537404126145007617   \n7   #QatarWorldCup2022  1594689319964659712  1141762709274472454   \n8   #QatarWorldCup2022  1594689319880781825  1588175502891941890   \n9   #QatarWorldCup2022  1594689319834361858  1437092812470771718   \n0   #QatarWorldCup2022  1594689322015674377  1486192799078916097   \n1   #QatarWorldCup2022  1594689321822433281  1579287543736340480   \n2   #QatarWorldCup2022  1594689321797357568  1578295605243383809   \n3   #QatarWorldCup2022  1594689321650786304  1552710950205136896   \n4   #QatarWorldCup2022  1594689321638178816  1432619663788290049   \n5   #QatarWorldCup2022  1594689321105346560            520970595   \n6   #QatarWorldCup2022  1594689320685867012  1537404126145007617   \n7   #QatarWorldCup2022  1594689319964659712  1141762709274472454   \n8   #QatarWorldCup2022  1594689319880781825  1588175502891941890   \n9   #QatarWorldCup2022  1594689319834361858  1437092812470771718   \n10          #Qatar2022  1594689326373388295            331284105   \n11          #Qatar2022  1594689325643755520           4408004861   \n12          #Qatar2022  1594689325605625856  1064014662881013762   \n13          #Qatar2022  1594689325194584064           2913426844   \n14          #Qatar2022  1594689325136056327            131646000   \n15          #Qatar2022  1594689324460957699           1316092310   \n16          #Qatar2022  1594689323831820288             14733864   \n17          #Qatar2022  1594689323575779330  1572248555397464069   \n18          #Qatar2022  1594689323517247489  1257215644740857858   \n19          #Qatar2022  1594689323357671424            744673274   \n0   #QatarWorldCup2022  1594689322015674377  1486192799078916097   \n1   #QatarWorldCup2022  1594689321822433281  1579287543736340480   \n2   #QatarWorldCup2022  1594689321797357568  1578295605243383809   \n3   #QatarWorldCup2022  1594689321650786304  1552710950205136896   \n4   #QatarWorldCup2022  1594689321638178816  1432619663788290049   \n5   #QatarWorldCup2022  1594689321105346560            520970595   \n6   #QatarWorldCup2022  1594689320685867012  1537404126145007617   \n7   #QatarWorldCup2022  1594689319964659712  1141762709274472454   \n8   #QatarWorldCup2022  1594689319880781825  1588175502891941890   \n9   #QatarWorldCup2022  1594689319834361858  1437092812470771718   \n10          #Qatar2022  1594689326373388295            331284105   \n11          #Qatar2022  1594689325643755520           4408004861   \n12          #Qatar2022  1594689325605625856  1064014662881013762   \n13          #Qatar2022  1594689325194584064           2913426844   \n14          #Qatar2022  1594689325136056327            131646000   \n15          #Qatar2022  1594689324460957699           1316092310   \n16          #Qatar2022  1594689323831820288             14733864   \n17          #Qatar2022  1594689323575779330  1572248555397464069   \n18          #Qatar2022  1594689323517247489  1257215644740857858   \n19          #Qatar2022  1594689323357671424            744673274   \n20       #FIFAWorldCup  1594689326515896329            352528182   \n21       #FIFAWorldCup  1594689326465835008  1116709877886226437   \n22       #FIFAWorldCup  1594689326373388295            331284105   \n23       #FIFAWorldCup  1594689326251929601  1527997997807595520   \n24       #FIFAWorldCup  1594689326180352001             15324060   \n25       #FIFAWorldCup  1594689325874176006   968631815798968321   \n26       #FIFAWorldCup  1594689325740040198  1021482631735791618   \n27       #FIFAWorldCup  1594689325643755520           4408004861   \n28       #FIFAWorldCup  1594689325639221248   871317248715087872   \n29       #FIFAWorldCup  1594689325605625856  1064014662881013762   \n\n                                                 text  like_count  \\\n0   Juega muy Bien esta Inglaterra 🥰\\n#FIFAWorldCu...           0   \n1   FIFA World Cup Qatar 2022 !! England vs Iran L...           0   \n2   @footballdaily @3LionsOnMaShirt \\n\\nSay her na...           0   \n3   Que time horrível, esse do Iran kkkkk\\n\\n#Copa...           0   \n4   Le temps additionnel, c'est une mi-temps\\n #an...           0   \n5   Ojo con Inglaterra que hoy puede meter al meno...           0   \n6   England vs Iran (Live)                      \\n...           0   \n7   Complete dominance by the three lions ... #ENG...           0   \n8   ⚽ Watch Qatar FIFA World Cup 2022 England vs I...           0   \n9   سورئال‌ترین لحظات فوتبال ایران رو شاهد هستیم. ...           0   \n0   Juega muy Bien esta Inglaterra 🥰\\n#FIFAWorldCu...           0   \n1   FIFA World Cup Qatar 2022 !! England vs Iran L...           0   \n2   @footballdaily @3LionsOnMaShirt \\n\\nSay her na...           0   \n3   Que time horrível, esse do Iran kkkkk\\n\\n#Copa...           0   \n4   Le temps additionnel, c'est une mi-temps\\n #an...           0   \n5   Ojo con Inglaterra que hoy puede meter al meno...           0   \n6   England vs Iran (Live)                      \\n...           0   \n7   Complete dominance by the three lions ... #ENG...           0   \n8   ⚽ Watch Qatar FIFA World Cup 2022 England vs I...           0   \n9   سورئال‌ترین لحظات فوتبال ایران رو شاهد هستیم. ...           0   \n10  Y llegó el tercero!!! Gooooooool de @sterling7...           0   \n11  #ENG  3-0 #IRN  \\n\\nAquello que parecía difíci...           0   \n12  イングランド🏴󠁧󠁢󠁥󠁮󠁧󠁿3点目\\n綺麗なカウンター決まったね。\\nケインのクロスとそれに合...           0   \n13  EN VIVO Inglaterra ya gana 3 a 0 a Irán #Qatar...           0   \n14  Inglaterra no me va a decepcionar, hoy no❤️❤️❤...           0   \n15      ふざけたロスタイム２つ分 #FIFAWorldCup #Qatar2022 #ENGIRN           0   \n16  AT14minもあるのか\\n#ワールドカップ #fifaworldcup #worldcup...           0   \n17  Mohammad Mokhtati also loved football. He was ...           0   \n18  It's England's opening 3 goals being scored by...           0   \n19  ⚽ 45' | GOL DE STERLING #Inglaterra 🏴󠁧󠁢󠁥󠁮󠁧󠁿 3-...           0   \n0   Juega muy Bien esta Inglaterra 🥰\\n#FIFAWorldCu...           0   \n1   FIFA World Cup Qatar 2022 !! England vs Iran L...           0   \n2   @footballdaily @3LionsOnMaShirt \\n\\nSay her na...           0   \n3   Que time horrível, esse do Iran kkkkk\\n\\n#Copa...           0   \n4   Le temps additionnel, c'est une mi-temps\\n #an...           0   \n5   Ojo con Inglaterra que hoy puede meter al meno...           0   \n6   England vs Iran (Live)                      \\n...           0   \n7   Complete dominance by the three lions ... #ENG...           0   \n8   ⚽ Watch Qatar FIFA World Cup 2022 England vs I...           0   \n9   سورئال‌ترین لحظات فوتبال ایران رو شاهد هستیم. ...           0   \n10  Y llegó el tercero!!! Gooooooool de @sterling7...           0   \n11  #ENG  3-0 #IRN  \\n\\nAquello que parecía difíci...           0   \n12  イングランド🏴󠁧󠁢󠁥󠁮󠁧󠁿3点目\\n綺麗なカウンター決まったね。\\nケインのクロスとそれに合...           0   \n13  EN VIVO Inglaterra ya gana 3 a 0 a Irán #Qatar...           0   \n14  Inglaterra no me va a decepcionar, hoy no❤️❤️❤...           0   \n15      ふざけたロスタイム２つ分 #FIFAWorldCup #Qatar2022 #ENGIRN           0   \n16  AT14minもあるのか\\n#ワールドカップ #fifaworldcup #worldcup...           0   \n17  Mohammad Mokhtati also loved football. He was ...           0   \n18  It's England's opening 3 goals being scored by...           0   \n19  ⚽ 45' | GOL DE STERLING #Inglaterra 🏴󠁧󠁢󠁥󠁮󠁧󠁿 3-...           0   \n20  The floodgates have flung open, England are th...           0   \n21  #England #Iran  #FIFAWorldCup #QatarWorldCup20...           0   \n22  Y llegó el tercero!!! Gooooooool de @sterling7...           0   \n23  💥🤜fubo   TV &amp; Live Stream🤛💥🔥\\n\\n📺 FIFA WOR...           0   \n24  Goals from Bellingham, Saka and Sterling put @...           0   \n25  So it turns out we are actually quite good. #E...           0   \n26  No one's talking about the 6,500 migrant worke...           0   \n27  #ENG  3-0 #IRN  \\n\\nAquello que parecía difíci...           0   \n28  #FIFAWorldCup 　＃イングランド 前半だけで3-0。シュートが上手い。イランは５...           0   \n29  イングランド🏴󠁧󠁢󠁥󠁮󠁧󠁿3点目\\n綺麗なカウンター決まったね。\\nケインのクロスとそれに合...           0   \n\n    reply_count  retweet_count  quote_count                created_at lang  \\\n0             0              0            0 2022-11-21 13:48:56+00:00   es   \n1             0              0            0 2022-11-21 13:48:56+00:00   en   \n2             0              0            0 2022-11-21 13:48:56+00:00   en   \n3             0              0            0 2022-11-21 13:48:56+00:00   pt   \n4             0              0            0 2022-11-21 13:48:56+00:00   fr   \n5             0              0            0 2022-11-21 13:48:56+00:00   es   \n6             0              0            0 2022-11-21 13:48:56+00:00   en   \n7             0              0            0 2022-11-21 13:48:56+00:00   en   \n8             0              0            0 2022-11-21 13:48:56+00:00   en   \n9             0              0            0 2022-11-21 13:48:56+00:00   fa   \n0             0              0            0 2022-11-21 13:48:56+00:00   es   \n1             0              0            0 2022-11-21 13:48:56+00:00   en   \n2             0              0            0 2022-11-21 13:48:56+00:00   en   \n3             0              0            0 2022-11-21 13:48:56+00:00   pt   \n4             0              0            0 2022-11-21 13:48:56+00:00   fr   \n5             0              0            0 2022-11-21 13:48:56+00:00   es   \n6             0              0            0 2022-11-21 13:48:56+00:00   en   \n7             0              0            0 2022-11-21 13:48:56+00:00   en   \n8             0              0            0 2022-11-21 13:48:56+00:00   en   \n9             0              0            0 2022-11-21 13:48:56+00:00   fa   \n10            0              0            0 2022-11-21 13:48:57+00:00   es   \n11            0              0            0 2022-11-21 13:48:57+00:00   es   \n12            0              0            0 2022-11-21 13:48:57+00:00   ja   \n13            0              0            0 2022-11-21 13:48:57+00:00   es   \n14            0              0            0 2022-11-21 13:48:57+00:00   es   \n15            0              0            0 2022-11-21 13:48:57+00:00   ja   \n16            0              0            0 2022-11-21 13:48:57+00:00   ja   \n17            0              0            0 2022-11-21 13:48:57+00:00   en   \n18            0              0            0 2022-11-21 13:48:57+00:00   en   \n19            0              0            0 2022-11-21 13:48:57+00:00   nl   \n0             0              0            0 2022-11-21 13:48:56+00:00   es   \n1             0              0            0 2022-11-21 13:48:56+00:00   en   \n2             0              0            0 2022-11-21 13:48:56+00:00   en   \n3             0              0            0 2022-11-21 13:48:56+00:00   pt   \n4             0              0            0 2022-11-21 13:48:56+00:00   fr   \n5             0              0            0 2022-11-21 13:48:56+00:00   es   \n6             0              0            0 2022-11-21 13:48:56+00:00   en   \n7             0              0            0 2022-11-21 13:48:56+00:00   en   \n8             0              0            0 2022-11-21 13:48:56+00:00   en   \n9             0              0            0 2022-11-21 13:48:56+00:00   fa   \n10            0              0            0 2022-11-21 13:48:57+00:00   es   \n11            0              0            0 2022-11-21 13:48:57+00:00   es   \n12            0              0            0 2022-11-21 13:48:57+00:00   ja   \n13            0              0            0 2022-11-21 13:48:57+00:00   es   \n14            0              0            0 2022-11-21 13:48:57+00:00   es   \n15            0              0            0 2022-11-21 13:48:57+00:00   ja   \n16            0              0            0 2022-11-21 13:48:57+00:00   ja   \n17            0              0            0 2022-11-21 13:48:57+00:00   en   \n18            0              0            0 2022-11-21 13:48:57+00:00   en   \n19            0              0            0 2022-11-21 13:48:57+00:00   nl   \n20            0              0            0 2022-11-21 13:48:57+00:00   en   \n21            0              0            0 2022-11-21 13:48:57+00:00   en   \n22            0              0            0 2022-11-21 13:48:57+00:00   es   \n23            0              0            0 2022-11-21 13:48:57+00:00   en   \n24            0              0            0 2022-11-21 13:48:57+00:00   en   \n25            0              0            0 2022-11-21 13:48:57+00:00   en   \n26            0              0            0 2022-11-21 13:48:57+00:00   en   \n27            0              0            0 2022-11-21 13:48:57+00:00   es   \n28            0              0            0 2022-11-21 13:48:57+00:00   ja   \n29            0              0            0 2022-11-21 13:48:57+00:00   ja   \n\n                            mentions  \n0                               None  \n1                               None  \n2   [278038673, 1571546683556626438]  \n3                               None  \n4                               None  \n5                               None  \n6                               None  \n7                               None  \n8                               None  \n9                               None  \n0                               None  \n1                               None  \n2   [278038673, 1571546683556626438]  \n3                               None  \n4                               None  \n5                               None  \n6                               None  \n7                               None  \n8                               None  \n9                               None  \n10                       [627491854]  \n11                              None  \n12                              None  \n13                              None  \n14                              None  \n15                              None  \n16                              None  \n17                              None  \n18                              None  \n19                              None  \n0                               None  \n1                               None  \n2   [278038673, 1571546683556626438]  \n3                               None  \n4                               None  \n5                               None  \n6                               None  \n7                               None  \n8                               None  \n9                               None  \n10                       [627491854]  \n11                              None  \n12                              None  \n13                              None  \n14                              None  \n15                              None  \n16                              None  \n17                              None  \n18                              None  \n19                              None  \n20                              None  \n21                              None  \n22                       [627491854]  \n23                              None  \n24                      [1903382054]  \n25                              None  \n26                              None  \n27                              None  \n28                              None  \n29                              None  ",
      "text/html": "<div>\n<style scoped>\n    .dataframe tbody tr th:only-of-type {\n        vertical-align: middle;\n    }\n\n    .dataframe tbody tr th {\n        vertical-align: top;\n    }\n\n    .dataframe thead th {\n        text-align: right;\n    }\n</style>\n<table border=\"1\" class=\"dataframe\">\n  <thead>\n    <tr style=\"text-align: right;\">\n      <th></th>\n      <th>hashtag</th>\n      <th>id</th>\n      <th>author_id</th>\n      <th>text</th>\n      <th>like_count</th>\n      <th>reply_count</th>\n      <th>retweet_count</th>\n      <th>quote_count</th>\n      <th>created_at</th>\n      <th>lang</th>\n      <th>mentions</th>\n    </tr>\n  </thead>\n  <tbody>\n    <tr>\n      <th>0</th>\n      <td>#QatarWorldCup2022</td>\n      <td>1594689322015674377</td>\n      <td>1486192799078916097</td>\n      <td>Juega muy Bien esta Inglaterra 🥰\\n#FIFAWorldCu...</td>\n      <td>0</td>\n      <td>0</td>\n      <td>0</td>\n      <td>0</td>\n      <td>2022-11-21 13:48:56+00:00</td>\n      <td>es</td>\n      <td>None</td>\n    </tr>\n    <tr>\n      <th>1</th>\n      <td>#QatarWorldCup2022</td>\n      <td>1594689321822433281</td>\n      <td>1579287543736340480</td>\n      <td>FIFA World Cup Qatar 2022 !! England vs Iran L...</td>\n      <td>0</td>\n      <td>0</td>\n      <td>0</td>\n      <td>0</td>\n      <td>2022-11-21 13:48:56+00:00</td>\n      <td>en</td>\n      <td>None</td>\n    </tr>\n    <tr>\n      <th>2</th>\n      <td>#QatarWorldCup2022</td>\n      <td>1594689321797357568</td>\n      <td>1578295605243383809</td>\n      <td>@footballdaily @3LionsOnMaShirt \\n\\nSay her na...</td>\n      <td>0</td>\n      <td>0</td>\n      <td>0</td>\n      <td>0</td>\n      <td>2022-11-21 13:48:56+00:00</td>\n      <td>en</td>\n      <td>[278038673, 1571546683556626438]</td>\n    </tr>\n    <tr>\n      <th>3</th>\n      <td>#QatarWorldCup2022</td>\n      <td>1594689321650786304</td>\n      <td>1552710950205136896</td>\n      <td>Que time horrível, esse do Iran kkkkk\\n\\n#Copa...</td>\n      <td>0</td>\n      <td>0</td>\n      <td>0</td>\n      <td>0</td>\n      <td>2022-11-21 13:48:56+00:00</td>\n      <td>pt</td>\n      <td>None</td>\n    </tr>\n    <tr>\n      <th>4</th>\n      <td>#QatarWorldCup2022</td>\n      <td>1594689321638178816</td>\n      <td>1432619663788290049</td>\n      <td>Le temps additionnel, c'est une mi-temps\\n #an...</td>\n      <td>0</td>\n      <td>0</td>\n      <td>0</td>\n      <td>0</td>\n      <td>2022-11-21 13:48:56+00:00</td>\n      <td>fr</td>\n      <td>None</td>\n    </tr>\n    <tr>\n      <th>5</th>\n      <td>#QatarWorldCup2022</td>\n      <td>1594689321105346560</td>\n      <td>520970595</td>\n      <td>Ojo con Inglaterra que hoy puede meter al meno...</td>\n      <td>0</td>\n      <td>0</td>\n      <td>0</td>\n      <td>0</td>\n      <td>2022-11-21 13:48:56+00:00</td>\n      <td>es</td>\n      <td>None</td>\n    </tr>\n    <tr>\n      <th>6</th>\n      <td>#QatarWorldCup2022</td>\n      <td>1594689320685867012</td>\n      <td>1537404126145007617</td>\n      <td>England vs Iran (Live)                      \\n...</td>\n      <td>0</td>\n      <td>0</td>\n      <td>0</td>\n      <td>0</td>\n      <td>2022-11-21 13:48:56+00:00</td>\n      <td>en</td>\n      <td>None</td>\n    </tr>\n    <tr>\n      <th>7</th>\n      <td>#QatarWorldCup2022</td>\n      <td>1594689319964659712</td>\n      <td>1141762709274472454</td>\n      <td>Complete dominance by the three lions ... #ENG...</td>\n      <td>0</td>\n      <td>0</td>\n      <td>0</td>\n      <td>0</td>\n      <td>2022-11-21 13:48:56+00:00</td>\n      <td>en</td>\n      <td>None</td>\n    </tr>\n    <tr>\n      <th>8</th>\n      <td>#QatarWorldCup2022</td>\n      <td>1594689319880781825</td>\n      <td>1588175502891941890</td>\n      <td>⚽ Watch Qatar FIFA World Cup 2022 England vs I...</td>\n      <td>0</td>\n      <td>0</td>\n      <td>0</td>\n      <td>0</td>\n      <td>2022-11-21 13:48:56+00:00</td>\n      <td>en</td>\n      <td>None</td>\n    </tr>\n    <tr>\n      <th>9</th>\n      <td>#QatarWorldCup2022</td>\n      <td>1594689319834361858</td>\n      <td>1437092812470771718</td>\n      <td>سورئال‌ترین لحظات فوتبال ایران رو شاهد هستیم. ...</td>\n      <td>0</td>\n      <td>0</td>\n      <td>0</td>\n      <td>0</td>\n      <td>2022-11-21 13:48:56+00:00</td>\n      <td>fa</td>\n      <td>None</td>\n    </tr>\n    <tr>\n      <th>0</th>\n      <td>#QatarWorldCup2022</td>\n      <td>1594689322015674377</td>\n      <td>1486192799078916097</td>\n      <td>Juega muy Bien esta Inglaterra 🥰\\n#FIFAWorldCu...</td>\n      <td>0</td>\n      <td>0</td>\n      <td>0</td>\n      <td>0</td>\n      <td>2022-11-21 13:48:56+00:00</td>\n      <td>es</td>\n      <td>None</td>\n    </tr>\n    <tr>\n      <th>1</th>\n      <td>#QatarWorldCup2022</td>\n      <td>1594689321822433281</td>\n      <td>1579287543736340480</td>\n      <td>FIFA World Cup Qatar 2022 !! England vs Iran L...</td>\n      <td>0</td>\n      <td>0</td>\n      <td>0</td>\n      <td>0</td>\n      <td>2022-11-21 13:48:56+00:00</td>\n      <td>en</td>\n      <td>None</td>\n    </tr>\n    <tr>\n      <th>2</th>\n      <td>#QatarWorldCup2022</td>\n      <td>1594689321797357568</td>\n      <td>1578295605243383809</td>\n      <td>@footballdaily @3LionsOnMaShirt \\n\\nSay her na...</td>\n      <td>0</td>\n      <td>0</td>\n      <td>0</td>\n      <td>0</td>\n      <td>2022-11-21 13:48:56+00:00</td>\n      <td>en</td>\n      <td>[278038673, 1571546683556626438]</td>\n    </tr>\n    <tr>\n      <th>3</th>\n      <td>#QatarWorldCup2022</td>\n      <td>1594689321650786304</td>\n      <td>1552710950205136896</td>\n      <td>Que time horrível, esse do Iran kkkkk\\n\\n#Copa...</td>\n      <td>0</td>\n      <td>0</td>\n      <td>0</td>\n      <td>0</td>\n      <td>2022-11-21 13:48:56+00:00</td>\n      <td>pt</td>\n      <td>None</td>\n    </tr>\n    <tr>\n      <th>4</th>\n      <td>#QatarWorldCup2022</td>\n      <td>1594689321638178816</td>\n      <td>1432619663788290049</td>\n      <td>Le temps additionnel, c'est une mi-temps\\n #an...</td>\n      <td>0</td>\n      <td>0</td>\n      <td>0</td>\n      <td>0</td>\n      <td>2022-11-21 13:48:56+00:00</td>\n      <td>fr</td>\n      <td>None</td>\n    </tr>\n    <tr>\n      <th>5</th>\n      <td>#QatarWorldCup2022</td>\n      <td>1594689321105346560</td>\n      <td>520970595</td>\n      <td>Ojo con Inglaterra que hoy puede meter al meno...</td>\n      <td>0</td>\n      <td>0</td>\n      <td>0</td>\n      <td>0</td>\n      <td>2022-11-21 13:48:56+00:00</td>\n      <td>es</td>\n      <td>None</td>\n    </tr>\n    <tr>\n      <th>6</th>\n      <td>#QatarWorldCup2022</td>\n      <td>1594689320685867012</td>\n      <td>1537404126145007617</td>\n      <td>England vs Iran (Live)                      \\n...</td>\n      <td>0</td>\n      <td>0</td>\n      <td>0</td>\n      <td>0</td>\n      <td>2022-11-21 13:48:56+00:00</td>\n      <td>en</td>\n      <td>None</td>\n    </tr>\n    <tr>\n      <th>7</th>\n      <td>#QatarWorldCup2022</td>\n      <td>1594689319964659712</td>\n      <td>1141762709274472454</td>\n      <td>Complete dominance by the three lions ... #ENG...</td>\n      <td>0</td>\n      <td>0</td>\n      <td>0</td>\n      <td>0</td>\n      <td>2022-11-21 13:48:56+00:00</td>\n      <td>en</td>\n      <td>None</td>\n    </tr>\n    <tr>\n      <th>8</th>\n      <td>#QatarWorldCup2022</td>\n      <td>1594689319880781825</td>\n      <td>1588175502891941890</td>\n      <td>⚽ Watch Qatar FIFA World Cup 2022 England vs I...</td>\n      <td>0</td>\n      <td>0</td>\n      <td>0</td>\n      <td>0</td>\n      <td>2022-11-21 13:48:56+00:00</td>\n      <td>en</td>\n      <td>None</td>\n    </tr>\n    <tr>\n      <th>9</th>\n      <td>#QatarWorldCup2022</td>\n      <td>1594689319834361858</td>\n      <td>1437092812470771718</td>\n      <td>سورئال‌ترین لحظات فوتبال ایران رو شاهد هستیم. ...</td>\n      <td>0</td>\n      <td>0</td>\n      <td>0</td>\n      <td>0</td>\n      <td>2022-11-21 13:48:56+00:00</td>\n      <td>fa</td>\n      <td>None</td>\n    </tr>\n    <tr>\n      <th>10</th>\n      <td>#Qatar2022</td>\n      <td>1594689326373388295</td>\n      <td>331284105</td>\n      <td>Y llegó el tercero!!! Gooooooool de @sterling7...</td>\n      <td>0</td>\n      <td>0</td>\n      <td>0</td>\n      <td>0</td>\n      <td>2022-11-21 13:48:57+00:00</td>\n      <td>es</td>\n      <td>[627491854]</td>\n    </tr>\n    <tr>\n      <th>11</th>\n      <td>#Qatar2022</td>\n      <td>1594689325643755520</td>\n      <td>4408004861</td>\n      <td>#ENG  3-0 #IRN  \\n\\nAquello que parecía difíci...</td>\n      <td>0</td>\n      <td>0</td>\n      <td>0</td>\n      <td>0</td>\n      <td>2022-11-21 13:48:57+00:00</td>\n      <td>es</td>\n      <td>None</td>\n    </tr>\n    <tr>\n      <th>12</th>\n      <td>#Qatar2022</td>\n      <td>1594689325605625856</td>\n      <td>1064014662881013762</td>\n      <td>イングランド🏴󠁧󠁢󠁥󠁮󠁧󠁿3点目\\n綺麗なカウンター決まったね。\\nケインのクロスとそれに合...</td>\n      <td>0</td>\n      <td>0</td>\n      <td>0</td>\n      <td>0</td>\n      <td>2022-11-21 13:48:57+00:00</td>\n      <td>ja</td>\n      <td>None</td>\n    </tr>\n    <tr>\n      <th>13</th>\n      <td>#Qatar2022</td>\n      <td>1594689325194584064</td>\n      <td>2913426844</td>\n      <td>EN VIVO Inglaterra ya gana 3 a 0 a Irán #Qatar...</td>\n      <td>0</td>\n      <td>0</td>\n      <td>0</td>\n      <td>0</td>\n      <td>2022-11-21 13:48:57+00:00</td>\n      <td>es</td>\n      <td>None</td>\n    </tr>\n    <tr>\n      <th>14</th>\n      <td>#Qatar2022</td>\n      <td>1594689325136056327</td>\n      <td>131646000</td>\n      <td>Inglaterra no me va a decepcionar, hoy no❤️❤️❤...</td>\n      <td>0</td>\n      <td>0</td>\n      <td>0</td>\n      <td>0</td>\n      <td>2022-11-21 13:48:57+00:00</td>\n      <td>es</td>\n      <td>None</td>\n    </tr>\n    <tr>\n      <th>15</th>\n      <td>#Qatar2022</td>\n      <td>1594689324460957699</td>\n      <td>1316092310</td>\n      <td>ふざけたロスタイム２つ分 #FIFAWorldCup #Qatar2022 #ENGIRN</td>\n      <td>0</td>\n      <td>0</td>\n      <td>0</td>\n      <td>0</td>\n      <td>2022-11-21 13:48:57+00:00</td>\n      <td>ja</td>\n      <td>None</td>\n    </tr>\n    <tr>\n      <th>16</th>\n      <td>#Qatar2022</td>\n      <td>1594689323831820288</td>\n      <td>14733864</td>\n      <td>AT14minもあるのか\\n#ワールドカップ #fifaworldcup #worldcup...</td>\n      <td>0</td>\n      <td>0</td>\n      <td>0</td>\n      <td>0</td>\n      <td>2022-11-21 13:48:57+00:00</td>\n      <td>ja</td>\n      <td>None</td>\n    </tr>\n    <tr>\n      <th>17</th>\n      <td>#Qatar2022</td>\n      <td>1594689323575779330</td>\n      <td>1572248555397464069</td>\n      <td>Mohammad Mokhtati also loved football. He was ...</td>\n      <td>0</td>\n      <td>0</td>\n      <td>0</td>\n      <td>0</td>\n      <td>2022-11-21 13:48:57+00:00</td>\n      <td>en</td>\n      <td>None</td>\n    </tr>\n    <tr>\n      <th>18</th>\n      <td>#Qatar2022</td>\n      <td>1594689323517247489</td>\n      <td>1257215644740857858</td>\n      <td>It's England's opening 3 goals being scored by...</td>\n      <td>0</td>\n      <td>0</td>\n      <td>0</td>\n      <td>0</td>\n      <td>2022-11-21 13:48:57+00:00</td>\n      <td>en</td>\n      <td>None</td>\n    </tr>\n    <tr>\n      <th>19</th>\n      <td>#Qatar2022</td>\n      <td>1594689323357671424</td>\n      <td>744673274</td>\n      <td>⚽ 45' | GOL DE STERLING #Inglaterra 🏴󠁧󠁢󠁥󠁮󠁧󠁿 3-...</td>\n      <td>0</td>\n      <td>0</td>\n      <td>0</td>\n      <td>0</td>\n      <td>2022-11-21 13:48:57+00:00</td>\n      <td>nl</td>\n      <td>None</td>\n    </tr>\n    <tr>\n      <th>0</th>\n      <td>#QatarWorldCup2022</td>\n      <td>1594689322015674377</td>\n      <td>1486192799078916097</td>\n      <td>Juega muy Bien esta Inglaterra 🥰\\n#FIFAWorldCu...</td>\n      <td>0</td>\n      <td>0</td>\n      <td>0</td>\n      <td>0</td>\n      <td>2022-11-21 13:48:56+00:00</td>\n      <td>es</td>\n      <td>None</td>\n    </tr>\n    <tr>\n      <th>1</th>\n      <td>#QatarWorldCup2022</td>\n      <td>1594689321822433281</td>\n      <td>1579287543736340480</td>\n      <td>FIFA World Cup Qatar 2022 !! England vs Iran L...</td>\n      <td>0</td>\n      <td>0</td>\n      <td>0</td>\n      <td>0</td>\n      <td>2022-11-21 13:48:56+00:00</td>\n      <td>en</td>\n      <td>None</td>\n    </tr>\n    <tr>\n      <th>2</th>\n      <td>#QatarWorldCup2022</td>\n      <td>1594689321797357568</td>\n      <td>1578295605243383809</td>\n      <td>@footballdaily @3LionsOnMaShirt \\n\\nSay her na...</td>\n      <td>0</td>\n      <td>0</td>\n      <td>0</td>\n      <td>0</td>\n      <td>2022-11-21 13:48:56+00:00</td>\n      <td>en</td>\n      <td>[278038673, 1571546683556626438]</td>\n    </tr>\n    <tr>\n      <th>3</th>\n      <td>#QatarWorldCup2022</td>\n      <td>1594689321650786304</td>\n      <td>1552710950205136896</td>\n      <td>Que time horrível, esse do Iran kkkkk\\n\\n#Copa...</td>\n      <td>0</td>\n      <td>0</td>\n      <td>0</td>\n      <td>0</td>\n      <td>2022-11-21 13:48:56+00:00</td>\n      <td>pt</td>\n      <td>None</td>\n    </tr>\n    <tr>\n      <th>4</th>\n      <td>#QatarWorldCup2022</td>\n      <td>1594689321638178816</td>\n      <td>1432619663788290049</td>\n      <td>Le temps additionnel, c'est une mi-temps\\n #an...</td>\n      <td>0</td>\n      <td>0</td>\n      <td>0</td>\n      <td>0</td>\n      <td>2022-11-21 13:48:56+00:00</td>\n      <td>fr</td>\n      <td>None</td>\n    </tr>\n    <tr>\n      <th>5</th>\n      <td>#QatarWorldCup2022</td>\n      <td>1594689321105346560</td>\n      <td>520970595</td>\n      <td>Ojo con Inglaterra que hoy puede meter al meno...</td>\n      <td>0</td>\n      <td>0</td>\n      <td>0</td>\n      <td>0</td>\n      <td>2022-11-21 13:48:56+00:00</td>\n      <td>es</td>\n      <td>None</td>\n    </tr>\n    <tr>\n      <th>6</th>\n      <td>#QatarWorldCup2022</td>\n      <td>1594689320685867012</td>\n      <td>1537404126145007617</td>\n      <td>England vs Iran (Live)                      \\n...</td>\n      <td>0</td>\n      <td>0</td>\n      <td>0</td>\n      <td>0</td>\n      <td>2022-11-21 13:48:56+00:00</td>\n      <td>en</td>\n      <td>None</td>\n    </tr>\n    <tr>\n      <th>7</th>\n      <td>#QatarWorldCup2022</td>\n      <td>1594689319964659712</td>\n      <td>1141762709274472454</td>\n      <td>Complete dominance by the three lions ... #ENG...</td>\n      <td>0</td>\n      <td>0</td>\n      <td>0</td>\n      <td>0</td>\n      <td>2022-11-21 13:48:56+00:00</td>\n      <td>en</td>\n      <td>None</td>\n    </tr>\n    <tr>\n      <th>8</th>\n      <td>#QatarWorldCup2022</td>\n      <td>1594689319880781825</td>\n      <td>1588175502891941890</td>\n      <td>⚽ Watch Qatar FIFA World Cup 2022 England vs I...</td>\n      <td>0</td>\n      <td>0</td>\n      <td>0</td>\n      <td>0</td>\n      <td>2022-11-21 13:48:56+00:00</td>\n      <td>en</td>\n      <td>None</td>\n    </tr>\n    <tr>\n      <th>9</th>\n      <td>#QatarWorldCup2022</td>\n      <td>1594689319834361858</td>\n      <td>1437092812470771718</td>\n      <td>سورئال‌ترین لحظات فوتبال ایران رو شاهد هستیم. ...</td>\n      <td>0</td>\n      <td>0</td>\n      <td>0</td>\n      <td>0</td>\n      <td>2022-11-21 13:48:56+00:00</td>\n      <td>fa</td>\n      <td>None</td>\n    </tr>\n    <tr>\n      <th>10</th>\n      <td>#Qatar2022</td>\n      <td>1594689326373388295</td>\n      <td>331284105</td>\n      <td>Y llegó el tercero!!! Gooooooool de @sterling7...</td>\n      <td>0</td>\n      <td>0</td>\n      <td>0</td>\n      <td>0</td>\n      <td>2022-11-21 13:48:57+00:00</td>\n      <td>es</td>\n      <td>[627491854]</td>\n    </tr>\n    <tr>\n      <th>11</th>\n      <td>#Qatar2022</td>\n      <td>1594689325643755520</td>\n      <td>4408004861</td>\n      <td>#ENG  3-0 #IRN  \\n\\nAquello que parecía difíci...</td>\n      <td>0</td>\n      <td>0</td>\n      <td>0</td>\n      <td>0</td>\n      <td>2022-11-21 13:48:57+00:00</td>\n      <td>es</td>\n      <td>None</td>\n    </tr>\n    <tr>\n      <th>12</th>\n      <td>#Qatar2022</td>\n      <td>1594689325605625856</td>\n      <td>1064014662881013762</td>\n      <td>イングランド🏴󠁧󠁢󠁥󠁮󠁧󠁿3点目\\n綺麗なカウンター決まったね。\\nケインのクロスとそれに合...</td>\n      <td>0</td>\n      <td>0</td>\n      <td>0</td>\n      <td>0</td>\n      <td>2022-11-21 13:48:57+00:00</td>\n      <td>ja</td>\n      <td>None</td>\n    </tr>\n    <tr>\n      <th>13</th>\n      <td>#Qatar2022</td>\n      <td>1594689325194584064</td>\n      <td>2913426844</td>\n      <td>EN VIVO Inglaterra ya gana 3 a 0 a Irán #Qatar...</td>\n      <td>0</td>\n      <td>0</td>\n      <td>0</td>\n      <td>0</td>\n      <td>2022-11-21 13:48:57+00:00</td>\n      <td>es</td>\n      <td>None</td>\n    </tr>\n    <tr>\n      <th>14</th>\n      <td>#Qatar2022</td>\n      <td>1594689325136056327</td>\n      <td>131646000</td>\n      <td>Inglaterra no me va a decepcionar, hoy no❤️❤️❤...</td>\n      <td>0</td>\n      <td>0</td>\n      <td>0</td>\n      <td>0</td>\n      <td>2022-11-21 13:48:57+00:00</td>\n      <td>es</td>\n      <td>None</td>\n    </tr>\n    <tr>\n      <th>15</th>\n      <td>#Qatar2022</td>\n      <td>1594689324460957699</td>\n      <td>1316092310</td>\n      <td>ふざけたロスタイム２つ分 #FIFAWorldCup #Qatar2022 #ENGIRN</td>\n      <td>0</td>\n      <td>0</td>\n      <td>0</td>\n      <td>0</td>\n      <td>2022-11-21 13:48:57+00:00</td>\n      <td>ja</td>\n      <td>None</td>\n    </tr>\n    <tr>\n      <th>16</th>\n      <td>#Qatar2022</td>\n      <td>1594689323831820288</td>\n      <td>14733864</td>\n      <td>AT14minもあるのか\\n#ワールドカップ #fifaworldcup #worldcup...</td>\n      <td>0</td>\n      <td>0</td>\n      <td>0</td>\n      <td>0</td>\n      <td>2022-11-21 13:48:57+00:00</td>\n      <td>ja</td>\n      <td>None</td>\n    </tr>\n    <tr>\n      <th>17</th>\n      <td>#Qatar2022</td>\n      <td>1594689323575779330</td>\n      <td>1572248555397464069</td>\n      <td>Mohammad Mokhtati also loved football. He was ...</td>\n      <td>0</td>\n      <td>0</td>\n      <td>0</td>\n      <td>0</td>\n      <td>2022-11-21 13:48:57+00:00</td>\n      <td>en</td>\n      <td>None</td>\n    </tr>\n    <tr>\n      <th>18</th>\n      <td>#Qatar2022</td>\n      <td>1594689323517247489</td>\n      <td>1257215644740857858</td>\n      <td>It's England's opening 3 goals being scored by...</td>\n      <td>0</td>\n      <td>0</td>\n      <td>0</td>\n      <td>0</td>\n      <td>2022-11-21 13:48:57+00:00</td>\n      <td>en</td>\n      <td>None</td>\n    </tr>\n    <tr>\n      <th>19</th>\n      <td>#Qatar2022</td>\n      <td>1594689323357671424</td>\n      <td>744673274</td>\n      <td>⚽ 45' | GOL DE STERLING #Inglaterra 🏴󠁧󠁢󠁥󠁮󠁧󠁿 3-...</td>\n      <td>0</td>\n      <td>0</td>\n      <td>0</td>\n      <td>0</td>\n      <td>2022-11-21 13:48:57+00:00</td>\n      <td>nl</td>\n      <td>None</td>\n    </tr>\n    <tr>\n      <th>20</th>\n      <td>#FIFAWorldCup</td>\n      <td>1594689326515896329</td>\n      <td>352528182</td>\n      <td>The floodgates have flung open, England are th...</td>\n      <td>0</td>\n      <td>0</td>\n      <td>0</td>\n      <td>0</td>\n      <td>2022-11-21 13:48:57+00:00</td>\n      <td>en</td>\n      <td>None</td>\n    </tr>\n    <tr>\n      <th>21</th>\n      <td>#FIFAWorldCup</td>\n      <td>1594689326465835008</td>\n      <td>1116709877886226437</td>\n      <td>#England #Iran  #FIFAWorldCup #QatarWorldCup20...</td>\n      <td>0</td>\n      <td>0</td>\n      <td>0</td>\n      <td>0</td>\n      <td>2022-11-21 13:48:57+00:00</td>\n      <td>en</td>\n      <td>None</td>\n    </tr>\n    <tr>\n      <th>22</th>\n      <td>#FIFAWorldCup</td>\n      <td>1594689326373388295</td>\n      <td>331284105</td>\n      <td>Y llegó el tercero!!! Gooooooool de @sterling7...</td>\n      <td>0</td>\n      <td>0</td>\n      <td>0</td>\n      <td>0</td>\n      <td>2022-11-21 13:48:57+00:00</td>\n      <td>es</td>\n      <td>[627491854]</td>\n    </tr>\n    <tr>\n      <th>23</th>\n      <td>#FIFAWorldCup</td>\n      <td>1594689326251929601</td>\n      <td>1527997997807595520</td>\n      <td>💥🤜fubo   TV &amp;amp; Live Stream🤛💥🔥\\n\\n📺 FIFA WOR...</td>\n      <td>0</td>\n      <td>0</td>\n      <td>0</td>\n      <td>0</td>\n      <td>2022-11-21 13:48:57+00:00</td>\n      <td>en</td>\n      <td>None</td>\n    </tr>\n    <tr>\n      <th>24</th>\n      <td>#FIFAWorldCup</td>\n      <td>1594689326180352001</td>\n      <td>15324060</td>\n      <td>Goals from Bellingham, Saka and Sterling put @...</td>\n      <td>0</td>\n      <td>0</td>\n      <td>0</td>\n      <td>0</td>\n      <td>2022-11-21 13:48:57+00:00</td>\n      <td>en</td>\n      <td>[1903382054]</td>\n    </tr>\n    <tr>\n      <th>25</th>\n      <td>#FIFAWorldCup</td>\n      <td>1594689325874176006</td>\n      <td>968631815798968321</td>\n      <td>So it turns out we are actually quite good. #E...</td>\n      <td>0</td>\n      <td>0</td>\n      <td>0</td>\n      <td>0</td>\n      <td>2022-11-21 13:48:57+00:00</td>\n      <td>en</td>\n      <td>None</td>\n    </tr>\n    <tr>\n      <th>26</th>\n      <td>#FIFAWorldCup</td>\n      <td>1594689325740040198</td>\n      <td>1021482631735791618</td>\n      <td>No one's talking about the 6,500 migrant worke...</td>\n      <td>0</td>\n      <td>0</td>\n      <td>0</td>\n      <td>0</td>\n      <td>2022-11-21 13:48:57+00:00</td>\n      <td>en</td>\n      <td>None</td>\n    </tr>\n    <tr>\n      <th>27</th>\n      <td>#FIFAWorldCup</td>\n      <td>1594689325643755520</td>\n      <td>4408004861</td>\n      <td>#ENG  3-0 #IRN  \\n\\nAquello que parecía difíci...</td>\n      <td>0</td>\n      <td>0</td>\n      <td>0</td>\n      <td>0</td>\n      <td>2022-11-21 13:48:57+00:00</td>\n      <td>es</td>\n      <td>None</td>\n    </tr>\n    <tr>\n      <th>28</th>\n      <td>#FIFAWorldCup</td>\n      <td>1594689325639221248</td>\n      <td>871317248715087872</td>\n      <td>#FIFAWorldCup 　＃イングランド 前半だけで3-0。シュートが上手い。イランは５...</td>\n      <td>0</td>\n      <td>0</td>\n      <td>0</td>\n      <td>0</td>\n      <td>2022-11-21 13:48:57+00:00</td>\n      <td>ja</td>\n      <td>None</td>\n    </tr>\n    <tr>\n      <th>29</th>\n      <td>#FIFAWorldCup</td>\n      <td>1594689325605625856</td>\n      <td>1064014662881013762</td>\n      <td>イングランド🏴󠁧󠁢󠁥󠁮󠁧󠁿3点目\\n綺麗なカウンター決まったね。\\nケインのクロスとそれに合...</td>\n      <td>0</td>\n      <td>0</td>\n      <td>0</td>\n      <td>0</td>\n      <td>2022-11-21 13:48:57+00:00</td>\n      <td>ja</td>\n      <td>None</td>\n    </tr>\n  </tbody>\n</table>\n</div>"
     },
     "execution_count": 11,
     "metadata": {},
     "output_type": "execute_result"
    }
   ],
   "source": [
    "tweets_df"
   ],
   "metadata": {
    "collapsed": false,
    "pycharm": {
     "name": "#%%\n"
    }
   }
  },
  {
   "cell_type": "code",
   "execution_count": 12,
   "outputs": [
    {
     "data": {
      "text/plain": "                     id         username                created_at  \\\n0   1486192799078916097  OscarRu31381192 2022-01-26 04:22:48+00:00   \n1   1579287543736340480  LiverpoolSport1 2022-10-10 01:48:07+00:00   \n2   1578295605243383809     ShireenMKMA1 2022-10-07 08:07:44+00:00   \n3             278038673    footballdaily 2011-04-06 13:48:45+00:00   \n4   1571546683556626438  3LionsOnMaShirt 2022-09-18 17:08:28+00:00   \n..                  ...              ...                       ...   \n30   968631815798968321   NickGoldingF1E 2018-02-27 23:39:55+00:00   \n31  1021482631735791618        PjstudioD 2018-07-23 19:50:12+00:00   \n32           4408004861     JorgeRubio99 2015-12-07 19:39:40+00:00   \n33   871317248715087872       doramanine 2017-06-04 10:46:35+00:00   \n34  1064014662881013762       R4xlYutako 2018-11-18 04:37:18+00:00   \n\n    followers_count  following_count  tweet_count  protected  verified  \n0                 0               27           20      False     False  \n1                 1               12           85      False     False  \n2               124              814         1734      False     False  \n3            563021             1234        85930      False      True  \n4              1119             1558          511      False     False  \n..              ...              ...          ...        ...       ...  \n30              241              537         2746      False     False  \n31               11               62          748      False     False  \n32              607             1338         9823      False     False  \n33              974              845        33336      False     False  \n34             2792             4017         9009      False     False  \n\n[70 rows x 8 columns]",
      "text/html": "<div>\n<style scoped>\n    .dataframe tbody tr th:only-of-type {\n        vertical-align: middle;\n    }\n\n    .dataframe tbody tr th {\n        vertical-align: top;\n    }\n\n    .dataframe thead th {\n        text-align: right;\n    }\n</style>\n<table border=\"1\" class=\"dataframe\">\n  <thead>\n    <tr style=\"text-align: right;\">\n      <th></th>\n      <th>id</th>\n      <th>username</th>\n      <th>created_at</th>\n      <th>followers_count</th>\n      <th>following_count</th>\n      <th>tweet_count</th>\n      <th>protected</th>\n      <th>verified</th>\n    </tr>\n  </thead>\n  <tbody>\n    <tr>\n      <th>0</th>\n      <td>1486192799078916097</td>\n      <td>OscarRu31381192</td>\n      <td>2022-01-26 04:22:48+00:00</td>\n      <td>0</td>\n      <td>27</td>\n      <td>20</td>\n      <td>False</td>\n      <td>False</td>\n    </tr>\n    <tr>\n      <th>1</th>\n      <td>1579287543736340480</td>\n      <td>LiverpoolSport1</td>\n      <td>2022-10-10 01:48:07+00:00</td>\n      <td>1</td>\n      <td>12</td>\n      <td>85</td>\n      <td>False</td>\n      <td>False</td>\n    </tr>\n    <tr>\n      <th>2</th>\n      <td>1578295605243383809</td>\n      <td>ShireenMKMA1</td>\n      <td>2022-10-07 08:07:44+00:00</td>\n      <td>124</td>\n      <td>814</td>\n      <td>1734</td>\n      <td>False</td>\n      <td>False</td>\n    </tr>\n    <tr>\n      <th>3</th>\n      <td>278038673</td>\n      <td>footballdaily</td>\n      <td>2011-04-06 13:48:45+00:00</td>\n      <td>563021</td>\n      <td>1234</td>\n      <td>85930</td>\n      <td>False</td>\n      <td>True</td>\n    </tr>\n    <tr>\n      <th>4</th>\n      <td>1571546683556626438</td>\n      <td>3LionsOnMaShirt</td>\n      <td>2022-09-18 17:08:28+00:00</td>\n      <td>1119</td>\n      <td>1558</td>\n      <td>511</td>\n      <td>False</td>\n      <td>False</td>\n    </tr>\n    <tr>\n      <th>...</th>\n      <td>...</td>\n      <td>...</td>\n      <td>...</td>\n      <td>...</td>\n      <td>...</td>\n      <td>...</td>\n      <td>...</td>\n      <td>...</td>\n    </tr>\n    <tr>\n      <th>30</th>\n      <td>968631815798968321</td>\n      <td>NickGoldingF1E</td>\n      <td>2018-02-27 23:39:55+00:00</td>\n      <td>241</td>\n      <td>537</td>\n      <td>2746</td>\n      <td>False</td>\n      <td>False</td>\n    </tr>\n    <tr>\n      <th>31</th>\n      <td>1021482631735791618</td>\n      <td>PjstudioD</td>\n      <td>2018-07-23 19:50:12+00:00</td>\n      <td>11</td>\n      <td>62</td>\n      <td>748</td>\n      <td>False</td>\n      <td>False</td>\n    </tr>\n    <tr>\n      <th>32</th>\n      <td>4408004861</td>\n      <td>JorgeRubio99</td>\n      <td>2015-12-07 19:39:40+00:00</td>\n      <td>607</td>\n      <td>1338</td>\n      <td>9823</td>\n      <td>False</td>\n      <td>False</td>\n    </tr>\n    <tr>\n      <th>33</th>\n      <td>871317248715087872</td>\n      <td>doramanine</td>\n      <td>2017-06-04 10:46:35+00:00</td>\n      <td>974</td>\n      <td>845</td>\n      <td>33336</td>\n      <td>False</td>\n      <td>False</td>\n    </tr>\n    <tr>\n      <th>34</th>\n      <td>1064014662881013762</td>\n      <td>R4xlYutako</td>\n      <td>2018-11-18 04:37:18+00:00</td>\n      <td>2792</td>\n      <td>4017</td>\n      <td>9009</td>\n      <td>False</td>\n      <td>False</td>\n    </tr>\n  </tbody>\n</table>\n<p>70 rows × 8 columns</p>\n</div>"
     },
     "execution_count": 12,
     "metadata": {},
     "output_type": "execute_result"
    }
   ],
   "source": [
    "users_df"
   ],
   "metadata": {
    "collapsed": false,
    "pycharm": {
     "name": "#%%\n"
    }
   }
  },
  {
   "cell_type": "code",
   "execution_count": 13,
   "outputs": [],
   "source": [
    "tweets_df.to_csv(f'./data/{theme}/tweets.csv', mode='a', index=False, header=False)\n",
    "users_df.to_csv(f'./data/{theme}/users.csv', mode='a', index=False, header=False)"
   ],
   "metadata": {
    "collapsed": false,
    "pycharm": {
     "name": "#%%\n"
    }
   }
  }
 ],
 "metadata": {
  "kernelspec": {
   "display_name": "Python 3",
   "language": "python",
   "name": "python3"
  },
  "language_info": {
   "codemirror_mode": {
    "name": "ipython",
    "version": 2
   },
   "file_extension": ".py",
   "mimetype": "text/x-python",
   "name": "python",
   "nbconvert_exporter": "python",
   "pygments_lexer": "ipython2",
   "version": "2.7.6"
  }
 },
 "nbformat": 4,
 "nbformat_minor": 0
}