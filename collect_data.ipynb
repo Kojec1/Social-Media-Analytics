{
 "cells": [
  {
   "cell_type": "code",
   "execution_count": 1,
   "outputs": [],
   "source": [
    "import pandas as pd\n",
    "import tweepy\n",
    "import json"
   ],
   "metadata": {
    "collapsed": false,
    "pycharm": {
     "name": "#%%\n"
    }
   }
  },
  {
   "cell_type": "code",
   "execution_count": 2,
   "outputs": [],
   "source": [
    "theme = 'WorldCup'"
   ],
   "metadata": {
    "collapsed": false,
    "pycharm": {
     "name": "#%%\n"
    }
   }
  },
  {
   "cell_type": "code",
   "execution_count": 3,
   "outputs": [],
   "source": [
    "with open(\"credentials.json\") as f:\n",
    "    credentials = json.load(f)"
   ],
   "metadata": {
    "collapsed": false,
    "pycharm": {
     "name": "#%%\n"
    }
   }
  },
  {
   "cell_type": "code",
   "execution_count": 4,
   "outputs": [],
   "source": [
    "client = tweepy.Client(bearer_token=credentials['BEARER_TOKEN'])"
   ],
   "metadata": {
    "collapsed": false,
    "pycharm": {
     "name": "#%%\n"
    }
   }
  },
  {
   "cell_type": "code",
   "execution_count": 5,
   "outputs": [],
   "source": [
    "tweets_df = pd.DataFrame()\n",
    "users_df = pd.DataFrame()"
   ],
   "metadata": {
    "collapsed": false,
    "pycharm": {
     "name": "#%%\n"
    }
   }
  },
  {
   "cell_type": "code",
   "execution_count": 6,
   "outputs": [],
   "source": [
    "queries = ['#QatarWorldCup2022', '#Qatar2022', '#FIFAWorldCup']"
   ],
   "metadata": {
    "collapsed": false,
    "pycharm": {
     "name": "#%%\n"
    }
   }
  },
  {
   "cell_type": "code",
   "execution_count": 7,
   "outputs": [],
   "source": [
    "indices = pd.read_csv(f'./data/{theme}/tweets.csv', usecols=['id'])"
   ],
   "metadata": {
    "collapsed": false,
    "pycharm": {
     "name": "#%%\n"
    }
   }
  },
  {
   "cell_type": "code",
   "execution_count": 9,
   "outputs": [],
   "source": [
    "params = {\n",
    "    'max_results': 10,\n",
    "    'limit': 1,\n",
    "    'tweet_fields': ['id', 'text', 'public_metrics', 'author_id', 'created_at', 'lang'],\n",
    "    'user_fields': ['username', 'created_at', 'public_metrics', 'protected', 'verified'],\n",
    "    'expansions': ['author_id', 'entities.mentions.username'],\n",
    "    'since_id': indices.max()\n",
    "}"
   ],
   "metadata": {
    "collapsed": false,
    "pycharm": {
     "name": "#%%\n"
    }
   }
  },
  {
   "cell_type": "code",
   "execution_count": 10,
   "outputs": [],
   "source": [
    "tweet_list = list()\n",
    "users_list = list()"
   ],
   "metadata": {
    "collapsed": false,
    "pycharm": {
     "name": "#%%\n"
    }
   }
  },
  {
   "cell_type": "code",
   "execution_count": 11,
   "outputs": [],
   "source": [
    "for query in queries:\n",
    "    try:\n",
    "        for chunk in tweepy.Paginator(client.search_recent_tweets, query=f'{query} -is:retweet', **params):\n",
    "            for tweets in chunk.data:\n",
    "                tweet = [query,\n",
    "                         tweets.id,\n",
    "                         tweets.author_id,\n",
    "                         tweets.text,\n",
    "                         tweets.public_metrics['like_count'],\n",
    "                         tweets.public_metrics['reply_count'],\n",
    "                         tweets.public_metrics['retweet_count'],\n",
    "                         tweets.public_metrics['quote_count'],\n",
    "                         tweets.created_at,\n",
    "                         tweets.lang]\n",
    "\n",
    "                mentions = None\n",
    "                if tweets.entities is not None:\n",
    "                    mentions = [mention['id'] for mention in tweets.entities['mentions']]\n",
    "                tweet.append(mentions)\n",
    "\n",
    "                tweet_list.append(tweet)\n",
    "\n",
    "            for user in chunk.includes['users']:\n",
    "                users_list.append([user.id,\n",
    "                                   user.username,\n",
    "                                   user.created_at,\n",
    "                                   user.public_metrics['followers_count'],\n",
    "                                   user.public_metrics['following_count'],\n",
    "                                   user.public_metrics['tweet_count'],\n",
    "                                   user.protected,\n",
    "                                   user.verified])\n",
    "\n",
    "        temp_tweets = pd.DataFrame(tweet_list,\n",
    "                                   columns=['hashtag', 'id', 'author_id', 'text', 'like_count', 'reply_count',\n",
    "                                            'retweet_count',\n",
    "                                            'quote_count',\n",
    "                                            'created_at', 'lang', 'mentions'])\n",
    "        temp_users = pd.DataFrame(users_list,\n",
    "                                  columns=['id', 'username', 'created_at', 'followers_count', 'following_count',\n",
    "                                           'tweet_count', 'protected', 'verified'])\n",
    "\n",
    "        tweets_df = pd.concat([tweets_df, temp_tweets])\n",
    "        users_df = pd.concat([users_df, temp_users])\n",
    "    except tweepy.TooManyRequests:\n",
    "        print('WARNING: Tweet download stopped due to TooManyRequest exception. Wait 15 minutes...')\n",
    "        break"
   ],
   "metadata": {
    "collapsed": false,
    "pycharm": {
     "name": "#%%\n"
    }
   }
  },
  {
   "cell_type": "code",
   "execution_count": 12,
   "outputs": [
    {
     "data": {
      "text/plain": "               hashtag                   id            author_id  \\\n0   #QatarWorldCup2022  1594660681584103429           2680000970   \n1   #QatarWorldCup2022  1594660657060020224  1289554949358202880   \n2   #QatarWorldCup2022  1594660649769914368            334492893   \n3   #QatarWorldCup2022  1594660644565188608           2680000970   \n4   #QatarWorldCup2022  1594660643483045888            711683478   \n5   #QatarWorldCup2022  1594660621781540864            246769710   \n6   #QatarWorldCup2022  1594660609207205889           2680000970   \n7   #QatarWorldCup2022  1594660595638599682           2680000970   \n8   #QatarWorldCup2022  1594660579104673792  1564911227926716416   \n9   #QatarWorldCup2022  1594660555352313857           2680000970   \n0   #QatarWorldCup2022  1594660681584103429           2680000970   \n1   #QatarWorldCup2022  1594660657060020224  1289554949358202880   \n2   #QatarWorldCup2022  1594660649769914368            334492893   \n3   #QatarWorldCup2022  1594660644565188608           2680000970   \n4   #QatarWorldCup2022  1594660643483045888            711683478   \n5   #QatarWorldCup2022  1594660621781540864            246769710   \n6   #QatarWorldCup2022  1594660609207205889           2680000970   \n7   #QatarWorldCup2022  1594660595638599682           2680000970   \n8   #QatarWorldCup2022  1594660579104673792  1564911227926716416   \n9   #QatarWorldCup2022  1594660555352313857           2680000970   \n10          #Qatar2022  1594660686847787009  1540834703254634496   \n11          #Qatar2022  1594660686621089792   874101679569993728   \n12          #Qatar2022  1594660685908410373  1284831605828341762   \n13          #Qatar2022  1594660685635784704  1365044429531283458   \n14          #Qatar2022  1594660685383860224  1572171224750473216   \n15          #Qatar2022  1594660683245051905  1411102012972974083   \n16          #Qatar2022  1594660683035168768  1572827796040212482   \n17          #Qatar2022  1594660682695593984  1515519913074569217   \n18          #Qatar2022  1594660680011063298             66350748   \n19          #Qatar2022  1594660677901340674  1521113854691979264   \n0   #QatarWorldCup2022  1594660681584103429           2680000970   \n1   #QatarWorldCup2022  1594660657060020224  1289554949358202880   \n2   #QatarWorldCup2022  1594660649769914368            334492893   \n3   #QatarWorldCup2022  1594660644565188608           2680000970   \n4   #QatarWorldCup2022  1594660643483045888            711683478   \n5   #QatarWorldCup2022  1594660621781540864            246769710   \n6   #QatarWorldCup2022  1594660609207205889           2680000970   \n7   #QatarWorldCup2022  1594660595638599682           2680000970   \n8   #QatarWorldCup2022  1594660579104673792  1564911227926716416   \n9   #QatarWorldCup2022  1594660555352313857           2680000970   \n10          #Qatar2022  1594660686847787009  1540834703254634496   \n11          #Qatar2022  1594660686621089792   874101679569993728   \n12          #Qatar2022  1594660685908410373  1284831605828341762   \n13          #Qatar2022  1594660685635784704  1365044429531283458   \n14          #Qatar2022  1594660685383860224  1572171224750473216   \n15          #Qatar2022  1594660683245051905  1411102012972974083   \n16          #Qatar2022  1594660683035168768  1572827796040212482   \n17          #Qatar2022  1594660682695593984  1515519913074569217   \n18          #Qatar2022  1594660680011063298             66350748   \n19          #Qatar2022  1594660677901340674  1521113854691979264   \n20       #FIFAWorldCup  1594660686918991872  1578784627690455040   \n21       #FIFAWorldCup  1594660686847787009  1540834703254634496   \n22       #FIFAWorldCup  1594660685908410373  1284831605828341762   \n23       #FIFAWorldCup  1594660685635784704  1365044429531283458   \n24       #FIFAWorldCup  1594660685383729152   833218771271639041   \n25       #FIFAWorldCup  1594660683429330949  1228199433893863426   \n26       #FIFAWorldCup  1594660682758234113  1295980556291911680   \n27       #FIFAWorldCup  1594660680879276036             45316270   \n28       #FIFAWorldCup  1594660680011063298             66350748   \n29       #FIFAWorldCup  1594660679931555841  1201744841048117251   \n\n                                                 text  like_count  \\\n0   Be our voice #sarinaesmailzadeh is not with us...           0   \n1   #BREAKING\\nSo far 40 people have died in the 5...           0   \n2   🚨 RESMI! Timnas Inggris, Jerman, Belanda, dll ...           0   \n3   Be our voice #sarinaesmailzadeh is not with us...           0   \n4       @piersmorgan #FIFAWorldCup #QatarWorldCup2022           0   \n5   #Qatar2022 #QatarWorldCup2022 #Katar\\n#WM2022 ...           0   \n6   Be our voice #sarinaesmailzadeh is not with us...           0   \n7   Be our voice #sarinaesmailzadeh is not with us...           0   \n8   صور الشاشة وتوقع نتيجة مباراة #إنجلترا 🏴󠁧󠁢󠁥󠁮󠁧󠁿...           0   \n9   Be our voice #sarinaesmailzadeh is not with us...           0   \n0   Be our voice #sarinaesmailzadeh is not with us...           0   \n1   #BREAKING\\nSo far 40 people have died in the 5...           0   \n2   🚨 RESMI! Timnas Inggris, Jerman, Belanda, dll ...           0   \n3   Be our voice #sarinaesmailzadeh is not with us...           0   \n4       @piersmorgan #FIFAWorldCup #QatarWorldCup2022           0   \n5   #Qatar2022 #QatarWorldCup2022 #Katar\\n#WM2022 ...           0   \n6   Be our voice #sarinaesmailzadeh is not with us...           0   \n7   Be our voice #sarinaesmailzadeh is not with us...           0   \n8   صور الشاشة وتوقع نتيجة مباراة #إنجلترا 🏴󠁧󠁢󠁥󠁮󠁧󠁿...           0   \n9   Be our voice #sarinaesmailzadeh is not with us...           0   \n10  احلي قرار اتعمل و احلى قطر 🇶🇦 \\n#FIFAWorldCup ...           0   \n11  @FIFAWorldCup #Javanrud\\n#Qatar2022   \\n#ENGIR...           0   \n12  @Hengaw_English @HengawO @INTERPOL_HQ @IntlCri...           0   \n13  If you're going to watch #ENGIRN at the stadiu...           0   \n14  اشکان سهرابی\\nکشته شده در تاریخ 20 ژوئن 2009 (...           0   \n15  #Niloofar_Hamedi, 30 years old imprisoned Spor...           0   \n16  While the regime's football team is playing in...           0   \n17  The IR is shooting at Javanroud civilians atte...           0   \n18  @SkySportsPL Sports should only be about beati...           0   \n19  Nika Shakarami also loved football, but she wa...           0   \n0   Be our voice #sarinaesmailzadeh is not with us...           0   \n1   #BREAKING\\nSo far 40 people have died in the 5...           0   \n2   🚨 RESMI! Timnas Inggris, Jerman, Belanda, dll ...           0   \n3   Be our voice #sarinaesmailzadeh is not with us...           0   \n4       @piersmorgan #FIFAWorldCup #QatarWorldCup2022           0   \n5   #Qatar2022 #QatarWorldCup2022 #Katar\\n#WM2022 ...           0   \n6   Be our voice #sarinaesmailzadeh is not with us...           0   \n7   Be our voice #sarinaesmailzadeh is not with us...           0   \n8   صور الشاشة وتوقع نتيجة مباراة #إنجلترا 🏴󠁧󠁢󠁥󠁮󠁧󠁿...           0   \n9   Be our voice #sarinaesmailzadeh is not with us...           0   \n10  احلي قرار اتعمل و احلى قطر 🇶🇦 \\n#FIFAWorldCup ...           0   \n11  @FIFAWorldCup #Javanrud\\n#Qatar2022   \\n#ENGIR...           0   \n12  @Hengaw_English @HengawO @INTERPOL_HQ @IntlCri...           0   \n13  If you're going to watch #ENGIRN at the stadiu...           0   \n14  اشکان سهرابی\\nکشته شده در تاریخ 20 ژوئن 2009 (...           0   \n15  #Niloofar_Hamedi, 30 years old imprisoned Spor...           0   \n16  While the regime's football team is playing in...           0   \n17  The IR is shooting at Javanroud civilians atte...           0   \n18  @SkySportsPL Sports should only be about beati...           0   \n19  Nika Shakarami also loved football, but she wa...           0   \n20  @__Injaneb96 ¡Necesitamos ayuda inmediata!\\n\\n...           0   \n21  احلي قرار اتعمل و احلى قطر 🇶🇦 \\n#FIFAWorldCup ...           0   \n22  @Hengaw_English @HengawO @INTERPOL_HQ @IntlCri...           0   \n23  If you're going to watch #ENGIRN at the stadiu...           0   \n24  ⚽️LIVE HD STREAMS 🔥\\n\\n• England vs Iran\\n• Ir...           0   \n25  @kucoincom #kucoin keeping up the hype for #FI...           0   \n26  Such a criminal should have been jailed for li...           0   \n27  How does mount start over Maddison 🫣 #FIFAWorl...           0   \n28  @SkySportsPL Sports should only be about beati...           0   \n29  @chartdata @BTS_twt #JungKook of @BTS_twt's \"D...           0   \n\n    reply_count  retweet_count  quote_count                created_at lang  \\\n0             0              0            0 2022-11-21 11:55:08+00:00   en   \n1             0              0            0 2022-11-21 11:55:02+00:00   en   \n2             0              0            0 2022-11-21 11:55:00+00:00   in   \n3             0              0            0 2022-11-21 11:54:59+00:00   en   \n4             0              0            0 2022-11-21 11:54:59+00:00  qme   \n5             0              0            0 2022-11-21 11:54:54+00:00   de   \n6             0              0            0 2022-11-21 11:54:51+00:00   en   \n7             0              0            0 2022-11-21 11:54:48+00:00   en   \n8             0              0            0 2022-11-21 11:54:44+00:00   ar   \n9             0              0            0 2022-11-21 11:54:38+00:00   en   \n0             0              0            0 2022-11-21 11:55:08+00:00   en   \n1             0              0            0 2022-11-21 11:55:02+00:00   en   \n2             0              0            0 2022-11-21 11:55:00+00:00   in   \n3             0              0            0 2022-11-21 11:54:59+00:00   en   \n4             0              0            0 2022-11-21 11:54:59+00:00  qme   \n5             0              0            0 2022-11-21 11:54:54+00:00   de   \n6             0              0            0 2022-11-21 11:54:51+00:00   en   \n7             0              0            0 2022-11-21 11:54:48+00:00   en   \n8             0              0            0 2022-11-21 11:54:44+00:00   ar   \n9             0              0            0 2022-11-21 11:54:38+00:00   en   \n10            0              0            0 2022-11-21 11:55:09+00:00   ar   \n11            0              0            0 2022-11-21 11:55:09+00:00   en   \n12            0              0            0 2022-11-21 11:55:09+00:00   en   \n13            0              0            0 2022-11-21 11:55:09+00:00   en   \n14            0              0            0 2022-11-21 11:55:09+00:00   fa   \n15            0              0            0 2022-11-21 11:55:08+00:00   en   \n16            0              0            0 2022-11-21 11:55:08+00:00   en   \n17            0              0            0 2022-11-21 11:55:08+00:00   en   \n18            0              0            0 2022-11-21 11:55:08+00:00   en   \n19            0              0            0 2022-11-21 11:55:07+00:00   en   \n0             0              0            0 2022-11-21 11:55:08+00:00   en   \n1             0              0            0 2022-11-21 11:55:02+00:00   en   \n2             0              0            0 2022-11-21 11:55:00+00:00   in   \n3             0              0            0 2022-11-21 11:54:59+00:00   en   \n4             0              0            0 2022-11-21 11:54:59+00:00  qme   \n5             0              0            0 2022-11-21 11:54:54+00:00   de   \n6             0              0            0 2022-11-21 11:54:51+00:00   en   \n7             0              0            0 2022-11-21 11:54:48+00:00   en   \n8             0              0            0 2022-11-21 11:54:44+00:00   ar   \n9             0              0            0 2022-11-21 11:54:38+00:00   en   \n10            0              0            0 2022-11-21 11:55:09+00:00   ar   \n11            0              0            0 2022-11-21 11:55:09+00:00   en   \n12            0              0            0 2022-11-21 11:55:09+00:00   en   \n13            0              0            0 2022-11-21 11:55:09+00:00   en   \n14            0              0            0 2022-11-21 11:55:09+00:00   fa   \n15            0              0            0 2022-11-21 11:55:08+00:00   en   \n16            0              0            0 2022-11-21 11:55:08+00:00   en   \n17            0              0            0 2022-11-21 11:55:08+00:00   en   \n18            0              0            0 2022-11-21 11:55:08+00:00   en   \n19            0              0            0 2022-11-21 11:55:07+00:00   en   \n20            0              0            0 2022-11-21 11:55:09+00:00   es   \n21            0              0            0 2022-11-21 11:55:09+00:00   ar   \n22            0              0            0 2022-11-21 11:55:09+00:00   en   \n23            0              0            0 2022-11-21 11:55:09+00:00   en   \n24            0              0            0 2022-11-21 11:55:09+00:00   en   \n25            1              0            0 2022-11-21 11:55:08+00:00   en   \n26            0              0            0 2022-11-21 11:55:08+00:00   en   \n27            0              0            0 2022-11-21 11:55:08+00:00   en   \n28            0              0            0 2022-11-21 11:55:08+00:00   en   \n29            0              0            0 2022-11-21 11:55:08+00:00   en   \n\n                                             mentions  \n0                                                None  \n1                                                None  \n2                                                None  \n3                                                None  \n4                                         [216299334]  \n5                                                None  \n6                                                None  \n7                                                None  \n8                                                None  \n9                                                None  \n0                                                None  \n1                                                None  \n2                                                None  \n3                                                None  \n4                                         [216299334]  \n5                                                None  \n6                                                None  \n7                                                None  \n8                                                None  \n9                                                None  \n10                                               None  \n11                                        [138372303]  \n12  [1088926637469646848, 867126568451280896, 5064...  \n13                                               None  \n14                                               None  \n15                                               None  \n16                                               None  \n17                                               None  \n18                                        [713993413]  \n19                                               None  \n0                                                None  \n1                                                None  \n2                                                None  \n3                                                None  \n4                                         [216299334]  \n5                                                None  \n6                                                None  \n7                                                None  \n8                                                None  \n9                                                None  \n10                                               None  \n11                                        [138372303]  \n12  [1088926637469646848, 867126568451280896, 5064...  \n13                                               None  \n14                                               None  \n15                                               None  \n16                                               None  \n17                                               None  \n18                                        [713993413]  \n19                                               None  \n20                              [1108428545058054145]  \n21                                               None  \n22  [1088926637469646848, 867126568451280896, 5064...  \n23                                               None  \n24                                               None  \n25                               [910110294625492992]  \n26                                               None  \n27                                               None  \n28                                        [713993413]  \n29         [744260935527735296, 335141638, 335141638]  ",
      "text/html": "<div>\n<style scoped>\n    .dataframe tbody tr th:only-of-type {\n        vertical-align: middle;\n    }\n\n    .dataframe tbody tr th {\n        vertical-align: top;\n    }\n\n    .dataframe thead th {\n        text-align: right;\n    }\n</style>\n<table border=\"1\" class=\"dataframe\">\n  <thead>\n    <tr style=\"text-align: right;\">\n      <th></th>\n      <th>hashtag</th>\n      <th>id</th>\n      <th>author_id</th>\n      <th>text</th>\n      <th>like_count</th>\n      <th>reply_count</th>\n      <th>retweet_count</th>\n      <th>quote_count</th>\n      <th>created_at</th>\n      <th>lang</th>\n      <th>mentions</th>\n    </tr>\n  </thead>\n  <tbody>\n    <tr>\n      <th>0</th>\n      <td>#QatarWorldCup2022</td>\n      <td>1594660681584103429</td>\n      <td>2680000970</td>\n      <td>Be our voice #sarinaesmailzadeh is not with us...</td>\n      <td>0</td>\n      <td>0</td>\n      <td>0</td>\n      <td>0</td>\n      <td>2022-11-21 11:55:08+00:00</td>\n      <td>en</td>\n      <td>None</td>\n    </tr>\n    <tr>\n      <th>1</th>\n      <td>#QatarWorldCup2022</td>\n      <td>1594660657060020224</td>\n      <td>1289554949358202880</td>\n      <td>#BREAKING\\nSo far 40 people have died in the 5...</td>\n      <td>0</td>\n      <td>0</td>\n      <td>0</td>\n      <td>0</td>\n      <td>2022-11-21 11:55:02+00:00</td>\n      <td>en</td>\n      <td>None</td>\n    </tr>\n    <tr>\n      <th>2</th>\n      <td>#QatarWorldCup2022</td>\n      <td>1594660649769914368</td>\n      <td>334492893</td>\n      <td>🚨 RESMI! Timnas Inggris, Jerman, Belanda, dll ...</td>\n      <td>0</td>\n      <td>0</td>\n      <td>0</td>\n      <td>0</td>\n      <td>2022-11-21 11:55:00+00:00</td>\n      <td>in</td>\n      <td>None</td>\n    </tr>\n    <tr>\n      <th>3</th>\n      <td>#QatarWorldCup2022</td>\n      <td>1594660644565188608</td>\n      <td>2680000970</td>\n      <td>Be our voice #sarinaesmailzadeh is not with us...</td>\n      <td>0</td>\n      <td>0</td>\n      <td>0</td>\n      <td>0</td>\n      <td>2022-11-21 11:54:59+00:00</td>\n      <td>en</td>\n      <td>None</td>\n    </tr>\n    <tr>\n      <th>4</th>\n      <td>#QatarWorldCup2022</td>\n      <td>1594660643483045888</td>\n      <td>711683478</td>\n      <td>@piersmorgan #FIFAWorldCup #QatarWorldCup2022</td>\n      <td>0</td>\n      <td>0</td>\n      <td>0</td>\n      <td>0</td>\n      <td>2022-11-21 11:54:59+00:00</td>\n      <td>qme</td>\n      <td>[216299334]</td>\n    </tr>\n    <tr>\n      <th>5</th>\n      <td>#QatarWorldCup2022</td>\n      <td>1594660621781540864</td>\n      <td>246769710</td>\n      <td>#Qatar2022 #QatarWorldCup2022 #Katar\\n#WM2022 ...</td>\n      <td>0</td>\n      <td>0</td>\n      <td>0</td>\n      <td>0</td>\n      <td>2022-11-21 11:54:54+00:00</td>\n      <td>de</td>\n      <td>None</td>\n    </tr>\n    <tr>\n      <th>6</th>\n      <td>#QatarWorldCup2022</td>\n      <td>1594660609207205889</td>\n      <td>2680000970</td>\n      <td>Be our voice #sarinaesmailzadeh is not with us...</td>\n      <td>0</td>\n      <td>0</td>\n      <td>0</td>\n      <td>0</td>\n      <td>2022-11-21 11:54:51+00:00</td>\n      <td>en</td>\n      <td>None</td>\n    </tr>\n    <tr>\n      <th>7</th>\n      <td>#QatarWorldCup2022</td>\n      <td>1594660595638599682</td>\n      <td>2680000970</td>\n      <td>Be our voice #sarinaesmailzadeh is not with us...</td>\n      <td>0</td>\n      <td>0</td>\n      <td>0</td>\n      <td>0</td>\n      <td>2022-11-21 11:54:48+00:00</td>\n      <td>en</td>\n      <td>None</td>\n    </tr>\n    <tr>\n      <th>8</th>\n      <td>#QatarWorldCup2022</td>\n      <td>1594660579104673792</td>\n      <td>1564911227926716416</td>\n      <td>صور الشاشة وتوقع نتيجة مباراة #إنجلترا 🏴󠁧󠁢󠁥󠁮󠁧󠁿...</td>\n      <td>0</td>\n      <td>0</td>\n      <td>0</td>\n      <td>0</td>\n      <td>2022-11-21 11:54:44+00:00</td>\n      <td>ar</td>\n      <td>None</td>\n    </tr>\n    <tr>\n      <th>9</th>\n      <td>#QatarWorldCup2022</td>\n      <td>1594660555352313857</td>\n      <td>2680000970</td>\n      <td>Be our voice #sarinaesmailzadeh is not with us...</td>\n      <td>0</td>\n      <td>0</td>\n      <td>0</td>\n      <td>0</td>\n      <td>2022-11-21 11:54:38+00:00</td>\n      <td>en</td>\n      <td>None</td>\n    </tr>\n    <tr>\n      <th>0</th>\n      <td>#QatarWorldCup2022</td>\n      <td>1594660681584103429</td>\n      <td>2680000970</td>\n      <td>Be our voice #sarinaesmailzadeh is not with us...</td>\n      <td>0</td>\n      <td>0</td>\n      <td>0</td>\n      <td>0</td>\n      <td>2022-11-21 11:55:08+00:00</td>\n      <td>en</td>\n      <td>None</td>\n    </tr>\n    <tr>\n      <th>1</th>\n      <td>#QatarWorldCup2022</td>\n      <td>1594660657060020224</td>\n      <td>1289554949358202880</td>\n      <td>#BREAKING\\nSo far 40 people have died in the 5...</td>\n      <td>0</td>\n      <td>0</td>\n      <td>0</td>\n      <td>0</td>\n      <td>2022-11-21 11:55:02+00:00</td>\n      <td>en</td>\n      <td>None</td>\n    </tr>\n    <tr>\n      <th>2</th>\n      <td>#QatarWorldCup2022</td>\n      <td>1594660649769914368</td>\n      <td>334492893</td>\n      <td>🚨 RESMI! Timnas Inggris, Jerman, Belanda, dll ...</td>\n      <td>0</td>\n      <td>0</td>\n      <td>0</td>\n      <td>0</td>\n      <td>2022-11-21 11:55:00+00:00</td>\n      <td>in</td>\n      <td>None</td>\n    </tr>\n    <tr>\n      <th>3</th>\n      <td>#QatarWorldCup2022</td>\n      <td>1594660644565188608</td>\n      <td>2680000970</td>\n      <td>Be our voice #sarinaesmailzadeh is not with us...</td>\n      <td>0</td>\n      <td>0</td>\n      <td>0</td>\n      <td>0</td>\n      <td>2022-11-21 11:54:59+00:00</td>\n      <td>en</td>\n      <td>None</td>\n    </tr>\n    <tr>\n      <th>4</th>\n      <td>#QatarWorldCup2022</td>\n      <td>1594660643483045888</td>\n      <td>711683478</td>\n      <td>@piersmorgan #FIFAWorldCup #QatarWorldCup2022</td>\n      <td>0</td>\n      <td>0</td>\n      <td>0</td>\n      <td>0</td>\n      <td>2022-11-21 11:54:59+00:00</td>\n      <td>qme</td>\n      <td>[216299334]</td>\n    </tr>\n    <tr>\n      <th>5</th>\n      <td>#QatarWorldCup2022</td>\n      <td>1594660621781540864</td>\n      <td>246769710</td>\n      <td>#Qatar2022 #QatarWorldCup2022 #Katar\\n#WM2022 ...</td>\n      <td>0</td>\n      <td>0</td>\n      <td>0</td>\n      <td>0</td>\n      <td>2022-11-21 11:54:54+00:00</td>\n      <td>de</td>\n      <td>None</td>\n    </tr>\n    <tr>\n      <th>6</th>\n      <td>#QatarWorldCup2022</td>\n      <td>1594660609207205889</td>\n      <td>2680000970</td>\n      <td>Be our voice #sarinaesmailzadeh is not with us...</td>\n      <td>0</td>\n      <td>0</td>\n      <td>0</td>\n      <td>0</td>\n      <td>2022-11-21 11:54:51+00:00</td>\n      <td>en</td>\n      <td>None</td>\n    </tr>\n    <tr>\n      <th>7</th>\n      <td>#QatarWorldCup2022</td>\n      <td>1594660595638599682</td>\n      <td>2680000970</td>\n      <td>Be our voice #sarinaesmailzadeh is not with us...</td>\n      <td>0</td>\n      <td>0</td>\n      <td>0</td>\n      <td>0</td>\n      <td>2022-11-21 11:54:48+00:00</td>\n      <td>en</td>\n      <td>None</td>\n    </tr>\n    <tr>\n      <th>8</th>\n      <td>#QatarWorldCup2022</td>\n      <td>1594660579104673792</td>\n      <td>1564911227926716416</td>\n      <td>صور الشاشة وتوقع نتيجة مباراة #إنجلترا 🏴󠁧󠁢󠁥󠁮󠁧󠁿...</td>\n      <td>0</td>\n      <td>0</td>\n      <td>0</td>\n      <td>0</td>\n      <td>2022-11-21 11:54:44+00:00</td>\n      <td>ar</td>\n      <td>None</td>\n    </tr>\n    <tr>\n      <th>9</th>\n      <td>#QatarWorldCup2022</td>\n      <td>1594660555352313857</td>\n      <td>2680000970</td>\n      <td>Be our voice #sarinaesmailzadeh is not with us...</td>\n      <td>0</td>\n      <td>0</td>\n      <td>0</td>\n      <td>0</td>\n      <td>2022-11-21 11:54:38+00:00</td>\n      <td>en</td>\n      <td>None</td>\n    </tr>\n    <tr>\n      <th>10</th>\n      <td>#Qatar2022</td>\n      <td>1594660686847787009</td>\n      <td>1540834703254634496</td>\n      <td>احلي قرار اتعمل و احلى قطر 🇶🇦 \\n#FIFAWorldCup ...</td>\n      <td>0</td>\n      <td>0</td>\n      <td>0</td>\n      <td>0</td>\n      <td>2022-11-21 11:55:09+00:00</td>\n      <td>ar</td>\n      <td>None</td>\n    </tr>\n    <tr>\n      <th>11</th>\n      <td>#Qatar2022</td>\n      <td>1594660686621089792</td>\n      <td>874101679569993728</td>\n      <td>@FIFAWorldCup #Javanrud\\n#Qatar2022   \\n#ENGIR...</td>\n      <td>0</td>\n      <td>0</td>\n      <td>0</td>\n      <td>0</td>\n      <td>2022-11-21 11:55:09+00:00</td>\n      <td>en</td>\n      <td>[138372303]</td>\n    </tr>\n    <tr>\n      <th>12</th>\n      <td>#Qatar2022</td>\n      <td>1594660685908410373</td>\n      <td>1284831605828341762</td>\n      <td>@Hengaw_English @HengawO @INTERPOL_HQ @IntlCri...</td>\n      <td>0</td>\n      <td>0</td>\n      <td>0</td>\n      <td>0</td>\n      <td>2022-11-21 11:55:09+00:00</td>\n      <td>en</td>\n      <td>[1088926637469646848, 867126568451280896, 5064...</td>\n    </tr>\n    <tr>\n      <th>13</th>\n      <td>#Qatar2022</td>\n      <td>1594660685635784704</td>\n      <td>1365044429531283458</td>\n      <td>If you're going to watch #ENGIRN at the stadiu...</td>\n      <td>0</td>\n      <td>0</td>\n      <td>0</td>\n      <td>0</td>\n      <td>2022-11-21 11:55:09+00:00</td>\n      <td>en</td>\n      <td>None</td>\n    </tr>\n    <tr>\n      <th>14</th>\n      <td>#Qatar2022</td>\n      <td>1594660685383860224</td>\n      <td>1572171224750473216</td>\n      <td>اشکان سهرابی\\nکشته شده در تاریخ 20 ژوئن 2009 (...</td>\n      <td>0</td>\n      <td>0</td>\n      <td>0</td>\n      <td>0</td>\n      <td>2022-11-21 11:55:09+00:00</td>\n      <td>fa</td>\n      <td>None</td>\n    </tr>\n    <tr>\n      <th>15</th>\n      <td>#Qatar2022</td>\n      <td>1594660683245051905</td>\n      <td>1411102012972974083</td>\n      <td>#Niloofar_Hamedi, 30 years old imprisoned Spor...</td>\n      <td>0</td>\n      <td>0</td>\n      <td>0</td>\n      <td>0</td>\n      <td>2022-11-21 11:55:08+00:00</td>\n      <td>en</td>\n      <td>None</td>\n    </tr>\n    <tr>\n      <th>16</th>\n      <td>#Qatar2022</td>\n      <td>1594660683035168768</td>\n      <td>1572827796040212482</td>\n      <td>While the regime's football team is playing in...</td>\n      <td>0</td>\n      <td>0</td>\n      <td>0</td>\n      <td>0</td>\n      <td>2022-11-21 11:55:08+00:00</td>\n      <td>en</td>\n      <td>None</td>\n    </tr>\n    <tr>\n      <th>17</th>\n      <td>#Qatar2022</td>\n      <td>1594660682695593984</td>\n      <td>1515519913074569217</td>\n      <td>The IR is shooting at Javanroud civilians atte...</td>\n      <td>0</td>\n      <td>0</td>\n      <td>0</td>\n      <td>0</td>\n      <td>2022-11-21 11:55:08+00:00</td>\n      <td>en</td>\n      <td>None</td>\n    </tr>\n    <tr>\n      <th>18</th>\n      <td>#Qatar2022</td>\n      <td>1594660680011063298</td>\n      <td>66350748</td>\n      <td>@SkySportsPL Sports should only be about beati...</td>\n      <td>0</td>\n      <td>0</td>\n      <td>0</td>\n      <td>0</td>\n      <td>2022-11-21 11:55:08+00:00</td>\n      <td>en</td>\n      <td>[713993413]</td>\n    </tr>\n    <tr>\n      <th>19</th>\n      <td>#Qatar2022</td>\n      <td>1594660677901340674</td>\n      <td>1521113854691979264</td>\n      <td>Nika Shakarami also loved football, but she wa...</td>\n      <td>0</td>\n      <td>0</td>\n      <td>0</td>\n      <td>0</td>\n      <td>2022-11-21 11:55:07+00:00</td>\n      <td>en</td>\n      <td>None</td>\n    </tr>\n    <tr>\n      <th>0</th>\n      <td>#QatarWorldCup2022</td>\n      <td>1594660681584103429</td>\n      <td>2680000970</td>\n      <td>Be our voice #sarinaesmailzadeh is not with us...</td>\n      <td>0</td>\n      <td>0</td>\n      <td>0</td>\n      <td>0</td>\n      <td>2022-11-21 11:55:08+00:00</td>\n      <td>en</td>\n      <td>None</td>\n    </tr>\n    <tr>\n      <th>1</th>\n      <td>#QatarWorldCup2022</td>\n      <td>1594660657060020224</td>\n      <td>1289554949358202880</td>\n      <td>#BREAKING\\nSo far 40 people have died in the 5...</td>\n      <td>0</td>\n      <td>0</td>\n      <td>0</td>\n      <td>0</td>\n      <td>2022-11-21 11:55:02+00:00</td>\n      <td>en</td>\n      <td>None</td>\n    </tr>\n    <tr>\n      <th>2</th>\n      <td>#QatarWorldCup2022</td>\n      <td>1594660649769914368</td>\n      <td>334492893</td>\n      <td>🚨 RESMI! Timnas Inggris, Jerman, Belanda, dll ...</td>\n      <td>0</td>\n      <td>0</td>\n      <td>0</td>\n      <td>0</td>\n      <td>2022-11-21 11:55:00+00:00</td>\n      <td>in</td>\n      <td>None</td>\n    </tr>\n    <tr>\n      <th>3</th>\n      <td>#QatarWorldCup2022</td>\n      <td>1594660644565188608</td>\n      <td>2680000970</td>\n      <td>Be our voice #sarinaesmailzadeh is not with us...</td>\n      <td>0</td>\n      <td>0</td>\n      <td>0</td>\n      <td>0</td>\n      <td>2022-11-21 11:54:59+00:00</td>\n      <td>en</td>\n      <td>None</td>\n    </tr>\n    <tr>\n      <th>4</th>\n      <td>#QatarWorldCup2022</td>\n      <td>1594660643483045888</td>\n      <td>711683478</td>\n      <td>@piersmorgan #FIFAWorldCup #QatarWorldCup2022</td>\n      <td>0</td>\n      <td>0</td>\n      <td>0</td>\n      <td>0</td>\n      <td>2022-11-21 11:54:59+00:00</td>\n      <td>qme</td>\n      <td>[216299334]</td>\n    </tr>\n    <tr>\n      <th>5</th>\n      <td>#QatarWorldCup2022</td>\n      <td>1594660621781540864</td>\n      <td>246769710</td>\n      <td>#Qatar2022 #QatarWorldCup2022 #Katar\\n#WM2022 ...</td>\n      <td>0</td>\n      <td>0</td>\n      <td>0</td>\n      <td>0</td>\n      <td>2022-11-21 11:54:54+00:00</td>\n      <td>de</td>\n      <td>None</td>\n    </tr>\n    <tr>\n      <th>6</th>\n      <td>#QatarWorldCup2022</td>\n      <td>1594660609207205889</td>\n      <td>2680000970</td>\n      <td>Be our voice #sarinaesmailzadeh is not with us...</td>\n      <td>0</td>\n      <td>0</td>\n      <td>0</td>\n      <td>0</td>\n      <td>2022-11-21 11:54:51+00:00</td>\n      <td>en</td>\n      <td>None</td>\n    </tr>\n    <tr>\n      <th>7</th>\n      <td>#QatarWorldCup2022</td>\n      <td>1594660595638599682</td>\n      <td>2680000970</td>\n      <td>Be our voice #sarinaesmailzadeh is not with us...</td>\n      <td>0</td>\n      <td>0</td>\n      <td>0</td>\n      <td>0</td>\n      <td>2022-11-21 11:54:48+00:00</td>\n      <td>en</td>\n      <td>None</td>\n    </tr>\n    <tr>\n      <th>8</th>\n      <td>#QatarWorldCup2022</td>\n      <td>1594660579104673792</td>\n      <td>1564911227926716416</td>\n      <td>صور الشاشة وتوقع نتيجة مباراة #إنجلترا 🏴󠁧󠁢󠁥󠁮󠁧󠁿...</td>\n      <td>0</td>\n      <td>0</td>\n      <td>0</td>\n      <td>0</td>\n      <td>2022-11-21 11:54:44+00:00</td>\n      <td>ar</td>\n      <td>None</td>\n    </tr>\n    <tr>\n      <th>9</th>\n      <td>#QatarWorldCup2022</td>\n      <td>1594660555352313857</td>\n      <td>2680000970</td>\n      <td>Be our voice #sarinaesmailzadeh is not with us...</td>\n      <td>0</td>\n      <td>0</td>\n      <td>0</td>\n      <td>0</td>\n      <td>2022-11-21 11:54:38+00:00</td>\n      <td>en</td>\n      <td>None</td>\n    </tr>\n    <tr>\n      <th>10</th>\n      <td>#Qatar2022</td>\n      <td>1594660686847787009</td>\n      <td>1540834703254634496</td>\n      <td>احلي قرار اتعمل و احلى قطر 🇶🇦 \\n#FIFAWorldCup ...</td>\n      <td>0</td>\n      <td>0</td>\n      <td>0</td>\n      <td>0</td>\n      <td>2022-11-21 11:55:09+00:00</td>\n      <td>ar</td>\n      <td>None</td>\n    </tr>\n    <tr>\n      <th>11</th>\n      <td>#Qatar2022</td>\n      <td>1594660686621089792</td>\n      <td>874101679569993728</td>\n      <td>@FIFAWorldCup #Javanrud\\n#Qatar2022   \\n#ENGIR...</td>\n      <td>0</td>\n      <td>0</td>\n      <td>0</td>\n      <td>0</td>\n      <td>2022-11-21 11:55:09+00:00</td>\n      <td>en</td>\n      <td>[138372303]</td>\n    </tr>\n    <tr>\n      <th>12</th>\n      <td>#Qatar2022</td>\n      <td>1594660685908410373</td>\n      <td>1284831605828341762</td>\n      <td>@Hengaw_English @HengawO @INTERPOL_HQ @IntlCri...</td>\n      <td>0</td>\n      <td>0</td>\n      <td>0</td>\n      <td>0</td>\n      <td>2022-11-21 11:55:09+00:00</td>\n      <td>en</td>\n      <td>[1088926637469646848, 867126568451280896, 5064...</td>\n    </tr>\n    <tr>\n      <th>13</th>\n      <td>#Qatar2022</td>\n      <td>1594660685635784704</td>\n      <td>1365044429531283458</td>\n      <td>If you're going to watch #ENGIRN at the stadiu...</td>\n      <td>0</td>\n      <td>0</td>\n      <td>0</td>\n      <td>0</td>\n      <td>2022-11-21 11:55:09+00:00</td>\n      <td>en</td>\n      <td>None</td>\n    </tr>\n    <tr>\n      <th>14</th>\n      <td>#Qatar2022</td>\n      <td>1594660685383860224</td>\n      <td>1572171224750473216</td>\n      <td>اشکان سهرابی\\nکشته شده در تاریخ 20 ژوئن 2009 (...</td>\n      <td>0</td>\n      <td>0</td>\n      <td>0</td>\n      <td>0</td>\n      <td>2022-11-21 11:55:09+00:00</td>\n      <td>fa</td>\n      <td>None</td>\n    </tr>\n    <tr>\n      <th>15</th>\n      <td>#Qatar2022</td>\n      <td>1594660683245051905</td>\n      <td>1411102012972974083</td>\n      <td>#Niloofar_Hamedi, 30 years old imprisoned Spor...</td>\n      <td>0</td>\n      <td>0</td>\n      <td>0</td>\n      <td>0</td>\n      <td>2022-11-21 11:55:08+00:00</td>\n      <td>en</td>\n      <td>None</td>\n    </tr>\n    <tr>\n      <th>16</th>\n      <td>#Qatar2022</td>\n      <td>1594660683035168768</td>\n      <td>1572827796040212482</td>\n      <td>While the regime's football team is playing in...</td>\n      <td>0</td>\n      <td>0</td>\n      <td>0</td>\n      <td>0</td>\n      <td>2022-11-21 11:55:08+00:00</td>\n      <td>en</td>\n      <td>None</td>\n    </tr>\n    <tr>\n      <th>17</th>\n      <td>#Qatar2022</td>\n      <td>1594660682695593984</td>\n      <td>1515519913074569217</td>\n      <td>The IR is shooting at Javanroud civilians atte...</td>\n      <td>0</td>\n      <td>0</td>\n      <td>0</td>\n      <td>0</td>\n      <td>2022-11-21 11:55:08+00:00</td>\n      <td>en</td>\n      <td>None</td>\n    </tr>\n    <tr>\n      <th>18</th>\n      <td>#Qatar2022</td>\n      <td>1594660680011063298</td>\n      <td>66350748</td>\n      <td>@SkySportsPL Sports should only be about beati...</td>\n      <td>0</td>\n      <td>0</td>\n      <td>0</td>\n      <td>0</td>\n      <td>2022-11-21 11:55:08+00:00</td>\n      <td>en</td>\n      <td>[713993413]</td>\n    </tr>\n    <tr>\n      <th>19</th>\n      <td>#Qatar2022</td>\n      <td>1594660677901340674</td>\n      <td>1521113854691979264</td>\n      <td>Nika Shakarami also loved football, but she wa...</td>\n      <td>0</td>\n      <td>0</td>\n      <td>0</td>\n      <td>0</td>\n      <td>2022-11-21 11:55:07+00:00</td>\n      <td>en</td>\n      <td>None</td>\n    </tr>\n    <tr>\n      <th>20</th>\n      <td>#FIFAWorldCup</td>\n      <td>1594660686918991872</td>\n      <td>1578784627690455040</td>\n      <td>@__Injaneb96 ¡Necesitamos ayuda inmediata!\\n\\n...</td>\n      <td>0</td>\n      <td>0</td>\n      <td>0</td>\n      <td>0</td>\n      <td>2022-11-21 11:55:09+00:00</td>\n      <td>es</td>\n      <td>[1108428545058054145]</td>\n    </tr>\n    <tr>\n      <th>21</th>\n      <td>#FIFAWorldCup</td>\n      <td>1594660686847787009</td>\n      <td>1540834703254634496</td>\n      <td>احلي قرار اتعمل و احلى قطر 🇶🇦 \\n#FIFAWorldCup ...</td>\n      <td>0</td>\n      <td>0</td>\n      <td>0</td>\n      <td>0</td>\n      <td>2022-11-21 11:55:09+00:00</td>\n      <td>ar</td>\n      <td>None</td>\n    </tr>\n    <tr>\n      <th>22</th>\n      <td>#FIFAWorldCup</td>\n      <td>1594660685908410373</td>\n      <td>1284831605828341762</td>\n      <td>@Hengaw_English @HengawO @INTERPOL_HQ @IntlCri...</td>\n      <td>0</td>\n      <td>0</td>\n      <td>0</td>\n      <td>0</td>\n      <td>2022-11-21 11:55:09+00:00</td>\n      <td>en</td>\n      <td>[1088926637469646848, 867126568451280896, 5064...</td>\n    </tr>\n    <tr>\n      <th>23</th>\n      <td>#FIFAWorldCup</td>\n      <td>1594660685635784704</td>\n      <td>1365044429531283458</td>\n      <td>If you're going to watch #ENGIRN at the stadiu...</td>\n      <td>0</td>\n      <td>0</td>\n      <td>0</td>\n      <td>0</td>\n      <td>2022-11-21 11:55:09+00:00</td>\n      <td>en</td>\n      <td>None</td>\n    </tr>\n    <tr>\n      <th>24</th>\n      <td>#FIFAWorldCup</td>\n      <td>1594660685383729152</td>\n      <td>833218771271639041</td>\n      <td>⚽️LIVE HD STREAMS 🔥\\n\\n• England vs Iran\\n• Ir...</td>\n      <td>0</td>\n      <td>0</td>\n      <td>0</td>\n      <td>0</td>\n      <td>2022-11-21 11:55:09+00:00</td>\n      <td>en</td>\n      <td>None</td>\n    </tr>\n    <tr>\n      <th>25</th>\n      <td>#FIFAWorldCup</td>\n      <td>1594660683429330949</td>\n      <td>1228199433893863426</td>\n      <td>@kucoincom #kucoin keeping up the hype for #FI...</td>\n      <td>0</td>\n      <td>1</td>\n      <td>0</td>\n      <td>0</td>\n      <td>2022-11-21 11:55:08+00:00</td>\n      <td>en</td>\n      <td>[910110294625492992]</td>\n    </tr>\n    <tr>\n      <th>26</th>\n      <td>#FIFAWorldCup</td>\n      <td>1594660682758234113</td>\n      <td>1295980556291911680</td>\n      <td>Such a criminal should have been jailed for li...</td>\n      <td>0</td>\n      <td>0</td>\n      <td>0</td>\n      <td>0</td>\n      <td>2022-11-21 11:55:08+00:00</td>\n      <td>en</td>\n      <td>None</td>\n    </tr>\n    <tr>\n      <th>27</th>\n      <td>#FIFAWorldCup</td>\n      <td>1594660680879276036</td>\n      <td>45316270</td>\n      <td>How does mount start over Maddison 🫣 #FIFAWorl...</td>\n      <td>0</td>\n      <td>0</td>\n      <td>0</td>\n      <td>0</td>\n      <td>2022-11-21 11:55:08+00:00</td>\n      <td>en</td>\n      <td>None</td>\n    </tr>\n    <tr>\n      <th>28</th>\n      <td>#FIFAWorldCup</td>\n      <td>1594660680011063298</td>\n      <td>66350748</td>\n      <td>@SkySportsPL Sports should only be about beati...</td>\n      <td>0</td>\n      <td>0</td>\n      <td>0</td>\n      <td>0</td>\n      <td>2022-11-21 11:55:08+00:00</td>\n      <td>en</td>\n      <td>[713993413]</td>\n    </tr>\n    <tr>\n      <th>29</th>\n      <td>#FIFAWorldCup</td>\n      <td>1594660679931555841</td>\n      <td>1201744841048117251</td>\n      <td>@chartdata @BTS_twt #JungKook of @BTS_twt's \"D...</td>\n      <td>0</td>\n      <td>0</td>\n      <td>0</td>\n      <td>0</td>\n      <td>2022-11-21 11:55:08+00:00</td>\n      <td>en</td>\n      <td>[744260935527735296, 335141638, 335141638]</td>\n    </tr>\n  </tbody>\n</table>\n</div>"
     },
     "execution_count": 12,
     "metadata": {},
     "output_type": "execute_result"
    }
   ],
   "source": [
    "tweets_df"
   ],
   "metadata": {
    "collapsed": false,
    "pycharm": {
     "name": "#%%\n"
    }
   }
  },
  {
   "cell_type": "code",
   "execution_count": null,
   "outputs": [],
   "source": [
    "users_df"
   ],
   "metadata": {
    "collapsed": false,
    "pycharm": {
     "name": "#%%\n"
    }
   }
  },
  {
   "cell_type": "code",
   "execution_count": null,
   "outputs": [],
   "source": [
    "tweets_df.to_csv(f'./data/{theme}/tweets.csv', mode='a', index=False, headers=False)\n",
    "users_df.to_csv(f'./data/{theme}/users.csv', mode='a', index=False, headers=False)"
   ],
   "metadata": {
    "collapsed": false,
    "pycharm": {
     "name": "#%%\n"
    }
   }
  }
 ],
 "metadata": {
  "kernelspec": {
   "display_name": "Python 3",
   "language": "python",
   "name": "python3"
  },
  "language_info": {
   "codemirror_mode": {
    "name": "ipython",
    "version": 2
   },
   "file_extension": ".py",
   "mimetype": "text/x-python",
   "name": "python",
   "nbconvert_exporter": "python",
   "pygments_lexer": "ipython2",
   "version": "2.7.6"
  }
 },
 "nbformat": 4,
 "nbformat_minor": 0
}