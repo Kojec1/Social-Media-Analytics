{
 "cells": [
  {
   "cell_type": "code",
   "execution_count": 1,
   "outputs": [],
   "source": [
    "import pandas as pd\n",
    "import tweepy\n",
    "import json"
   ],
   "metadata": {
    "collapsed": false,
    "pycharm": {
     "name": "#%%\n"
    }
   }
  },
  {
   "cell_type": "code",
   "execution_count": 2,
   "outputs": [],
   "source": [
    "theme = 'WorldCup'"
   ],
   "metadata": {
    "collapsed": false,
    "pycharm": {
     "name": "#%%\n"
    }
   }
  },
  {
   "cell_type": "code",
   "execution_count": 3,
   "outputs": [],
   "source": [
    "with open(\"credentials.json\") as f:\n",
    "    credentials = json.load(f)"
   ],
   "metadata": {
    "collapsed": false,
    "pycharm": {
     "name": "#%%\n"
    }
   }
  },
  {
   "cell_type": "code",
   "execution_count": 4,
   "outputs": [],
   "source": [
    "client = tweepy.Client(bearer_token=credentials['BEARER_TOKEN'])"
   ],
   "metadata": {
    "collapsed": false,
    "pycharm": {
     "name": "#%%\n"
    }
   }
  },
  {
   "cell_type": "code",
   "execution_count": 5,
   "outputs": [],
   "source": [
    "tweets_df = pd.DataFrame()\n",
    "users_df = pd.DataFrame()"
   ],
   "metadata": {
    "collapsed": false,
    "pycharm": {
     "name": "#%%\n"
    }
   }
  },
  {
   "cell_type": "code",
   "execution_count": 6,
   "outputs": [],
   "source": [
    "queries = ['#QatarWorldCup2022', '#Qatar2022', '#FIFAWorldCup']"
   ],
   "metadata": {
    "collapsed": false,
    "pycharm": {
     "name": "#%%\n"
    }
   }
  },
  {
   "cell_type": "code",
   "execution_count": 7,
   "outputs": [],
   "source": [
    "indices = pd.read_csv(f'./data/{theme}/tweets.csv', usecols=['id'])"
   ],
   "metadata": {
    "collapsed": false,
    "pycharm": {
     "name": "#%%\n"
    }
   }
  },
  {
   "cell_type": "code",
   "execution_count": 8,
   "outputs": [],
   "source": [
    "params = {\n",
    "    'max_results': 100,\n",
    "    'limit': 200,\n",
    "    'tweet_fields': ['id', 'text', 'public_metrics', 'author_id', 'created_at', 'lang'],\n",
    "    'user_fields': ['username', 'created_at', 'public_metrics', 'protected', 'verified'],\n",
    "    'expansions': ['author_id', 'entities.mentions.username'],\n",
    "    'since_id': indices.max()\n",
    "}"
   ],
   "metadata": {
    "collapsed": false,
    "pycharm": {
     "name": "#%%\n"
    }
   }
  },
  {
   "cell_type": "code",
   "execution_count": 9,
   "outputs": [],
   "source": [
    "tweet_list = list()\n",
    "users_list = list()"
   ],
   "metadata": {
    "collapsed": false,
    "pycharm": {
     "name": "#%%\n"
    }
   }
  },
  {
   "cell_type": "code",
   "execution_count": 10,
   "outputs": [
    {
     "name": "stdout",
     "output_type": "stream",
     "text": [
      "WARNING: Tweet download stopped due to TooManyRequest exception. Wait 15 minutes...\n"
     ]
    }
   ],
   "source": [
    "for query in queries:\n",
    "    try:\n",
    "        for chunk in tweepy.Paginator(client.search_recent_tweets, query=f'{query} -is:retweet', **params):\n",
    "            for tweets in chunk.data:\n",
    "                tweet = [query,\n",
    "                         tweets.id,\n",
    "                         tweets.author_id,\n",
    "                         tweets.text,\n",
    "                         tweets.public_metrics['like_count'],\n",
    "                         tweets.public_metrics['reply_count'],\n",
    "                         tweets.public_metrics['retweet_count'],\n",
    "                         tweets.public_metrics['quote_count'],\n",
    "                         tweets.created_at,\n",
    "                         tweets.lang]\n",
    "\n",
    "                mentions = None\n",
    "                if tweets.entities is not None:\n",
    "                    mentions = [mention['id'] for mention in tweets.entities['mentions']]\n",
    "                tweet.append(mentions)\n",
    "\n",
    "                tweet_list.append(tweet)\n",
    "\n",
    "            for user in chunk.includes['users']:\n",
    "                users_list.append([user.id,\n",
    "                                   user.username,\n",
    "                                   user.created_at,\n",
    "                                   user.public_metrics['followers_count'],\n",
    "                                   user.public_metrics['following_count'],\n",
    "                                   user.public_metrics['tweet_count'],\n",
    "                                   user.protected,\n",
    "                                   user.verified])\n",
    "\n",
    "        temp_tweets = pd.DataFrame(tweet_list,\n",
    "                                   columns=['hashtag', 'id', 'author_id', 'text', 'like_count', 'reply_count',\n",
    "                                            'retweet_count',\n",
    "                                            'quote_count',\n",
    "                                            'created_at', 'lang', 'mentions'])\n",
    "        temp_users = pd.DataFrame(users_list,\n",
    "                                  columns=['id', 'username', 'created_at', 'followers_count', 'following_count',\n",
    "                                           'tweet_count', 'protected', 'verified'])\n",
    "\n",
    "        tweets_df = pd.concat([tweets_df, temp_tweets])\n",
    "        users_df = pd.concat([users_df, temp_users])\n",
    "    except tweepy.TooManyRequests:\n",
    "        print('WARNING: Tweet download stopped due to TooManyRequest exception. Wait 15 minutes...')\n",
    "        break"
   ],
   "metadata": {
    "collapsed": false,
    "pycharm": {
     "name": "#%%\n"
    }
   }
  },
  {
   "cell_type": "code",
   "execution_count": 11,
   "outputs": [
    {
     "data": {
      "text/plain": "                  hashtag                   id            author_id  \\\n0      #QatarWorldCup2022  1596459905355218950            144659936   \n1      #QatarWorldCup2022  1596459839676289025  1046295976468611073   \n2      #QatarWorldCup2022  1596459832286105600  1544762824894939136   \n3      #QatarWorldCup2022  1596459821129404416           2171865272   \n4      #QatarWorldCup2022  1596459760085536769  1596207239060152321   \n...                   ...                  ...                  ...   \n39472          #Qatar2022  1596319413795684352  1579998556026724352   \n39473          #Qatar2022  1596319399707029504  1568351925891899397   \n39474          #Qatar2022  1596319397924458497   920379223881154561   \n39475          #Qatar2022  1596319395772764160  1319577175679365120   \n39476          #Qatar2022  1596319392253759488            499044422   \n\n                                                    text  like_count  \\\n0      @GhanaBlackstars need to win the next 6 games ...           0   \n1      @ChaifullyYours Australia\\n\\n@ChaifullyYours #...           0   \n2      @k_i_j99 السعوديه 🇸🇦١\\nبولندا 🇵🇱 0\\nمااعرف لعي...           0   \n3      Let's predict the result of #BELMAR ‼︎\\n\\n#FIF...           0   \n4      بتوفيق بإذن لله \\nللّجار الشقيق والعزيز علي قل...           0   \n...                                                  ...         ...   \n39472  #Qatar2022 #FIFAWorldCup #FIFAWorldCup2022 #Wo...           0   \n39473               Mañana juega ARGENTINAA \\n#Qatar2022           0   \n39474  Así fue el rendimiento de @sujenoel durante el...           2   \n39475  @FoxNews On November 17, Luc Despins took the ...           0   \n39476  ⚽ Hay esperanzas para el Tri. Ricardo #LaVolpe...           0   \n\n       reply_count  retweet_count  quote_count                created_at lang  \\\n0                0              0            0 2022-11-26 11:04:36+00:00   en   \n1                0              0            0 2022-11-26 11:04:21+00:00   en   \n2                0              0            0 2022-11-26 11:04:19+00:00   ar   \n3                0              0            0 2022-11-26 11:04:16+00:00   en   \n4                0              0            0 2022-11-26 11:04:02+00:00   ar   \n...            ...            ...          ...                       ...  ...   \n39472            0              0            0 2022-11-26 01:46:21+00:00  qht   \n39473            0              0            0 2022-11-26 01:46:17+00:00   es   \n39474            0              0            0 2022-11-26 01:46:17+00:00   es   \n39475            0              0            0 2022-11-26 01:46:16+00:00   en   \n39476            0              0            0 2022-11-26 01:46:15+00:00   es   \n\n                                                mentions  \n0                                  [1444999898429075456]  \n1      [779652781397291009, 779652781397291009, 13578...  \n2                                            [371234863]  \n3                                                   None  \n4                                                   None  \n...                                                  ...  \n39472                                               None  \n39473                                               None  \n39474                                        [139214841]  \n39475                                          [1367531]  \n39476                                        [268361752]  \n\n[58984 rows x 11 columns]",
      "text/html": "<div>\n<style scoped>\n    .dataframe tbody tr th:only-of-type {\n        vertical-align: middle;\n    }\n\n    .dataframe tbody tr th {\n        vertical-align: top;\n    }\n\n    .dataframe thead th {\n        text-align: right;\n    }\n</style>\n<table border=\"1\" class=\"dataframe\">\n  <thead>\n    <tr style=\"text-align: right;\">\n      <th></th>\n      <th>hashtag</th>\n      <th>id</th>\n      <th>author_id</th>\n      <th>text</th>\n      <th>like_count</th>\n      <th>reply_count</th>\n      <th>retweet_count</th>\n      <th>quote_count</th>\n      <th>created_at</th>\n      <th>lang</th>\n      <th>mentions</th>\n    </tr>\n  </thead>\n  <tbody>\n    <tr>\n      <th>0</th>\n      <td>#QatarWorldCup2022</td>\n      <td>1596459905355218950</td>\n      <td>144659936</td>\n      <td>@GhanaBlackstars need to win the next 6 games ...</td>\n      <td>0</td>\n      <td>0</td>\n      <td>0</td>\n      <td>0</td>\n      <td>2022-11-26 11:04:36+00:00</td>\n      <td>en</td>\n      <td>[1444999898429075456]</td>\n    </tr>\n    <tr>\n      <th>1</th>\n      <td>#QatarWorldCup2022</td>\n      <td>1596459839676289025</td>\n      <td>1046295976468611073</td>\n      <td>@ChaifullyYours Australia\\n\\n@ChaifullyYours #...</td>\n      <td>0</td>\n      <td>0</td>\n      <td>0</td>\n      <td>0</td>\n      <td>2022-11-26 11:04:21+00:00</td>\n      <td>en</td>\n      <td>[779652781397291009, 779652781397291009, 13578...</td>\n    </tr>\n    <tr>\n      <th>2</th>\n      <td>#QatarWorldCup2022</td>\n      <td>1596459832286105600</td>\n      <td>1544762824894939136</td>\n      <td>@k_i_j99 السعوديه 🇸🇦١\\nبولندا 🇵🇱 0\\nمااعرف لعي...</td>\n      <td>0</td>\n      <td>0</td>\n      <td>0</td>\n      <td>0</td>\n      <td>2022-11-26 11:04:19+00:00</td>\n      <td>ar</td>\n      <td>[371234863]</td>\n    </tr>\n    <tr>\n      <th>3</th>\n      <td>#QatarWorldCup2022</td>\n      <td>1596459821129404416</td>\n      <td>2171865272</td>\n      <td>Let's predict the result of #BELMAR ‼︎\\n\\n#FIF...</td>\n      <td>0</td>\n      <td>0</td>\n      <td>0</td>\n      <td>0</td>\n      <td>2022-11-26 11:04:16+00:00</td>\n      <td>en</td>\n      <td>None</td>\n    </tr>\n    <tr>\n      <th>4</th>\n      <td>#QatarWorldCup2022</td>\n      <td>1596459760085536769</td>\n      <td>1596207239060152321</td>\n      <td>بتوفيق بإذن لله \\nللّجار الشقيق والعزيز علي قل...</td>\n      <td>0</td>\n      <td>0</td>\n      <td>0</td>\n      <td>0</td>\n      <td>2022-11-26 11:04:02+00:00</td>\n      <td>ar</td>\n      <td>None</td>\n    </tr>\n    <tr>\n      <th>...</th>\n      <td>...</td>\n      <td>...</td>\n      <td>...</td>\n      <td>...</td>\n      <td>...</td>\n      <td>...</td>\n      <td>...</td>\n      <td>...</td>\n      <td>...</td>\n      <td>...</td>\n      <td>...</td>\n    </tr>\n    <tr>\n      <th>39472</th>\n      <td>#Qatar2022</td>\n      <td>1596319413795684352</td>\n      <td>1579998556026724352</td>\n      <td>#Qatar2022 #FIFAWorldCup #FIFAWorldCup2022 #Wo...</td>\n      <td>0</td>\n      <td>0</td>\n      <td>0</td>\n      <td>0</td>\n      <td>2022-11-26 01:46:21+00:00</td>\n      <td>qht</td>\n      <td>None</td>\n    </tr>\n    <tr>\n      <th>39473</th>\n      <td>#Qatar2022</td>\n      <td>1596319399707029504</td>\n      <td>1568351925891899397</td>\n      <td>Mañana juega ARGENTINAA \\n#Qatar2022</td>\n      <td>0</td>\n      <td>0</td>\n      <td>0</td>\n      <td>0</td>\n      <td>2022-11-26 01:46:17+00:00</td>\n      <td>es</td>\n      <td>None</td>\n    </tr>\n    <tr>\n      <th>39474</th>\n      <td>#Qatar2022</td>\n      <td>1596319397924458497</td>\n      <td>920379223881154561</td>\n      <td>Así fue el rendimiento de @sujenoel durante el...</td>\n      <td>2</td>\n      <td>0</td>\n      <td>0</td>\n      <td>0</td>\n      <td>2022-11-26 01:46:17+00:00</td>\n      <td>es</td>\n      <td>[139214841]</td>\n    </tr>\n    <tr>\n      <th>39475</th>\n      <td>#Qatar2022</td>\n      <td>1596319395772764160</td>\n      <td>1319577175679365120</td>\n      <td>@FoxNews On November 17, Luc Despins took the ...</td>\n      <td>0</td>\n      <td>0</td>\n      <td>0</td>\n      <td>0</td>\n      <td>2022-11-26 01:46:16+00:00</td>\n      <td>en</td>\n      <td>[1367531]</td>\n    </tr>\n    <tr>\n      <th>39476</th>\n      <td>#Qatar2022</td>\n      <td>1596319392253759488</td>\n      <td>499044422</td>\n      <td>⚽ Hay esperanzas para el Tri. Ricardo #LaVolpe...</td>\n      <td>0</td>\n      <td>0</td>\n      <td>0</td>\n      <td>0</td>\n      <td>2022-11-26 01:46:15+00:00</td>\n      <td>es</td>\n      <td>[268361752]</td>\n    </tr>\n  </tbody>\n</table>\n<p>58984 rows × 11 columns</p>\n</div>"
     },
     "execution_count": 11,
     "metadata": {},
     "output_type": "execute_result"
    }
   ],
   "source": [
    "tweets_df"
   ],
   "metadata": {
    "collapsed": false,
    "pycharm": {
     "name": "#%%\n"
    }
   }
  },
  {
   "cell_type": "code",
   "execution_count": 12,
   "outputs": [
    {
     "data": {
      "text/plain": "                        id         username                created_at  \\\n0                144659936  KwakuAkyeampong 2010-05-16 23:53:27+00:00   \n1      1444999898429075456  GhanaBlackstars 2021-10-04 12:17:06+00:00   \n2      1046295976468611073        itsazeena 2018-09-30 07:09:34+00:00   \n3       779652781397291009   ChaifullyYours 2016-09-24 12:04:43+00:00   \n4      1357899954690269186     Rubalsandhu5 2021-02-06 03:52:44+00:00   \n...                    ...              ...                       ...   \n44260            138994780  JoaquinGPeralta 2010-05-01 06:49:10+00:00   \n44261            139214841         sujenoel 2010-05-01 22:56:06+00:00   \n44262              1367531          FoxNews 2007-03-17 19:01:26+00:00   \n44263            499044422  QuintanaRooHoy1 2012-02-21 18:21:57+00:00   \n44264            268361752    miseleccionmx 2011-03-18 16:26:00+00:00   \n\n       followers_count  following_count  tweet_count  protected  verified  \n0                  385             4983        11296      False     False  \n1               247959              120         1857      False      True  \n2                 2216             2029        63711      False     False  \n3                 1816               12          900      False     False  \n4                    0                1            0      False     False  \n...                ...              ...          ...        ...       ...  \n44260              207              148         9180      False     False  \n44261             1308              268          536      False     False  \n44262         23138070              262       510907      False      True  \n44263            16063             2277       158670      False     False  \n44264          6584642             1178       139148      False      True  \n\n[64073 rows x 8 columns]",
      "text/html": "<div>\n<style scoped>\n    .dataframe tbody tr th:only-of-type {\n        vertical-align: middle;\n    }\n\n    .dataframe tbody tr th {\n        vertical-align: top;\n    }\n\n    .dataframe thead th {\n        text-align: right;\n    }\n</style>\n<table border=\"1\" class=\"dataframe\">\n  <thead>\n    <tr style=\"text-align: right;\">\n      <th></th>\n      <th>id</th>\n      <th>username</th>\n      <th>created_at</th>\n      <th>followers_count</th>\n      <th>following_count</th>\n      <th>tweet_count</th>\n      <th>protected</th>\n      <th>verified</th>\n    </tr>\n  </thead>\n  <tbody>\n    <tr>\n      <th>0</th>\n      <td>144659936</td>\n      <td>KwakuAkyeampong</td>\n      <td>2010-05-16 23:53:27+00:00</td>\n      <td>385</td>\n      <td>4983</td>\n      <td>11296</td>\n      <td>False</td>\n      <td>False</td>\n    </tr>\n    <tr>\n      <th>1</th>\n      <td>1444999898429075456</td>\n      <td>GhanaBlackstars</td>\n      <td>2021-10-04 12:17:06+00:00</td>\n      <td>247959</td>\n      <td>120</td>\n      <td>1857</td>\n      <td>False</td>\n      <td>True</td>\n    </tr>\n    <tr>\n      <th>2</th>\n      <td>1046295976468611073</td>\n      <td>itsazeena</td>\n      <td>2018-09-30 07:09:34+00:00</td>\n      <td>2216</td>\n      <td>2029</td>\n      <td>63711</td>\n      <td>False</td>\n      <td>False</td>\n    </tr>\n    <tr>\n      <th>3</th>\n      <td>779652781397291009</td>\n      <td>ChaifullyYours</td>\n      <td>2016-09-24 12:04:43+00:00</td>\n      <td>1816</td>\n      <td>12</td>\n      <td>900</td>\n      <td>False</td>\n      <td>False</td>\n    </tr>\n    <tr>\n      <th>4</th>\n      <td>1357899954690269186</td>\n      <td>Rubalsandhu5</td>\n      <td>2021-02-06 03:52:44+00:00</td>\n      <td>0</td>\n      <td>1</td>\n      <td>0</td>\n      <td>False</td>\n      <td>False</td>\n    </tr>\n    <tr>\n      <th>...</th>\n      <td>...</td>\n      <td>...</td>\n      <td>...</td>\n      <td>...</td>\n      <td>...</td>\n      <td>...</td>\n      <td>...</td>\n      <td>...</td>\n    </tr>\n    <tr>\n      <th>44260</th>\n      <td>138994780</td>\n      <td>JoaquinGPeralta</td>\n      <td>2010-05-01 06:49:10+00:00</td>\n      <td>207</td>\n      <td>148</td>\n      <td>9180</td>\n      <td>False</td>\n      <td>False</td>\n    </tr>\n    <tr>\n      <th>44261</th>\n      <td>139214841</td>\n      <td>sujenoel</td>\n      <td>2010-05-01 22:56:06+00:00</td>\n      <td>1308</td>\n      <td>268</td>\n      <td>536</td>\n      <td>False</td>\n      <td>False</td>\n    </tr>\n    <tr>\n      <th>44262</th>\n      <td>1367531</td>\n      <td>FoxNews</td>\n      <td>2007-03-17 19:01:26+00:00</td>\n      <td>23138070</td>\n      <td>262</td>\n      <td>510907</td>\n      <td>False</td>\n      <td>True</td>\n    </tr>\n    <tr>\n      <th>44263</th>\n      <td>499044422</td>\n      <td>QuintanaRooHoy1</td>\n      <td>2012-02-21 18:21:57+00:00</td>\n      <td>16063</td>\n      <td>2277</td>\n      <td>158670</td>\n      <td>False</td>\n      <td>False</td>\n    </tr>\n    <tr>\n      <th>44264</th>\n      <td>268361752</td>\n      <td>miseleccionmx</td>\n      <td>2011-03-18 16:26:00+00:00</td>\n      <td>6584642</td>\n      <td>1178</td>\n      <td>139148</td>\n      <td>False</td>\n      <td>True</td>\n    </tr>\n  </tbody>\n</table>\n<p>64073 rows × 8 columns</p>\n</div>"
     },
     "execution_count": 12,
     "metadata": {},
     "output_type": "execute_result"
    }
   ],
   "source": [
    "users_df"
   ],
   "metadata": {
    "collapsed": false,
    "pycharm": {
     "name": "#%%\n"
    }
   }
  },
  {
   "cell_type": "code",
   "execution_count": 13,
   "outputs": [],
   "source": [
    "tweets_df.to_csv(f'./data/{theme}/tweets.csv', mode='a', index=False, header=False)\n",
    "users_df.to_csv(f'./data/{theme}/users.csv', mode='a', index=False, header=False)"
   ],
   "metadata": {
    "collapsed": false,
    "pycharm": {
     "name": "#%%\n"
    }
   }
  }
 ],
 "metadata": {
  "kernelspec": {
   "display_name": "Python 3",
   "language": "python",
   "name": "python3"
  },
  "language_info": {
   "codemirror_mode": {
    "name": "ipython",
    "version": 2
   },
   "file_extension": ".py",
   "mimetype": "text/x-python",
   "name": "python",
   "nbconvert_exporter": "python",
   "pygments_lexer": "ipython2",
   "version": "2.7.6"
  }
 },
 "nbformat": 4,
 "nbformat_minor": 0
}