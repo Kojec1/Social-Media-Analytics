{
 "cells": [
  {
   "cell_type": "code",
   "execution_count": 10,
   "id": "2776ca1e",
   "metadata": {},
   "outputs": [],
   "source": [
    "import pandas as pd\n",
    "import matplotlib.pyplot as plt\n",
    "import re\n",
    "from datetime import datetime\n",
    "from collections import Counter"
   ]
  },
  {
   "cell_type": "code",
   "execution_count": 2,
   "id": "8930c56e",
   "metadata": {},
   "outputs": [],
   "source": [
    "theme = 'WorldCup'"
   ]
  },
  {
   "cell_type": "code",
   "execution_count": 3,
   "id": "b4a70dcf",
   "metadata": {},
   "outputs": [],
   "source": [
    "tweets = pd.read_csv(f'./data/{theme}/tweets_clean.csv')"
   ]
  },
  {
   "cell_type": "code",
   "execution_count": 4,
   "id": "94735459",
   "metadata": {},
   "outputs": [
    {
     "data": {
      "text/html": [
       "<div>\n",
       "<style scoped>\n",
       "    .dataframe tbody tr th:only-of-type {\n",
       "        vertical-align: middle;\n",
       "    }\n",
       "\n",
       "    .dataframe tbody tr th {\n",
       "        vertical-align: top;\n",
       "    }\n",
       "\n",
       "    .dataframe thead th {\n",
       "        text-align: right;\n",
       "    }\n",
       "</style>\n",
       "<table border=\"1\" class=\"dataframe\">\n",
       "  <thead>\n",
       "    <tr style=\"text-align: right;\">\n",
       "      <th></th>\n",
       "      <th>Unnamed: 0</th>\n",
       "      <th>hashtag</th>\n",
       "      <th>id</th>\n",
       "      <th>author_id</th>\n",
       "      <th>text</th>\n",
       "      <th>like_count</th>\n",
       "      <th>reply_count</th>\n",
       "      <th>retweet_count</th>\n",
       "      <th>quote_count</th>\n",
       "      <th>created_at</th>\n",
       "      <th>lang</th>\n",
       "      <th>mentions</th>\n",
       "      <th>text_clean</th>\n",
       "      <th>text_clean_list</th>\n",
       "      <th>text_clean_stopwords</th>\n",
       "      <th>hashtags_list</th>\n",
       "    </tr>\n",
       "  </thead>\n",
       "  <tbody>\n",
       "    <tr>\n",
       "      <th>0</th>\n",
       "      <td>2</td>\n",
       "      <td>#Qatar2022</td>\n",
       "      <td>1592601191761838081</td>\n",
       "      <td>1591065849531604994</td>\n",
       "      <td>Massage and sex in Qatar❤️\\nMassage body to bo...</td>\n",
       "      <td>0</td>\n",
       "      <td>0</td>\n",
       "      <td>0</td>\n",
       "      <td>0</td>\n",
       "      <td>2022-11-15 19:31:27+00:00</td>\n",
       "      <td>en</td>\n",
       "      <td>NaN</td>\n",
       "      <td>massage and sex in qatar massage body to body ...</td>\n",
       "      <td>['massage', 'and', 'sex', 'in', 'qatar', 'mass...</td>\n",
       "      <td>['massage', 'sex', 'qatar', 'massage', 'body',...</td>\n",
       "      <td>['Qatar', 'Qatar2022']</td>\n",
       "    </tr>\n",
       "    <tr>\n",
       "      <th>1</th>\n",
       "      <td>5</td>\n",
       "      <td>#Qatar2022</td>\n",
       "      <td>1592601156412649477</td>\n",
       "      <td>968203797049769984</td>\n",
       "      <td>How to identify a whitexican in Qatar 2022  #Q...</td>\n",
       "      <td>0</td>\n",
       "      <td>1</td>\n",
       "      <td>0</td>\n",
       "      <td>0</td>\n",
       "      <td>2022-11-15 19:31:19+00:00</td>\n",
       "      <td>en</td>\n",
       "      <td>NaN</td>\n",
       "      <td>how to identify a whitexican in qatar  #qatar ...</td>\n",
       "      <td>['how', 'to', 'identify', 'a', 'whitexican', '...</td>\n",
       "      <td>['identify', 'whitexican', 'qatar', '#qatar', ...</td>\n",
       "      <td>['Qatar2022', 'Mexico', 'WorldCup2022']</td>\n",
       "    </tr>\n",
       "    <tr>\n",
       "      <th>2</th>\n",
       "      <td>7</td>\n",
       "      <td>#Qatar2022</td>\n",
       "      <td>1592601145545031681</td>\n",
       "      <td>1585336194010955781</td>\n",
       "      <td>Gillingham vs AFC Fylde\\n\\n⏰ 4:45:00 PM\\n\\nWho...</td>\n",
       "      <td>0</td>\n",
       "      <td>0</td>\n",
       "      <td>0</td>\n",
       "      <td>0</td>\n",
       "      <td>2022-11-15 19:31:16+00:00</td>\n",
       "      <td>en</td>\n",
       "      <td>NaN</td>\n",
       "      <td>gillingham vs afc fylde   pm whos going to win...</td>\n",
       "      <td>['gillingham', 'vs', 'afc', 'fylde', 'pm', 'wh...</td>\n",
       "      <td>['gillingham', 'vs', 'afc', 'fylde', 'pm', 'wh...</td>\n",
       "      <td>['FIFAWorldCup', 'Qatar2022']</td>\n",
       "    </tr>\n",
       "    <tr>\n",
       "      <th>3</th>\n",
       "      <td>8</td>\n",
       "      <td>#Qatar2022</td>\n",
       "      <td>1592601145503059968</td>\n",
       "      <td>1585336194010955781</td>\n",
       "      <td>Derby vs Torquay\\n\\n⏰ 4:45:00 PM\\n\\nWho's goin...</td>\n",
       "      <td>0</td>\n",
       "      <td>0</td>\n",
       "      <td>0</td>\n",
       "      <td>0</td>\n",
       "      <td>2022-11-15 19:31:16+00:00</td>\n",
       "      <td>en</td>\n",
       "      <td>NaN</td>\n",
       "      <td>derby vs torquay   pm whos going to win #fifaw...</td>\n",
       "      <td>['derby', 'vs', 'torquay', 'pm', 'whos', 'goin...</td>\n",
       "      <td>['derby', 'vs', 'torquay', 'pm', 'whos', 'goin...</td>\n",
       "      <td>['FIFAWorldCup', 'Qatar2022']</td>\n",
       "    </tr>\n",
       "    <tr>\n",
       "      <th>4</th>\n",
       "      <td>9</td>\n",
       "      <td>#Qatar2022</td>\n",
       "      <td>1592601145415008256</td>\n",
       "      <td>1585336194010955781</td>\n",
       "      <td>Cambridge United vs Curzon Ashton\\n\\n⏰ 4:45:00...</td>\n",
       "      <td>0</td>\n",
       "      <td>0</td>\n",
       "      <td>0</td>\n",
       "      <td>0</td>\n",
       "      <td>2022-11-15 19:31:16+00:00</td>\n",
       "      <td>en</td>\n",
       "      <td>NaN</td>\n",
       "      <td>cambridge united vs curzon ashton   pm whos go...</td>\n",
       "      <td>['cambridge', 'united', 'vs', 'curzon', 'ashto...</td>\n",
       "      <td>['cambridge', 'united', 'vs', 'curzon', 'ashto...</td>\n",
       "      <td>['FIFAWorldCup', 'Qatar2022']</td>\n",
       "    </tr>\n",
       "    <tr>\n",
       "      <th>...</th>\n",
       "      <td>...</td>\n",
       "      <td>...</td>\n",
       "      <td>...</td>\n",
       "      <td>...</td>\n",
       "      <td>...</td>\n",
       "      <td>...</td>\n",
       "      <td>...</td>\n",
       "      <td>...</td>\n",
       "      <td>...</td>\n",
       "      <td>...</td>\n",
       "      <td>...</td>\n",
       "      <td>...</td>\n",
       "      <td>...</td>\n",
       "      <td>...</td>\n",
       "      <td>...</td>\n",
       "      <td>...</td>\n",
       "    </tr>\n",
       "    <tr>\n",
       "      <th>129720</th>\n",
       "      <td>332573</td>\n",
       "      <td>#Qatar2022</td>\n",
       "      <td>1605037565999980545</td>\n",
       "      <td>1499701605079396353</td>\n",
       "      <td>The coronation of the true living #GOAT! @WeAr...</td>\n",
       "      <td>0</td>\n",
       "      <td>0</td>\n",
       "      <td>0</td>\n",
       "      <td>0</td>\n",
       "      <td>2022-12-20 03:09:10+00:00</td>\n",
       "      <td>en</td>\n",
       "      <td>['2849963640', '1058376110']</td>\n",
       "      <td>the coronation of the true living #goat  #dext...</td>\n",
       "      <td>['the', 'coronation', 'of', 'the', 'true', 'li...</td>\n",
       "      <td>['coronation', 'true', 'living', '#goat', '#de...</td>\n",
       "      <td>['GOAT', 'Dextools', 'WorldCup2022', 'WorldCup...</td>\n",
       "    </tr>\n",
       "    <tr>\n",
       "      <th>129721</th>\n",
       "      <td>332574</td>\n",
       "      <td>#Qatar2022</td>\n",
       "      <td>1605037409074573313</td>\n",
       "      <td>897741929387106305</td>\n",
       "      <td>Peter Drury on Argentina’s winning moment.\\n\\n...</td>\n",
       "      <td>3</td>\n",
       "      <td>0</td>\n",
       "      <td>0</td>\n",
       "      <td>0</td>\n",
       "      <td>2022-12-20 03:08:33+00:00</td>\n",
       "      <td>en</td>\n",
       "      <td>NaN</td>\n",
       "      <td>peter drury on argentina’s winning moment #mes...</td>\n",
       "      <td>['peter', 'drury', 'on', 'argentina', '’', 's'...</td>\n",
       "      <td>['peter', 'drury', 'argentina', '’', 'winning'...</td>\n",
       "      <td>['Messi𓃵', 'ArgentinaVsFrance', 'Qatar2022', '...</td>\n",
       "    </tr>\n",
       "    <tr>\n",
       "      <th>129722</th>\n",
       "      <td>332585</td>\n",
       "      <td>#Qatar2022</td>\n",
       "      <td>1605037015233310720</td>\n",
       "      <td>1363653333479788549</td>\n",
       "      <td>Argentine dairy industry #DitchDairy @dairy_tr...</td>\n",
       "      <td>0</td>\n",
       "      <td>0</td>\n",
       "      <td>0</td>\n",
       "      <td>0</td>\n",
       "      <td>2022-12-20 03:06:59+00:00</td>\n",
       "      <td>en</td>\n",
       "      <td>['1370074650038910983', '1246189682150367233']</td>\n",
       "      <td>argentine dairy industry #ditchdairy #worldcup...</td>\n",
       "      <td>['argentine', 'dairy', 'industry', '#ditchdair...</td>\n",
       "      <td>['argentine', 'dairy', 'industry', '#ditchdair...</td>\n",
       "      <td>['DitchDairy', 'WorldCupFinal', 'FIFAWorldCup'...</td>\n",
       "    </tr>\n",
       "    <tr>\n",
       "      <th>129723</th>\n",
       "      <td>332586</td>\n",
       "      <td>#Qatar2022</td>\n",
       "      <td>1605036970660462602</td>\n",
       "      <td>1522221998151061509</td>\n",
       "      <td>This time @TeamMessi Argentina ⚽❤✌ \\n\\n 📕 #Dex...</td>\n",
       "      <td>0</td>\n",
       "      <td>0</td>\n",
       "      <td>0</td>\n",
       "      <td>0</td>\n",
       "      <td>2022-12-20 03:06:48+00:00</td>\n",
       "      <td>en</td>\n",
       "      <td>['1058376110']</td>\n",
       "      <td>this time argentina   #dextools quack wool chz...</td>\n",
       "      <td>['this', 'time', 'argentina', '#dextools', 'qu...</td>\n",
       "      <td>['time', 'argentina', '#dextools', 'quack', 'w...</td>\n",
       "      <td>['Dextools', 'WorldCup2022', 'WorldCup', 'Qata...</td>\n",
       "    </tr>\n",
       "    <tr>\n",
       "      <th>129724</th>\n",
       "      <td>332587</td>\n",
       "      <td>#Qatar2022</td>\n",
       "      <td>1605036968588484609</td>\n",
       "      <td>1504760689650552863</td>\n",
       "      <td>The real GOAT 🐐 congrats LEO @TeamMessi😭🇦🇷 \\n\\...</td>\n",
       "      <td>0</td>\n",
       "      <td>0</td>\n",
       "      <td>0</td>\n",
       "      <td>0</td>\n",
       "      <td>2022-12-20 03:06:48+00:00</td>\n",
       "      <td>en</td>\n",
       "      <td>['1058376110']</td>\n",
       "      <td>the real goat  congrats leo  #dextools twt dyp...</td>\n",
       "      <td>['the', 'real', 'goat', 'congrats', 'leo', '#d...</td>\n",
       "      <td>['real', 'goat', 'congrats', 'leo', '#dextools...</td>\n",
       "      <td>['Dextools', 'WorldCup2022', 'WorldCup', 'Qata...</td>\n",
       "    </tr>\n",
       "  </tbody>\n",
       "</table>\n",
       "<p>129725 rows × 16 columns</p>\n",
       "</div>"
      ],
      "text/plain": [
       "        Unnamed: 0     hashtag                   id            author_id  \\\n",
       "0                2  #Qatar2022  1592601191761838081  1591065849531604994   \n",
       "1                5  #Qatar2022  1592601156412649477   968203797049769984   \n",
       "2                7  #Qatar2022  1592601145545031681  1585336194010955781   \n",
       "3                8  #Qatar2022  1592601145503059968  1585336194010955781   \n",
       "4                9  #Qatar2022  1592601145415008256  1585336194010955781   \n",
       "...            ...         ...                  ...                  ...   \n",
       "129720      332573  #Qatar2022  1605037565999980545  1499701605079396353   \n",
       "129721      332574  #Qatar2022  1605037409074573313   897741929387106305   \n",
       "129722      332585  #Qatar2022  1605037015233310720  1363653333479788549   \n",
       "129723      332586  #Qatar2022  1605036970660462602  1522221998151061509   \n",
       "129724      332587  #Qatar2022  1605036968588484609  1504760689650552863   \n",
       "\n",
       "                                                     text  like_count  \\\n",
       "0       Massage and sex in Qatar❤️\\nMassage body to bo...           0   \n",
       "1       How to identify a whitexican in Qatar 2022  #Q...           0   \n",
       "2       Gillingham vs AFC Fylde\\n\\n⏰ 4:45:00 PM\\n\\nWho...           0   \n",
       "3       Derby vs Torquay\\n\\n⏰ 4:45:00 PM\\n\\nWho's goin...           0   \n",
       "4       Cambridge United vs Curzon Ashton\\n\\n⏰ 4:45:00...           0   \n",
       "...                                                   ...         ...   \n",
       "129720  The coronation of the true living #GOAT! @WeAr...           0   \n",
       "129721  Peter Drury on Argentina’s winning moment.\\n\\n...           3   \n",
       "129722  Argentine dairy industry #DitchDairy @dairy_tr...           0   \n",
       "129723  This time @TeamMessi Argentina ⚽❤✌ \\n\\n 📕 #Dex...           0   \n",
       "129724  The real GOAT 🐐 congrats LEO @TeamMessi😭🇦🇷 \\n\\...           0   \n",
       "\n",
       "        reply_count  retweet_count  quote_count                 created_at  \\\n",
       "0                 0              0            0  2022-11-15 19:31:27+00:00   \n",
       "1                 1              0            0  2022-11-15 19:31:19+00:00   \n",
       "2                 0              0            0  2022-11-15 19:31:16+00:00   \n",
       "3                 0              0            0  2022-11-15 19:31:16+00:00   \n",
       "4                 0              0            0  2022-11-15 19:31:16+00:00   \n",
       "...             ...            ...          ...                        ...   \n",
       "129720            0              0            0  2022-12-20 03:09:10+00:00   \n",
       "129721            0              0            0  2022-12-20 03:08:33+00:00   \n",
       "129722            0              0            0  2022-12-20 03:06:59+00:00   \n",
       "129723            0              0            0  2022-12-20 03:06:48+00:00   \n",
       "129724            0              0            0  2022-12-20 03:06:48+00:00   \n",
       "\n",
       "       lang                                        mentions  \\\n",
       "0        en                                             NaN   \n",
       "1        en                                             NaN   \n",
       "2        en                                             NaN   \n",
       "3        en                                             NaN   \n",
       "4        en                                             NaN   \n",
       "...     ...                                             ...   \n",
       "129720   en                    ['2849963640', '1058376110']   \n",
       "129721   en                                             NaN   \n",
       "129722   en  ['1370074650038910983', '1246189682150367233']   \n",
       "129723   en                                  ['1058376110']   \n",
       "129724   en                                  ['1058376110']   \n",
       "\n",
       "                                               text_clean  \\\n",
       "0       massage and sex in qatar massage body to body ...   \n",
       "1       how to identify a whitexican in qatar  #qatar ...   \n",
       "2       gillingham vs afc fylde   pm whos going to win...   \n",
       "3       derby vs torquay   pm whos going to win #fifaw...   \n",
       "4       cambridge united vs curzon ashton   pm whos go...   \n",
       "...                                                   ...   \n",
       "129720  the coronation of the true living #goat  #dext...   \n",
       "129721  peter drury on argentina’s winning moment #mes...   \n",
       "129722  argentine dairy industry #ditchdairy #worldcup...   \n",
       "129723  this time argentina   #dextools quack wool chz...   \n",
       "129724  the real goat  congrats leo  #dextools twt dyp...   \n",
       "\n",
       "                                          text_clean_list  \\\n",
       "0       ['massage', 'and', 'sex', 'in', 'qatar', 'mass...   \n",
       "1       ['how', 'to', 'identify', 'a', 'whitexican', '...   \n",
       "2       ['gillingham', 'vs', 'afc', 'fylde', 'pm', 'wh...   \n",
       "3       ['derby', 'vs', 'torquay', 'pm', 'whos', 'goin...   \n",
       "4       ['cambridge', 'united', 'vs', 'curzon', 'ashto...   \n",
       "...                                                   ...   \n",
       "129720  ['the', 'coronation', 'of', 'the', 'true', 'li...   \n",
       "129721  ['peter', 'drury', 'on', 'argentina', '’', 's'...   \n",
       "129722  ['argentine', 'dairy', 'industry', '#ditchdair...   \n",
       "129723  ['this', 'time', 'argentina', '#dextools', 'qu...   \n",
       "129724  ['the', 'real', 'goat', 'congrats', 'leo', '#d...   \n",
       "\n",
       "                                     text_clean_stopwords  \\\n",
       "0       ['massage', 'sex', 'qatar', 'massage', 'body',...   \n",
       "1       ['identify', 'whitexican', 'qatar', '#qatar', ...   \n",
       "2       ['gillingham', 'vs', 'afc', 'fylde', 'pm', 'wh...   \n",
       "3       ['derby', 'vs', 'torquay', 'pm', 'whos', 'goin...   \n",
       "4       ['cambridge', 'united', 'vs', 'curzon', 'ashto...   \n",
       "...                                                   ...   \n",
       "129720  ['coronation', 'true', 'living', '#goat', '#de...   \n",
       "129721  ['peter', 'drury', 'argentina', '’', 'winning'...   \n",
       "129722  ['argentine', 'dairy', 'industry', '#ditchdair...   \n",
       "129723  ['time', 'argentina', '#dextools', 'quack', 'w...   \n",
       "129724  ['real', 'goat', 'congrats', 'leo', '#dextools...   \n",
       "\n",
       "                                            hashtags_list  \n",
       "0                                  ['Qatar', 'Qatar2022']  \n",
       "1                 ['Qatar2022', 'Mexico', 'WorldCup2022']  \n",
       "2                           ['FIFAWorldCup', 'Qatar2022']  \n",
       "3                           ['FIFAWorldCup', 'Qatar2022']  \n",
       "4                           ['FIFAWorldCup', 'Qatar2022']  \n",
       "...                                                   ...  \n",
       "129720  ['GOAT', 'Dextools', 'WorldCup2022', 'WorldCup...  \n",
       "129721  ['Messi𓃵', 'ArgentinaVsFrance', 'Qatar2022', '...  \n",
       "129722  ['DitchDairy', 'WorldCupFinal', 'FIFAWorldCup'...  \n",
       "129723  ['Dextools', 'WorldCup2022', 'WorldCup', 'Qata...  \n",
       "129724  ['Dextools', 'WorldCup2022', 'WorldCup', 'Qata...  \n",
       "\n",
       "[129725 rows x 16 columns]"
      ]
     },
     "execution_count": 4,
     "metadata": {},
     "output_type": "execute_result"
    }
   ],
   "source": [
    "tweets"
   ]
  },
  {
   "cell_type": "code",
   "execution_count": 130,
   "id": "ce1044a7",
   "metadata": {},
   "outputs": [],
   "source": [
    "downloaded_dates_with_occ = [datetime.strptime(str_date[:10], '%Y-%m-%d').date() for str_date in tweets.created_at]"
   ]
  },
  {
   "cell_type": "code",
   "execution_count": 131,
   "id": "60e2cce3",
   "metadata": {},
   "outputs": [
    {
     "data": {
      "text/plain": [
       "Counter({datetime.date(2022, 11, 15): 19,\n",
       "         datetime.date(2022, 11, 21): 14905,\n",
       "         datetime.date(2022, 11, 23): 985,\n",
       "         datetime.date(2022, 11, 24): 20184,\n",
       "         datetime.date(2022, 11, 25): 6386,\n",
       "         datetime.date(2022, 11, 26): 7600,\n",
       "         datetime.date(2022, 11, 28): 12937,\n",
       "         datetime.date(2022, 11, 27): 655,\n",
       "         datetime.date(2022, 11, 30): 12560,\n",
       "         datetime.date(2022, 11, 29): 5154,\n",
       "         datetime.date(2022, 12, 1): 6791,\n",
       "         datetime.date(2022, 12, 3): 15275,\n",
       "         datetime.date(2022, 12, 2): 3300,\n",
       "         datetime.date(2022, 12, 5): 4833,\n",
       "         datetime.date(2022, 12, 4): 6843,\n",
       "         datetime.date(2022, 12, 21): 1225,\n",
       "         datetime.date(2022, 12, 20): 5622,\n",
       "         datetime.date(2022, 12, 19): 2460,\n",
       "         datetime.date(2022, 12, 18): 1991})"
      ]
     },
     "execution_count": 131,
     "metadata": {},
     "output_type": "execute_result"
    }
   ],
   "source": [
    "Counter(downloaded_dates_with_occ)"
   ]
  },
  {
   "cell_type": "code",
   "execution_count": 115,
   "id": "7d6b8cdb",
   "metadata": {},
   "outputs": [],
   "source": [
    "downloaded_dates = [datetime(2022, 11, 15).date(),\n",
    "        datetime(2022, 11, 21).date(),\n",
    "        datetime(2022, 11, 23).date(),\n",
    "        datetime(2022, 11, 24).date(),\n",
    "         datetime(2022, 11, 25).date(),\n",
    "         datetime(2022, 11, 26).date(),\n",
    "         datetime(2022, 11, 27).date(),\n",
    "         datetime(2022, 11, 28).date(),\n",
    "         datetime(2022, 11, 29).date(),\n",
    "         datetime(2022, 11, 30).date(),\n",
    "         datetime(2022, 12, 1).date(),\n",
    "         datetime(2022, 12, 2).date(),\n",
    "         datetime(2022, 12, 3).date(),\n",
    "         datetime(2022, 12, 4).date(),\n",
    "         datetime(2022, 12, 5).date(),\n",
    "         datetime(2022, 12, 18).date(),\n",
    "         datetime(2022, 12, 19).date(),\n",
    "         datetime(2022, 12, 20).date(),\n",
    "         datetime(2022, 12, 21).date()\n",
    "    ]"
   ]
  },
  {
   "cell_type": "code",
   "execution_count": 5,
   "id": "635d7086",
   "metadata": {},
   "outputs": [
    {
     "data": {
      "text/plain": [
       "'2022-11-15 19:31:27+00:00'"
      ]
     },
     "execution_count": 5,
     "metadata": {},
     "output_type": "execute_result"
    }
   ],
   "source": [
    "tweets.created_at.iloc[0]"
   ]
  },
  {
   "cell_type": "code",
   "execution_count": 41,
   "id": "9cda8f50",
   "metadata": {},
   "outputs": [],
   "source": [
    "def list_capture(input_str: str):\n",
    "    input_str = input_str[1:-1]\n",
    "    just_commas = re.sub('\\'', '', input_str)\n",
    "    # removing spaces\n",
    "    no_spaces = re.sub(' ', '', just_commas)\n",
    "    \n",
    "    str_list = no_spaces.split(',')\n",
    "    \n",
    "    output_list = []\n",
    "    for ele in str_list:\n",
    "        output_list.append(str(ele))\n",
    "\n",
    "    return output_list"
   ]
  },
  {
   "cell_type": "code",
   "execution_count": 43,
   "id": "a4e988b9",
   "metadata": {},
   "outputs": [
    {
     "data": {
      "text/plain": [
       "['Qatar', 'Qatar2022']"
      ]
     },
     "execution_count": 43,
     "metadata": {},
     "output_type": "execute_result"
    }
   ],
   "source": [
    "list_capture(tweets.hashtags_list.iloc[0])"
   ]
  },
  {
   "cell_type": "code",
   "execution_count": 18,
   "id": "cd152e6e",
   "metadata": {},
   "outputs": [],
   "source": [
    "queries = ['#QatarWorldCup2022', '#Qatar2022', '#FIFAWorldCup']"
   ]
  },
  {
   "cell_type": "code",
   "execution_count": 44,
   "id": "a466efd6",
   "metadata": {},
   "outputs": [],
   "source": [
    "all_hastags = []\n",
    "\n",
    "for hashtags in tweets.hashtags_list:\n",
    "    hashtags = list_capture(hashtags)\n",
    "    \n",
    "    all_hastags.extend(hashtags)"
   ]
  },
  {
   "cell_type": "code",
   "execution_count": 46,
   "id": "004b030b",
   "metadata": {},
   "outputs": [],
   "source": [
    "hashtags_occurences = dict(Counter(all_hastags))"
   ]
  },
  {
   "cell_type": "code",
   "execution_count": 54,
   "id": "e0c3ccbf",
   "metadata": {},
   "outputs": [],
   "source": [
    "most_popular_hashtags = list(dict(sorted(hashtags_occurences.items(), key=lambda item: item[1])).keys())[-40:]"
   ]
  },
  {
   "cell_type": "code",
   "execution_count": 55,
   "id": "19b192ae",
   "metadata": {},
   "outputs": [
    {
     "data": {
      "text/plain": [
       "['England',\n",
       " 'OpIran',\n",
       " 'TUNFRA',\n",
       " 'NEDUSA',\n",
       " 'IranRevolution',\n",
       " 'QatarWorldCup',\n",
       " 'SayTheirNames',\n",
       " 'Netherlands',\n",
       " 'Messi𓃵',\n",
       " 'qatar2022',\n",
       " 'PortugalvsUruguay',\n",
       " 'FIFA',\n",
       " 'Messi',\n",
       " 'Cameroon',\n",
       " 'KOR',\n",
       " 'football',\n",
       " 'WorldcupQatar2022',\n",
       " 'UtilityCoin',\n",
       " 'Betbuy',\n",
       " 'BetBot',\n",
       " 'WORLDCUP',\n",
       " 'MahsaAmini',\n",
       " 'Argentina',\n",
       " 'URU',\n",
       " 'Serbia',\n",
       " 'URUSOU',\n",
       " 'USA',\n",
       " 'Brazil',\n",
       " 'Portugal',\n",
       " 'SouthKorea',\n",
       " 'Qatar',\n",
       " 'Dreamers2022',\n",
       " 'FIFAWorldCupQatar2022',\n",
       " 'Uruguay',\n",
       " 'WorldCup',\n",
       " 'FIFAWorldCup2022',\n",
       " 'WorldCup2022',\n",
       " 'Qatar2022',\n",
       " 'FIFAWorldCup',\n",
       " 'QatarWorldCup2022']"
      ]
     },
     "execution_count": 55,
     "metadata": {},
     "output_type": "execute_result"
    }
   ],
   "source": [
    "most_popular_hashtags"
   ]
  },
  {
   "cell_type": "code",
   "execution_count": 112,
   "id": "dae01124",
   "metadata": {},
   "outputs": [],
   "source": [
    "def get_dates_of_hashtag(hashtag: str):\n",
    "    date_and_occurences = {}\n",
    "\n",
    "    for _, row in tweets.iterrows():\n",
    "        if hashtag in list_capture(row.hashtags_list):\n",
    "            date = datetime.strptime(row.created_at[:10], '%Y-%m-%d').date()\n",
    "\n",
    "            if date in date_and_occurences.keys():\n",
    "                date_and_occurences[date] += 1   \n",
    "            else:\n",
    "                date_and_occurences[date] = 1\n",
    "                \n",
    "    return date_and_occurences"
   ]
  },
  {
   "cell_type": "code",
   "execution_count": 113,
   "id": "020ab472",
   "metadata": {
    "scrolled": true
   },
   "outputs": [],
   "source": [
    "mahsa = get_dates_of_hashtag('MahsaAmini')"
   ]
  },
  {
   "cell_type": "code",
   "execution_count": 114,
   "id": "f3296dd6",
   "metadata": {},
   "outputs": [
    {
     "data": {
      "text/plain": [
       "{datetime.date(2022, 11, 21): 2310,\n",
       " datetime.date(2022, 11, 23): 4,\n",
       " datetime.date(2022, 11, 24): 11,\n",
       " datetime.date(2022, 11, 25): 68,\n",
       " datetime.date(2022, 11, 26): 339,\n",
       " datetime.date(2022, 11, 28): 49,\n",
       " datetime.date(2022, 11, 27): 5,\n",
       " datetime.date(2022, 11, 30): 325,\n",
       " datetime.date(2022, 11, 29): 136,\n",
       " datetime.date(2022, 12, 1): 88,\n",
       " datetime.date(2022, 12, 3): 12,\n",
       " datetime.date(2022, 12, 2): 1,\n",
       " datetime.date(2022, 12, 5): 12,\n",
       " datetime.date(2022, 12, 4): 7,\n",
       " datetime.date(2022, 12, 19): 1,\n",
       " datetime.date(2022, 12, 18): 1,\n",
       " datetime.date(2022, 12, 21): 1}"
      ]
     },
     "execution_count": 114,
     "metadata": {},
     "output_type": "execute_result"
    }
   ],
   "source": [
    "mahsa"
   ]
  },
  {
   "cell_type": "code",
   "execution_count": 64,
   "id": "e19d99ab",
   "metadata": {},
   "outputs": [
    {
     "data": {
      "text/plain": [
       "dict_keys([datetime.date(2022, 12, 2), datetime.date(2022, 12, 19), datetime.date(2022, 12, 18), datetime.date(2022, 12, 21), datetime.date(2022, 11, 23), datetime.date(2022, 11, 27), datetime.date(2022, 12, 4), datetime.date(2022, 11, 24), datetime.date(2022, 12, 3), datetime.date(2022, 12, 5), datetime.date(2022, 11, 28), datetime.date(2022, 11, 25), datetime.date(2022, 12, 1), datetime.date(2022, 11, 29), datetime.date(2022, 11, 30), datetime.date(2022, 11, 26), datetime.date(2022, 11, 21)])"
      ]
     },
     "execution_count": 64,
     "metadata": {},
     "output_type": "execute_result"
    }
   ],
   "source": [
    "dict(sorted(mahsa.items(), key=lambda item: item[1])).keys()"
   ]
  },
  {
   "cell_type": "code",
   "execution_count": 137,
   "id": "f5486746",
   "metadata": {},
   "outputs": [],
   "source": [
    "def occurences_in_date_dict(date_dict):\n",
    "    y = []\n",
    "    \n",
    "    for date in downloaded_dates:\n",
    "        if date in date_dict.keys():\n",
    "            y.append(date_dict[date])\n",
    "        else:\n",
    "            y.append(0)\n",
    "            \n",
    "    return y"
   ]
  },
  {
   "cell_type": "code",
   "execution_count": 125,
   "id": "b7da1a94",
   "metadata": {},
   "outputs": [],
   "source": [
    "y = occurences_in_date_dict(mahsa)"
   ]
  },
  {
   "cell_type": "code",
   "execution_count": 126,
   "id": "0c5d3689",
   "metadata": {},
   "outputs": [
    {
     "data": {
      "image/png": "[encoded data removed]",
      "text/plain": [
       "<Figure size 640x480 with 1 Axes>"
      ]
     },
     "metadata": {},
     "output_type": "display_data"
    }
   ],
   "source": [
    "plt.plot(downloaded_dates, y)\n",
    "plt.gcf().autofmt_xdate()"
   ]
  },
  {
   "cell_type": "code",
   "execution_count": 144,
   "id": "758c5110",
   "metadata": {},
   "outputs": [],
   "source": [
    "uru = get_dates_of_hashtag('Argentina')"
   ]
  },
  {
   "cell_type": "code",
   "execution_count": 145,
   "id": "e4e4f205",
   "metadata": {},
   "outputs": [],
   "source": [
    "y = occurences_in_date_dict(uru)"
   ]
  },
  {
   "cell_type": "code",
   "execution_count": 146,
   "id": "6f3765ed",
   "metadata": {},
   "outputs": [
    {
     "data": {
      "image/png": "[encoded data removed]",
      "text/plain": [
       "<Figure size 640x480 with 1 Axes>"
      ]
     },
     "metadata": {},
     "output_type": "display_data"
    }
   ],
   "source": [
    "plt.plot(downloaded_dates, y)\n",
    "plt.gcf().autofmt_xdate()"
   ]
  }
 ],
 "metadata": {
  "kernelspec": {
   "display_name": "Python 3 (ipykernel)",
   "language": "python",
   "name": "python3"
  },
  "language_info": {
   "codemirror_mode": {
    "name": "ipython",
    "version": 3
   },
   "file_extension": ".py",
   "mimetype": "text/x-python",
   "name": "python",
   "nbconvert_exporter": "python",
   "pygments_lexer": "ipython3",
   "version": "3.9.13"
  }
 },
 "nbformat": 4,
 "nbformat_minor": 5
}
