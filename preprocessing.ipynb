{
 "cells": [
  {
   "cell_type": "code",
   "execution_count": 1,
   "outputs": [],
   "source": [
    "import pandas as pd\n",
    "import matplotlib.pyplot as plt\n",
    "import re\n",
    "import demoji\n",
    "import nltk\n",
    "from nltk import FreqDist\n",
    "from nltk.corpus import stopwords\n",
    "from nltk.corpus import opinion_lexicon\n",
    "from nltk.tokenize import TweetTokenizer\n",
    "from wordcloud import WordCloud"
   ],
   "metadata": {
    "collapsed": false,
    "pycharm": {
     "name": "#%%\n"
    }
   }
  },
  {
   "cell_type": "code",
   "execution_count": 2,
   "outputs": [
    {
     "name": "stderr",
     "output_type": "stream",
     "text": [
      "[nltk_data] Downloading package stopwords to\n",
      "[nltk_data]     C:\\Users\\Konrad\\AppData\\Roaming\\nltk_data...\n",
      "[nltk_data]   Package stopwords is already up-to-date!\n",
      "[nltk_data] Downloading package opinion_lexicon to\n",
      "[nltk_data]     C:\\Users\\Konrad\\AppData\\Roaming\\nltk_data...\n",
      "[nltk_data]   Package opinion_lexicon is already up-to-date!\n"
     ]
    },
    {
     "data": {
      "text/plain": "True"
     },
     "execution_count": 2,
     "metadata": {},
     "output_type": "execute_result"
    }
   ],
   "source": [
    "nltk.download('stopwords')\n",
    "nltk.download('opinion_lexicon')"
   ],
   "metadata": {
    "collapsed": false,
    "pycharm": {
     "name": "#%%\n"
    }
   }
  },
  {
   "cell_type": "code",
   "execution_count": 3,
   "outputs": [],
   "source": [
    "# Choosing a theme for collected data\n",
    "theme = 'WorldCup'"
   ],
   "metadata": {
    "collapsed": false,
    "pycharm": {
     "name": "#%%\n"
    }
   }
  },
  {
   "cell_type": "code",
   "execution_count": 4,
   "outputs": [],
   "source": [
    "# Loading collected data\n",
    "tweets = pd.read_csv(f'./data/{theme}/tweets.csv')\n",
    "users = pd.read_csv(f'./data/{theme}/users.csv')"
   ],
   "metadata": {
    "collapsed": false,
    "pycharm": {
     "name": "#%%\n"
    }
   }
  },
  {
   "cell_type": "code",
   "execution_count": 5,
   "outputs": [],
   "source": [
    "# Dropping duplicated data\n",
    "tweets = tweets.drop_duplicates(subset=['id'])\n",
    "users = users.drop_duplicates(subset=['id'])"
   ],
   "metadata": {
    "collapsed": false,
    "pycharm": {
     "name": "#%%\n"
    }
   }
  },
  {
   "cell_type": "code",
   "execution_count": 6,
   "outputs": [],
   "source": [
    "# Getting tweets in english\n",
    "tweets_en = tweets[tweets['lang'] == 'en']"
   ],
   "metadata": {
    "collapsed": false,
    "pycharm": {
     "name": "#%%\n"
    }
   }
  },
  {
   "cell_type": "code",
   "execution_count": 7,
   "outputs": [],
   "source": [
    "# Preprocessing function\n",
    "punctuation = ['.', ',', '|', '-', '?', '!', ':', '\\'', '\\\"', '$', '&', '<', '>']\n",
    "\n",
    "def preprocess(text):\n",
    "    # Removing links and mentions\n",
    "    text_links = re.sub(r'(@|https?)\\S+', '', text)\n",
    "\n",
    "    # Cleaning whitespaces\n",
    "    text_white = re.sub(r\"\\s+\", \" \", text_links, flags=re.UNICODE)\n",
    "\n",
    "    # Removing numbers\n",
    "    text_number = re.sub(r\"\\d+\", \"\", text_white)\n",
    "\n",
    "    # Lowering text\n",
    "    text_lower = text_number.lower()\n",
    "\n",
    "    # Removing punctuation\n",
    "    text_punctuation = \"\".join([i for i in text_lower if i not in punctuation])\n",
    "\n",
    "    # Removing emojis\n",
    "    text_emoji = demoji.replace(text_punctuation, '')\n",
    "\n",
    "    return text_emoji"
   ],
   "metadata": {
    "collapsed": false,
    "pycharm": {
     "name": "#%%\n"
    }
   }
  },
  {
   "cell_type": "code",
   "execution_count": 8,
   "outputs": [],
   "source": [
    "# Tokenizing function\n",
    "tokenizer = TweetTokenizer()\n",
    "\n",
    "def tokenize(text):\n",
    "    text_words = [word for word in tokenizer.tokenize(text)]\n",
    "    return text_words"
   ],
   "metadata": {
    "collapsed": false,
    "pycharm": {
     "name": "#%%\n"
    }
   }
  },
  {
   "cell_type": "code",
   "execution_count": 9,
   "outputs": [],
   "source": [
    "# Stopwords removal function\n",
    "stop_words = set(stopwords.words('english'))\n",
    "\n",
    "def remove_stopwords(text):\n",
    "    text_stopwords = [word for word in text if word not in stop_words]\n",
    "\n",
    "    return text_stopwords"
   ],
   "metadata": {
    "collapsed": false,
    "pycharm": {
     "name": "#%%\n"
    }
   }
  },
  {
   "cell_type": "code",
   "execution_count": 10,
   "outputs": [
    {
     "name": "stderr",
     "output_type": "stream",
     "text": [
      "C:\\Users\\Konrad\\AppData\\Local\\Temp\\ipykernel_19184\\2831565511.py:2: SettingWithCopyWarning: \n",
      "A value is trying to be set on a copy of a slice from a DataFrame.\n",
      "Try using .loc[row_indexer,col_indexer] = value instead\n",
      "\n",
      "See the caveats in the documentation: https://pandas.pydata.org/pandas-docs/stable/user_guide/indexing.html#returning-a-view-versus-a-copy\n",
      "  tweets_en['text_clean'] = tweets_en.text.apply(lambda row : preprocess(row))\n"
     ]
    }
   ],
   "source": [
    "# Applying preprocessing function\n",
    "tweets_en['text_clean'] = tweets_en.text.apply(lambda row : preprocess(row))"
   ],
   "metadata": {
    "collapsed": false,
    "pycharm": {
     "name": "#%%\n"
    }
   }
  },
  {
   "cell_type": "code",
   "execution_count": 11,
   "outputs": [
    {
     "name": "stderr",
     "output_type": "stream",
     "text": [
      "C:\\Users\\Konrad\\AppData\\Local\\Temp\\ipykernel_19184\\2381255106.py:2: SettingWithCopyWarning: \n",
      "A value is trying to be set on a copy of a slice from a DataFrame.\n",
      "Try using .loc[row_indexer,col_indexer] = value instead\n",
      "\n",
      "See the caveats in the documentation: https://pandas.pydata.org/pandas-docs/stable/user_guide/indexing.html#returning-a-view-versus-a-copy\n",
      "  tweets_en['text_clean_list'] = tweets_en.text_clean.apply(lambda row : tokenize(row))\n"
     ]
    }
   ],
   "source": [
    "# Applying tokenizing function\n",
    "tweets_en['text_clean_list'] = tweets_en.text_clean.apply(lambda row : tokenize(row))"
   ],
   "metadata": {
    "collapsed": false,
    "pycharm": {
     "name": "#%%\n"
    }
   }
  },
  {
   "cell_type": "code",
   "execution_count": 12,
   "outputs": [
    {
     "name": "stderr",
     "output_type": "stream",
     "text": [
      "C:\\Users\\Konrad\\AppData\\Local\\Temp\\ipykernel_19184\\4086829583.py:2: SettingWithCopyWarning: \n",
      "A value is trying to be set on a copy of a slice from a DataFrame.\n",
      "Try using .loc[row_indexer,col_indexer] = value instead\n",
      "\n",
      "See the caveats in the documentation: https://pandas.pydata.org/pandas-docs/stable/user_guide/indexing.html#returning-a-view-versus-a-copy\n",
      "  tweets_en['text_clean_stopwords'] = tweets_en.text_clean_list.apply(lambda row : remove_stopwords(row))\n"
     ]
    }
   ],
   "source": [
    "# Applying stopwords removal function\n",
    "tweets_en['text_clean_stopwords'] = tweets_en.text_clean_list.apply(lambda row : remove_stopwords(row))"
   ],
   "metadata": {
    "collapsed": false,
    "pycharm": {
     "name": "#%%\n"
    }
   }
  },
  {
   "cell_type": "code",
   "execution_count": 13,
   "outputs": [
    {
     "name": "stderr",
     "output_type": "stream",
     "text": [
      "C:\\Users\\Konrad\\AppData\\Local\\Temp\\ipykernel_19184\\1668657259.py:3: SettingWithCopyWarning: \n",
      "A value is trying to be set on a copy of a slice from a DataFrame.\n",
      "Try using .loc[row_indexer,col_indexer] = value instead\n",
      "\n",
      "See the caveats in the documentation: https://pandas.pydata.org/pandas-docs/stable/user_guide/indexing.html#returning-a-view-versus-a-copy\n",
      "  tweets_en['hashtags_list'] = tweets_en.text.apply(lambda row : re.findall('#(\\w+)', row))\n"
     ]
    }
   ],
   "source": [
    "# Obtaining list of hashtags from a tweet\n",
    "# tweets_en['hashtags_list'] = tweets_en.text_clean_list.apply(lambda row : [hashtag for hashtag in row if hashtag.startswith('#')])\n",
    "tweets_en['hashtags_list'] = tweets_en.text.apply(lambda row : re.findall('#(\\w+)', row))"
   ],
   "metadata": {
    "collapsed": false,
    "pycharm": {
     "name": "#%%\n"
    }
   }
  },
  {
   "cell_type": "code",
   "execution_count": 14,
   "outputs": [
    {
     "data": {
      "text/plain": "           hashtag                   id            author_id  \\\n2       #Qatar2022  1592601191761838081  1591065849531604994   \n5       #Qatar2022  1592601156412649477   968203797049769984   \n7       #Qatar2022  1592601145545031681  1585336194010955781   \n8       #Qatar2022  1592601145503059968  1585336194010955781   \n9       #Qatar2022  1592601145415008256  1585336194010955781   \n...            ...                  ...                  ...   \n461392  #Qatar2022  1605037565999980545  1499701605079396353   \n461393  #Qatar2022  1605037409074573313   897741929387106305   \n461405  #Qatar2022  1605037015233310720  1363653333479788549   \n461406  #Qatar2022  1605036970660462602  1522221998151061509   \n461407  #Qatar2022  1605036968588484609  1504760689650552863   \n\n                                                     text  like_count  \\\n2       Massage and sex in Qatar❤️\\nMassage body to bo...           0   \n5       How to identify a whitexican in Qatar 2022  #Q...           0   \n7       Gillingham vs AFC Fylde\\n\\n⏰ 4:45:00 PM\\n\\nWho...           0   \n8       Derby vs Torquay\\n\\n⏰ 4:45:00 PM\\n\\nWho's goin...           0   \n9       Cambridge United vs Curzon Ashton\\n\\n⏰ 4:45:00...           0   \n...                                                   ...         ...   \n461392  The coronation of the true living #GOAT! @WeAr...           0   \n461393  Peter Drury on Argentina’s winning moment.\\n\\n...           3   \n461405  Argentine dairy industry #DitchDairy @dairy_tr...           0   \n461406  This time @TeamMessi Argentina ⚽❤✌ \\n\\n 📕 #Dex...           0   \n461407  The real GOAT 🐐 congrats LEO @TeamMessi😭🇦🇷 \\n\\...           0   \n\n        reply_count  retweet_count  quote_count                 created_at  \\\n2                 0              0            0  2022-11-15 19:31:27+00:00   \n5                 1              0            0  2022-11-15 19:31:19+00:00   \n7                 0              0            0  2022-11-15 19:31:16+00:00   \n8                 0              0            0  2022-11-15 19:31:16+00:00   \n9                 0              0            0  2022-11-15 19:31:16+00:00   \n...             ...            ...          ...                        ...   \n461392            0              0            0  2022-12-20 03:09:10+00:00   \n461393            0              0            0  2022-12-20 03:08:33+00:00   \n461405            0              0            0  2022-12-20 03:06:59+00:00   \n461406            0              0            0  2022-12-20 03:06:48+00:00   \n461407            0              0            0  2022-12-20 03:06:48+00:00   \n\n       lang                                        mentions  \\\n2        en                                             NaN   \n5        en                                             NaN   \n7        en                                             NaN   \n8        en                                             NaN   \n9        en                                             NaN   \n...     ...                                             ...   \n461392   en                    ['2849963640', '1058376110']   \n461393   en                                             NaN   \n461405   en  ['1370074650038910983', '1246189682150367233']   \n461406   en                                  ['1058376110']   \n461407   en                                  ['1058376110']   \n\n                                               text_clean  \\\n2       massage and sex in qatar massage body to body ...   \n5       how to identify a whitexican in qatar  #qatar ...   \n7       gillingham vs afc fylde   pm whos going to win...   \n8       derby vs torquay   pm whos going to win #fifaw...   \n9       cambridge united vs curzon ashton   pm whos go...   \n...                                                   ...   \n461392  the coronation of the true living #goat  #dext...   \n461393  peter drury on argentina’s winning moment #mes...   \n461405  argentine dairy industry #ditchdairy #worldcup...   \n461406  this time argentina   #dextools quack wool chz...   \n461407  the real goat  congrats leo  #dextools twt dyp...   \n\n                                          text_clean_list  \\\n2       [massage, and, sex, in, qatar, massage, body, ...   \n5       [how, to, identify, a, whitexican, in, qatar, ...   \n7       [gillingham, vs, afc, fylde, pm, whos, going, ...   \n8       [derby, vs, torquay, pm, whos, going, to, win,...   \n9       [cambridge, united, vs, curzon, ashton, pm, wh...   \n...                                                   ...   \n461392  [the, coronation, of, the, true, living, #goat...   \n461393  [peter, drury, on, argentina, ’, s, winning, m...   \n461405  [argentine, dairy, industry, #ditchdairy, #wor...   \n461406  [this, time, argentina, #dextools, quack, wool...   \n461407  [the, real, goat, congrats, leo, #dextools, tw...   \n\n                                     text_clean_stopwords  \\\n2       [massage, sex, qatar, massage, body, body, #qa...   \n5       [identify, whitexican, qatar, #qatar, #mexico,...   \n7       [gillingham, vs, afc, fylde, pm, whos, going, ...   \n8       [derby, vs, torquay, pm, whos, going, win, #fi...   \n9       [cambridge, united, vs, curzon, ashton, pm, wh...   \n...                                                   ...   \n461392  [coronation, true, living, #goat, #dextools, e...   \n461393  [peter, drury, argentina, ’, winning, moment, ...   \n461405  [argentine, dairy, industry, #ditchdairy, #wor...   \n461406  [time, argentina, #dextools, quack, wool, chz,...   \n461407  [real, goat, congrats, leo, #dextools, twt, dy...   \n\n                                            hashtags_list  \n2                                      [Qatar, Qatar2022]  \n5                       [Qatar2022, Mexico, WorldCup2022]  \n7                               [FIFAWorldCup, Qatar2022]  \n8                               [FIFAWorldCup, Qatar2022]  \n9                               [FIFAWorldCup, Qatar2022]  \n...                                                   ...  \n461392  [GOAT, Dextools, WorldCup2022, WorldCup, Qatar...  \n461393  [Messi𓃵, ArgentinaVsFrance, Qatar2022, FIFAWor...  \n461405  [DitchDairy, WorldCupFinal, FIFAWorldCup, Qata...  \n461406  [Dextools, WorldCup2022, WorldCup, Qatar2022, ...  \n461407  [Dextools, WorldCup2022, WorldCup, Qatar2022, ...  \n\n[129725 rows x 15 columns]",
      "text/html": "<div>\n<style scoped>\n    .dataframe tbody tr th:only-of-type {\n        vertical-align: middle;\n    }\n\n    .dataframe tbody tr th {\n        vertical-align: top;\n    }\n\n    .dataframe thead th {\n        text-align: right;\n    }\n</style>\n<table border=\"1\" class=\"dataframe\">\n  <thead>\n    <tr style=\"text-align: right;\">\n      <th></th>\n      <th>hashtag</th>\n      <th>id</th>\n      <th>author_id</th>\n      <th>text</th>\n      <th>like_count</th>\n      <th>reply_count</th>\n      <th>retweet_count</th>\n      <th>quote_count</th>\n      <th>created_at</th>\n      <th>lang</th>\n      <th>mentions</th>\n      <th>text_clean</th>\n      <th>text_clean_list</th>\n      <th>text_clean_stopwords</th>\n      <th>hashtags_list</th>\n    </tr>\n  </thead>\n  <tbody>\n    <tr>\n      <th>2</th>\n      <td>#Qatar2022</td>\n      <td>1592601191761838081</td>\n      <td>1591065849531604994</td>\n      <td>Massage and sex in Qatar❤️\\nMassage body to bo...</td>\n      <td>0</td>\n      <td>0</td>\n      <td>0</td>\n      <td>0</td>\n      <td>2022-11-15 19:31:27+00:00</td>\n      <td>en</td>\n      <td>NaN</td>\n      <td>massage and sex in qatar massage body to body ...</td>\n      <td>[massage, and, sex, in, qatar, massage, body, ...</td>\n      <td>[massage, sex, qatar, massage, body, body, #qa...</td>\n      <td>[Qatar, Qatar2022]</td>\n    </tr>\n    <tr>\n      <th>5</th>\n      <td>#Qatar2022</td>\n      <td>1592601156412649477</td>\n      <td>968203797049769984</td>\n      <td>How to identify a whitexican in Qatar 2022  #Q...</td>\n      <td>0</td>\n      <td>1</td>\n      <td>0</td>\n      <td>0</td>\n      <td>2022-11-15 19:31:19+00:00</td>\n      <td>en</td>\n      <td>NaN</td>\n      <td>how to identify a whitexican in qatar  #qatar ...</td>\n      <td>[how, to, identify, a, whitexican, in, qatar, ...</td>\n      <td>[identify, whitexican, qatar, #qatar, #mexico,...</td>\n      <td>[Qatar2022, Mexico, WorldCup2022]</td>\n    </tr>\n    <tr>\n      <th>7</th>\n      <td>#Qatar2022</td>\n      <td>1592601145545031681</td>\n      <td>1585336194010955781</td>\n      <td>Gillingham vs AFC Fylde\\n\\n⏰ 4:45:00 PM\\n\\nWho...</td>\n      <td>0</td>\n      <td>0</td>\n      <td>0</td>\n      <td>0</td>\n      <td>2022-11-15 19:31:16+00:00</td>\n      <td>en</td>\n      <td>NaN</td>\n      <td>gillingham vs afc fylde   pm whos going to win...</td>\n      <td>[gillingham, vs, afc, fylde, pm, whos, going, ...</td>\n      <td>[gillingham, vs, afc, fylde, pm, whos, going, ...</td>\n      <td>[FIFAWorldCup, Qatar2022]</td>\n    </tr>\n    <tr>\n      <th>8</th>\n      <td>#Qatar2022</td>\n      <td>1592601145503059968</td>\n      <td>1585336194010955781</td>\n      <td>Derby vs Torquay\\n\\n⏰ 4:45:00 PM\\n\\nWho's goin...</td>\n      <td>0</td>\n      <td>0</td>\n      <td>0</td>\n      <td>0</td>\n      <td>2022-11-15 19:31:16+00:00</td>\n      <td>en</td>\n      <td>NaN</td>\n      <td>derby vs torquay   pm whos going to win #fifaw...</td>\n      <td>[derby, vs, torquay, pm, whos, going, to, win,...</td>\n      <td>[derby, vs, torquay, pm, whos, going, win, #fi...</td>\n      <td>[FIFAWorldCup, Qatar2022]</td>\n    </tr>\n    <tr>\n      <th>9</th>\n      <td>#Qatar2022</td>\n      <td>1592601145415008256</td>\n      <td>1585336194010955781</td>\n      <td>Cambridge United vs Curzon Ashton\\n\\n⏰ 4:45:00...</td>\n      <td>0</td>\n      <td>0</td>\n      <td>0</td>\n      <td>0</td>\n      <td>2022-11-15 19:31:16+00:00</td>\n      <td>en</td>\n      <td>NaN</td>\n      <td>cambridge united vs curzon ashton   pm whos go...</td>\n      <td>[cambridge, united, vs, curzon, ashton, pm, wh...</td>\n      <td>[cambridge, united, vs, curzon, ashton, pm, wh...</td>\n      <td>[FIFAWorldCup, Qatar2022]</td>\n    </tr>\n    <tr>\n      <th>...</th>\n      <td>...</td>\n      <td>...</td>\n      <td>...</td>\n      <td>...</td>\n      <td>...</td>\n      <td>...</td>\n      <td>...</td>\n      <td>...</td>\n      <td>...</td>\n      <td>...</td>\n      <td>...</td>\n      <td>...</td>\n      <td>...</td>\n      <td>...</td>\n      <td>...</td>\n    </tr>\n    <tr>\n      <th>461392</th>\n      <td>#Qatar2022</td>\n      <td>1605037565999980545</td>\n      <td>1499701605079396353</td>\n      <td>The coronation of the true living #GOAT! @WeAr...</td>\n      <td>0</td>\n      <td>0</td>\n      <td>0</td>\n      <td>0</td>\n      <td>2022-12-20 03:09:10+00:00</td>\n      <td>en</td>\n      <td>['2849963640', '1058376110']</td>\n      <td>the coronation of the true living #goat  #dext...</td>\n      <td>[the, coronation, of, the, true, living, #goat...</td>\n      <td>[coronation, true, living, #goat, #dextools, e...</td>\n      <td>[GOAT, Dextools, WorldCup2022, WorldCup, Qatar...</td>\n    </tr>\n    <tr>\n      <th>461393</th>\n      <td>#Qatar2022</td>\n      <td>1605037409074573313</td>\n      <td>897741929387106305</td>\n      <td>Peter Drury on Argentina’s winning moment.\\n\\n...</td>\n      <td>3</td>\n      <td>0</td>\n      <td>0</td>\n      <td>0</td>\n      <td>2022-12-20 03:08:33+00:00</td>\n      <td>en</td>\n      <td>NaN</td>\n      <td>peter drury on argentina’s winning moment #mes...</td>\n      <td>[peter, drury, on, argentina, ’, s, winning, m...</td>\n      <td>[peter, drury, argentina, ’, winning, moment, ...</td>\n      <td>[Messi𓃵, ArgentinaVsFrance, Qatar2022, FIFAWor...</td>\n    </tr>\n    <tr>\n      <th>461405</th>\n      <td>#Qatar2022</td>\n      <td>1605037015233310720</td>\n      <td>1363653333479788549</td>\n      <td>Argentine dairy industry #DitchDairy @dairy_tr...</td>\n      <td>0</td>\n      <td>0</td>\n      <td>0</td>\n      <td>0</td>\n      <td>2022-12-20 03:06:59+00:00</td>\n      <td>en</td>\n      <td>['1370074650038910983', '1246189682150367233']</td>\n      <td>argentine dairy industry #ditchdairy #worldcup...</td>\n      <td>[argentine, dairy, industry, #ditchdairy, #wor...</td>\n      <td>[argentine, dairy, industry, #ditchdairy, #wor...</td>\n      <td>[DitchDairy, WorldCupFinal, FIFAWorldCup, Qata...</td>\n    </tr>\n    <tr>\n      <th>461406</th>\n      <td>#Qatar2022</td>\n      <td>1605036970660462602</td>\n      <td>1522221998151061509</td>\n      <td>This time @TeamMessi Argentina ⚽❤✌ \\n\\n 📕 #Dex...</td>\n      <td>0</td>\n      <td>0</td>\n      <td>0</td>\n      <td>0</td>\n      <td>2022-12-20 03:06:48+00:00</td>\n      <td>en</td>\n      <td>['1058376110']</td>\n      <td>this time argentina   #dextools quack wool chz...</td>\n      <td>[this, time, argentina, #dextools, quack, wool...</td>\n      <td>[time, argentina, #dextools, quack, wool, chz,...</td>\n      <td>[Dextools, WorldCup2022, WorldCup, Qatar2022, ...</td>\n    </tr>\n    <tr>\n      <th>461407</th>\n      <td>#Qatar2022</td>\n      <td>1605036968588484609</td>\n      <td>1504760689650552863</td>\n      <td>The real GOAT 🐐 congrats LEO @TeamMessi😭🇦🇷 \\n\\...</td>\n      <td>0</td>\n      <td>0</td>\n      <td>0</td>\n      <td>0</td>\n      <td>2022-12-20 03:06:48+00:00</td>\n      <td>en</td>\n      <td>['1058376110']</td>\n      <td>the real goat  congrats leo  #dextools twt dyp...</td>\n      <td>[the, real, goat, congrats, leo, #dextools, tw...</td>\n      <td>[real, goat, congrats, leo, #dextools, twt, dy...</td>\n      <td>[Dextools, WorldCup2022, WorldCup, Qatar2022, ...</td>\n    </tr>\n  </tbody>\n</table>\n<p>129725 rows × 15 columns</p>\n</div>"
     },
     "execution_count": 14,
     "metadata": {},
     "output_type": "execute_result"
    }
   ],
   "source": [
    "# Displaying preprocessed data\n",
    "tweets_en"
   ],
   "metadata": {
    "collapsed": false,
    "pycharm": {
     "name": "#%%\n"
    }
   }
  },
  {
   "cell_type": "code",
   "execution_count": 15,
   "outputs": [],
   "source": [
    "# Saving processed tweets and users datasets\n",
    "tweets_en.to_csv(f'./data/{theme}/tweets_clean.csv')\n",
    "users.to_csv(f'./data/{theme}/users_clean.csv')"
   ],
   "metadata": {
    "collapsed": false,
    "pycharm": {
     "name": "#%%\n"
    }
   }
  }
 ],
 "metadata": {
  "kernelspec": {
   "display_name": "Python 3",
   "language": "python",
   "name": "python3"
  },
  "language_info": {
   "codemirror_mode": {
    "name": "ipython",
    "version": 2
   },
   "file_extension": ".py",
   "mimetype": "text/x-python",
   "name": "python",
   "nbconvert_exporter": "python",
   "pygments_lexer": "ipython2",
   "version": "2.7.6"
  }
 },
 "nbformat": 4,
 "nbformat_minor": 0
}