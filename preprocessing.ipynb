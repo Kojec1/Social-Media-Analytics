{
 "cells": [
  {
   "cell_type": "code",
   "execution_count": 11,
   "outputs": [],
   "source": [
    "import pandas as pd"
   ],
   "metadata": {
    "collapsed": false,
    "pycharm": {
     "name": "#%%\n"
    }
   }
  },
  {
   "cell_type": "code",
   "execution_count": 12,
   "outputs": [],
   "source": [
    "theme = 'WorldCup'"
   ],
   "metadata": {
    "collapsed": false,
    "pycharm": {
     "name": "#%%\n"
    }
   }
  },
  {
   "cell_type": "code",
   "execution_count": 13,
   "outputs": [],
   "source": [
    "tweets = pd.read_csv(f'./data/{theme}/tweets.csv')\n",
    "users = pd.read_csv(f'./data/{theme}/users.csv')"
   ],
   "metadata": {
    "collapsed": false,
    "pycharm": {
     "name": "#%%\n"
    }
   }
  },
  {
   "cell_type": "code",
   "execution_count": 17,
   "outputs": [
    {
     "data": {
      "text/plain": "           hashtag                   id            author_id  \\\n0       #Qatar2022  1592601212511133696           3254197047   \n1       #Qatar2022  1592601205595070464  1441282471400673280   \n2       #Qatar2022  1592601191761838081  1591065849531604994   \n3       #Qatar2022  1592601170014412800           2901835883   \n4       #Qatar2022  1592601169922523136  1456620452261072896   \n...            ...                  ...                  ...   \n184409  #Qatar2022  1596319413795684352  1579998556026724352   \n184410  #Qatar2022  1596319399707029504  1568351925891899397   \n184411  #Qatar2022  1596319397924458497   920379223881154561   \n184412  #Qatar2022  1596319395772764160  1319577175679365120   \n184413  #Qatar2022  1596319392253759488            499044422   \n\n                                                     text  like_count  \\\n0       Uffà...ma quando finiscono i mondiali di #Qata...           0   \n1       Η εντυπωσιακή σύμπτωση με τα «αστέρια» της Παρ...           0   \n2       Massage and sex in Qatar❤️\\nMassage body to bo...           0   \n3       #Qatar2022 | NKUNKU ENCIENDE LAS ALARMAS 🚨\\n\\n...           0   \n4       Ils étaient en 2018 en Russie, ils sont retenu...           0   \n...                                                   ...         ...   \n184409  #Qatar2022 #FIFAWorldCup #FIFAWorldCup2022 #Wo...           0   \n184410               Mañana juega ARGENTINAA \\n#Qatar2022           0   \n184411  Así fue el rendimiento de @sujenoel durante el...           2   \n184412  @FoxNews On November 17, Luc Despins took the ...           0   \n184413  ⚽ Hay esperanzas para el Tri. Ricardo #LaVolpe...           0   \n\n        reply_count  retweet_count  quote_count                 created_at  \\\n0                 0              0            0  2022-11-15 19:31:32+00:00   \n1                 0              0            0  2022-11-15 19:31:31+00:00   \n2                 0              0            0  2022-11-15 19:31:27+00:00   \n3                 0              0            0  2022-11-15 19:31:22+00:00   \n4                 0              0            0  2022-11-15 19:31:22+00:00   \n...             ...            ...          ...                        ...   \n184409            0              0            0  2022-11-26 01:46:21+00:00   \n184410            0              0            0  2022-11-26 01:46:17+00:00   \n184411            0              0            0  2022-11-26 01:46:17+00:00   \n184412            0              0            0  2022-11-26 01:46:16+00:00   \n184413            0              0            0  2022-11-26 01:46:15+00:00   \n\n       lang       mentions  \n0        it            NaN  \n1        el            NaN  \n2        en            NaN  \n3        es            NaN  \n4        fr            NaN  \n...     ...            ...  \n184409  qht            NaN  \n184410   es            NaN  \n184411   es  ['139214841']  \n184412   en    ['1367531']  \n184413   es  ['268361752']  \n\n[100641 rows x 11 columns]",
      "text/html": "<div>\n<style scoped>\n    .dataframe tbody tr th:only-of-type {\n        vertical-align: middle;\n    }\n\n    .dataframe tbody tr th {\n        vertical-align: top;\n    }\n\n    .dataframe thead th {\n        text-align: right;\n    }\n</style>\n<table border=\"1\" class=\"dataframe\">\n  <thead>\n    <tr style=\"text-align: right;\">\n      <th></th>\n      <th>hashtag</th>\n      <th>id</th>\n      <th>author_id</th>\n      <th>text</th>\n      <th>like_count</th>\n      <th>reply_count</th>\n      <th>retweet_count</th>\n      <th>quote_count</th>\n      <th>created_at</th>\n      <th>lang</th>\n      <th>mentions</th>\n    </tr>\n  </thead>\n  <tbody>\n    <tr>\n      <th>0</th>\n      <td>#Qatar2022</td>\n      <td>1592601212511133696</td>\n      <td>3254197047</td>\n      <td>Uffà...ma quando finiscono i mondiali di #Qata...</td>\n      <td>0</td>\n      <td>0</td>\n      <td>0</td>\n      <td>0</td>\n      <td>2022-11-15 19:31:32+00:00</td>\n      <td>it</td>\n      <td>NaN</td>\n    </tr>\n    <tr>\n      <th>1</th>\n      <td>#Qatar2022</td>\n      <td>1592601205595070464</td>\n      <td>1441282471400673280</td>\n      <td>Η εντυπωσιακή σύμπτωση με τα «αστέρια» της Παρ...</td>\n      <td>0</td>\n      <td>0</td>\n      <td>0</td>\n      <td>0</td>\n      <td>2022-11-15 19:31:31+00:00</td>\n      <td>el</td>\n      <td>NaN</td>\n    </tr>\n    <tr>\n      <th>2</th>\n      <td>#Qatar2022</td>\n      <td>1592601191761838081</td>\n      <td>1591065849531604994</td>\n      <td>Massage and sex in Qatar❤️\\nMassage body to bo...</td>\n      <td>0</td>\n      <td>0</td>\n      <td>0</td>\n      <td>0</td>\n      <td>2022-11-15 19:31:27+00:00</td>\n      <td>en</td>\n      <td>NaN</td>\n    </tr>\n    <tr>\n      <th>3</th>\n      <td>#Qatar2022</td>\n      <td>1592601170014412800</td>\n      <td>2901835883</td>\n      <td>#Qatar2022 | NKUNKU ENCIENDE LAS ALARMAS 🚨\\n\\n...</td>\n      <td>0</td>\n      <td>0</td>\n      <td>0</td>\n      <td>0</td>\n      <td>2022-11-15 19:31:22+00:00</td>\n      <td>es</td>\n      <td>NaN</td>\n    </tr>\n    <tr>\n      <th>4</th>\n      <td>#Qatar2022</td>\n      <td>1592601169922523136</td>\n      <td>1456620452261072896</td>\n      <td>Ils étaient en 2018 en Russie, ils sont retenu...</td>\n      <td>0</td>\n      <td>0</td>\n      <td>0</td>\n      <td>0</td>\n      <td>2022-11-15 19:31:22+00:00</td>\n      <td>fr</td>\n      <td>NaN</td>\n    </tr>\n    <tr>\n      <th>...</th>\n      <td>...</td>\n      <td>...</td>\n      <td>...</td>\n      <td>...</td>\n      <td>...</td>\n      <td>...</td>\n      <td>...</td>\n      <td>...</td>\n      <td>...</td>\n      <td>...</td>\n      <td>...</td>\n    </tr>\n    <tr>\n      <th>184409</th>\n      <td>#Qatar2022</td>\n      <td>1596319413795684352</td>\n      <td>1579998556026724352</td>\n      <td>#Qatar2022 #FIFAWorldCup #FIFAWorldCup2022 #Wo...</td>\n      <td>0</td>\n      <td>0</td>\n      <td>0</td>\n      <td>0</td>\n      <td>2022-11-26 01:46:21+00:00</td>\n      <td>qht</td>\n      <td>NaN</td>\n    </tr>\n    <tr>\n      <th>184410</th>\n      <td>#Qatar2022</td>\n      <td>1596319399707029504</td>\n      <td>1568351925891899397</td>\n      <td>Mañana juega ARGENTINAA \\n#Qatar2022</td>\n      <td>0</td>\n      <td>0</td>\n      <td>0</td>\n      <td>0</td>\n      <td>2022-11-26 01:46:17+00:00</td>\n      <td>es</td>\n      <td>NaN</td>\n    </tr>\n    <tr>\n      <th>184411</th>\n      <td>#Qatar2022</td>\n      <td>1596319397924458497</td>\n      <td>920379223881154561</td>\n      <td>Así fue el rendimiento de @sujenoel durante el...</td>\n      <td>2</td>\n      <td>0</td>\n      <td>0</td>\n      <td>0</td>\n      <td>2022-11-26 01:46:17+00:00</td>\n      <td>es</td>\n      <td>['139214841']</td>\n    </tr>\n    <tr>\n      <th>184412</th>\n      <td>#Qatar2022</td>\n      <td>1596319395772764160</td>\n      <td>1319577175679365120</td>\n      <td>@FoxNews On November 17, Luc Despins took the ...</td>\n      <td>0</td>\n      <td>0</td>\n      <td>0</td>\n      <td>0</td>\n      <td>2022-11-26 01:46:16+00:00</td>\n      <td>en</td>\n      <td>['1367531']</td>\n    </tr>\n    <tr>\n      <th>184413</th>\n      <td>#Qatar2022</td>\n      <td>1596319392253759488</td>\n      <td>499044422</td>\n      <td>⚽ Hay esperanzas para el Tri. Ricardo #LaVolpe...</td>\n      <td>0</td>\n      <td>0</td>\n      <td>0</td>\n      <td>0</td>\n      <td>2022-11-26 01:46:15+00:00</td>\n      <td>es</td>\n      <td>['268361752']</td>\n    </tr>\n  </tbody>\n</table>\n<p>100641 rows × 11 columns</p>\n</div>"
     },
     "execution_count": 17,
     "metadata": {},
     "output_type": "execute_result"
    }
   ],
   "source": [
    "tweets"
   ],
   "metadata": {
    "collapsed": false,
    "pycharm": {
     "name": "#%%\n"
    }
   }
  },
  {
   "cell_type": "code",
   "execution_count": 18,
   "outputs": [
    {
     "data": {
      "text/plain": "                         id         username                 created_at  \\\n0                3254197047    PalloneBucato  2015-05-14 16:48:40+00:00   \n1       1441282471400673280       BNsportsGr  2021-09-24 06:05:17+00:00   \n2       1591065849531604994   mistresslily85  2022-11-11 13:50:48+00:00   \n3                2901835883       lacasacatv  2014-12-02 04:01:41+00:00   \n4       1456620452261072896    XavBarretFoot  2021-11-05 13:54:59+00:00   \n...                     ...              ...                        ...   \n205688  1008955982549012480  AlbertGallard00  2018-06-19 06:13:46+00:00   \n205689   904112236108623872        laotian90  2017-09-02 22:42:09+00:00   \n205690  1142548358747361280           v2s400  2019-06-22 21:42:11+00:00   \n205691            138994780  JoaquinGPeralta  2010-05-01 06:49:10+00:00   \n205694            499044422  QuintanaRooHoy1  2012-02-21 18:21:57+00:00   \n\n        followers_count  following_count  tweet_count  protected  verified  \n0                   558              610        23651      False     False  \n1                  1260              142        19825      False     False  \n2                     0                5            7      False     False  \n3                  1991              445         7163      False     False  \n4                   631              205          624      False     False  \n...                 ...              ...          ...        ...       ...  \n205688              110             1393         1937      False     False  \n205689              364              391        59037      False     False  \n205690               31              245         1300      False     False  \n205691              207              148         9180      False     False  \n205694            16063             2277       158670      False     False  \n\n[53621 rows x 8 columns]",
      "text/html": "<div>\n<style scoped>\n    .dataframe tbody tr th:only-of-type {\n        vertical-align: middle;\n    }\n\n    .dataframe tbody tr th {\n        vertical-align: top;\n    }\n\n    .dataframe thead th {\n        text-align: right;\n    }\n</style>\n<table border=\"1\" class=\"dataframe\">\n  <thead>\n    <tr style=\"text-align: right;\">\n      <th></th>\n      <th>id</th>\n      <th>username</th>\n      <th>created_at</th>\n      <th>followers_count</th>\n      <th>following_count</th>\n      <th>tweet_count</th>\n      <th>protected</th>\n      <th>verified</th>\n    </tr>\n  </thead>\n  <tbody>\n    <tr>\n      <th>0</th>\n      <td>3254197047</td>\n      <td>PalloneBucato</td>\n      <td>2015-05-14 16:48:40+00:00</td>\n      <td>558</td>\n      <td>610</td>\n      <td>23651</td>\n      <td>False</td>\n      <td>False</td>\n    </tr>\n    <tr>\n      <th>1</th>\n      <td>1441282471400673280</td>\n      <td>BNsportsGr</td>\n      <td>2021-09-24 06:05:17+00:00</td>\n      <td>1260</td>\n      <td>142</td>\n      <td>19825</td>\n      <td>False</td>\n      <td>False</td>\n    </tr>\n    <tr>\n      <th>2</th>\n      <td>1591065849531604994</td>\n      <td>mistresslily85</td>\n      <td>2022-11-11 13:50:48+00:00</td>\n      <td>0</td>\n      <td>5</td>\n      <td>7</td>\n      <td>False</td>\n      <td>False</td>\n    </tr>\n    <tr>\n      <th>3</th>\n      <td>2901835883</td>\n      <td>lacasacatv</td>\n      <td>2014-12-02 04:01:41+00:00</td>\n      <td>1991</td>\n      <td>445</td>\n      <td>7163</td>\n      <td>False</td>\n      <td>False</td>\n    </tr>\n    <tr>\n      <th>4</th>\n      <td>1456620452261072896</td>\n      <td>XavBarretFoot</td>\n      <td>2021-11-05 13:54:59+00:00</td>\n      <td>631</td>\n      <td>205</td>\n      <td>624</td>\n      <td>False</td>\n      <td>False</td>\n    </tr>\n    <tr>\n      <th>...</th>\n      <td>...</td>\n      <td>...</td>\n      <td>...</td>\n      <td>...</td>\n      <td>...</td>\n      <td>...</td>\n      <td>...</td>\n      <td>...</td>\n    </tr>\n    <tr>\n      <th>205688</th>\n      <td>1008955982549012480</td>\n      <td>AlbertGallard00</td>\n      <td>2018-06-19 06:13:46+00:00</td>\n      <td>110</td>\n      <td>1393</td>\n      <td>1937</td>\n      <td>False</td>\n      <td>False</td>\n    </tr>\n    <tr>\n      <th>205689</th>\n      <td>904112236108623872</td>\n      <td>laotian90</td>\n      <td>2017-09-02 22:42:09+00:00</td>\n      <td>364</td>\n      <td>391</td>\n      <td>59037</td>\n      <td>False</td>\n      <td>False</td>\n    </tr>\n    <tr>\n      <th>205690</th>\n      <td>1142548358747361280</td>\n      <td>v2s400</td>\n      <td>2019-06-22 21:42:11+00:00</td>\n      <td>31</td>\n      <td>245</td>\n      <td>1300</td>\n      <td>False</td>\n      <td>False</td>\n    </tr>\n    <tr>\n      <th>205691</th>\n      <td>138994780</td>\n      <td>JoaquinGPeralta</td>\n      <td>2010-05-01 06:49:10+00:00</td>\n      <td>207</td>\n      <td>148</td>\n      <td>9180</td>\n      <td>False</td>\n      <td>False</td>\n    </tr>\n    <tr>\n      <th>205694</th>\n      <td>499044422</td>\n      <td>QuintanaRooHoy1</td>\n      <td>2012-02-21 18:21:57+00:00</td>\n      <td>16063</td>\n      <td>2277</td>\n      <td>158670</td>\n      <td>False</td>\n      <td>False</td>\n    </tr>\n  </tbody>\n</table>\n<p>53621 rows × 8 columns</p>\n</div>"
     },
     "execution_count": 18,
     "metadata": {},
     "output_type": "execute_result"
    }
   ],
   "source": [
    "users"
   ],
   "metadata": {
    "collapsed": false,
    "pycharm": {
     "name": "#%%\n"
    }
   }
  },
  {
   "cell_type": "code",
   "execution_count": 16,
   "outputs": [],
   "source": [
    "tweets = tweets.drop_duplicates(subset=['id'])\n",
    "users = users.drop_duplicates(subset=['id'])"
   ],
   "metadata": {
    "collapsed": false,
    "pycharm": {
     "name": "#%%\n"
    }
   }
  },
  {
   "cell_type": "code",
   "execution_count": null,
   "outputs": [],
   "source": [],
   "metadata": {
    "collapsed": false,
    "pycharm": {
     "name": "#%%\n"
    }
   }
  }
 ],
 "metadata": {
  "kernelspec": {
   "display_name": "Python 3",
   "language": "python",
   "name": "python3"
  },
  "language_info": {
   "codemirror_mode": {
    "name": "ipython",
    "version": 2
   },
   "file_extension": ".py",
   "mimetype": "text/x-python",
   "name": "python",
   "nbconvert_exporter": "python",
   "pygments_lexer": "ipython2",
   "version": "2.7.6"
  }
 },
 "nbformat": 4,
 "nbformat_minor": 0
}