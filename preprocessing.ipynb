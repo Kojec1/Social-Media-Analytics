{
 "cells": [
  {
   "cell_type": "code",
   "execution_count": 1,
   "outputs": [],
   "source": [
    "import pandas as pd\n",
    "import string\n",
    "import re\n",
    "import demoji\n",
    "import nltk\n",
    "from nltk.corpus import stopwords\n",
    "from nltk.stem import WordNetLemmatizer\n",
    "from nltk.tokenize import TweetTokenizer"
   ],
   "metadata": {
    "collapsed": false,
    "pycharm": {
     "name": "#%%\n"
    }
   }
  },
  {
   "cell_type": "code",
   "execution_count": 2,
   "outputs": [
    {
     "name": "stderr",
     "output_type": "stream",
     "text": [
      "[nltk_data] Downloading package stopwords to\n",
      "[nltk_data]     C:\\Users\\Konrad\\AppData\\Roaming\\nltk_data...\n",
      "[nltk_data]   Package stopwords is already up-to-date!\n",
      "[nltk_data] Downloading package opinion_lexicon to\n",
      "[nltk_data]     C:\\Users\\Konrad\\AppData\\Roaming\\nltk_data...\n",
      "[nltk_data]   Package opinion_lexicon is already up-to-date!\n"
     ]
    },
    {
     "data": {
      "text/plain": "True"
     },
     "execution_count": 2,
     "metadata": {},
     "output_type": "execute_result"
    }
   ],
   "source": [
    "nltk.download('stopwords')\n",
    "nltk.download('opinion_lexicon')"
   ],
   "metadata": {
    "collapsed": false,
    "pycharm": {
     "name": "#%%\n"
    }
   }
  },
  {
   "cell_type": "code",
   "execution_count": 3,
   "outputs": [],
   "source": [
    "# Choosing a theme for collected data\n",
    "theme = 'WorldCup'"
   ],
   "metadata": {
    "collapsed": false,
    "pycharm": {
     "name": "#%%\n"
    }
   }
  },
  {
   "cell_type": "code",
   "execution_count": 4,
   "outputs": [],
   "source": [
    "# Loading collected data\n",
    "tweets = pd.read_csv(f'./data/{theme}/tweets.csv')\n",
    "users = pd.read_csv(f'./data/{theme}/users.csv')"
   ],
   "metadata": {
    "collapsed": false,
    "pycharm": {
     "name": "#%%\n"
    }
   }
  },
  {
   "cell_type": "code",
   "execution_count": 5,
   "outputs": [],
   "source": [
    "# Dropping duplicated data\n",
    "tweets = tweets.drop_duplicates(subset=['id'])\n",
    "users = users.drop_duplicates(subset=['id'])"
   ],
   "metadata": {
    "collapsed": false,
    "pycharm": {
     "name": "#%%\n"
    }
   }
  },
  {
   "cell_type": "code",
   "execution_count": 6,
   "outputs": [],
   "source": [
    "# Getting tweets in english\n",
    "tweets_en = tweets[tweets['lang'] == 'en']"
   ],
   "metadata": {
    "collapsed": false,
    "pycharm": {
     "name": "#%%\n"
    }
   }
  },
  {
   "cell_type": "code",
   "execution_count": 7,
   "outputs": [],
   "source": [
    "# Preprocessing function\n",
    "\n",
    "def preprocess(text):\n",
    "    # Removing links and mentions\n",
    "    text_links = re.sub(r'(@|https?)\\S+', '', text)\n",
    "\n",
    "    # Cleaning whitespaces\n",
    "    text_white = re.sub(r\"\\s+\", \" \", text_links, flags=re.UNICODE)\n",
    "\n",
    "    # Removing numbers\n",
    "    text_number = re.sub(r\"\\d+\", \"\", text_white)\n",
    "\n",
    "    # Lowering text\n",
    "    text_lower = text_number.lower()\n",
    "\n",
    "    # Removing punctuation\n",
    "    text_punctuation = text_lower.translate(str.maketrans('', '', string.punctuation))\n",
    "\n",
    "    # Filtering all remaining redundant characters\n",
    "    text_characters = re.sub('[^a-z]', ' ', text_punctuation)\n",
    "\n",
    "    # Removing emojis\n",
    "    text_emoji = demoji.replace(text_characters, '')\n",
    "\n",
    "    return text_emoji"
   ],
   "metadata": {
    "collapsed": false,
    "pycharm": {
     "name": "#%%\n"
    }
   }
  },
  {
   "cell_type": "code",
   "execution_count": 8,
   "outputs": [],
   "source": [
    "# Lemmatizing function\n",
    "lemmatizer = WordNetLemmatizer()\n",
    "tokenizer = TweetTokenizer()\n",
    "\n",
    "def lemmatize(text):\n",
    "    text_words = [lemmatizer.lemmatize(word) for word in tokenizer.tokenize(text)]\n",
    "    return text_words"
   ],
   "metadata": {
    "collapsed": false,
    "pycharm": {
     "name": "#%%\n"
    }
   }
  },
  {
   "cell_type": "code",
   "execution_count": 9,
   "outputs": [],
   "source": [
    "# Stopwords removal function\n",
    "stop_words = set(stopwords.words('english'))\n",
    "\n",
    "def remove_stopwords(text):\n",
    "    text_stopwords = [word for word in text if word not in stop_words]\n",
    "\n",
    "    return text_stopwords"
   ],
   "metadata": {
    "collapsed": false,
    "pycharm": {
     "name": "#%%\n"
    }
   }
  },
  {
   "cell_type": "code",
   "execution_count": 10,
   "outputs": [
    {
     "name": "stderr",
     "output_type": "stream",
     "text": [
      "C:\\Users\\Konrad\\AppData\\Local\\Temp\\ipykernel_13336\\2831565511.py:2: SettingWithCopyWarning: \n",
      "A value is trying to be set on a copy of a slice from a DataFrame.\n",
      "Try using .loc[row_indexer,col_indexer] = value instead\n",
      "\n",
      "See the caveats in the documentation: https://pandas.pydata.org/pandas-docs/stable/user_guide/indexing.html#returning-a-view-versus-a-copy\n",
      "  tweets_en['text_clean'] = tweets_en.text.apply(lambda row : preprocess(row))\n"
     ]
    }
   ],
   "source": [
    "# Applying preprocessing function\n",
    "tweets_en['text_clean'] = tweets_en.text.apply(lambda row : preprocess(row))"
   ],
   "metadata": {
    "collapsed": false,
    "pycharm": {
     "name": "#%%\n"
    }
   }
  },
  {
   "cell_type": "code",
   "execution_count": 11,
   "outputs": [
    {
     "name": "stderr",
     "output_type": "stream",
     "text": [
      "C:\\Users\\Konrad\\AppData\\Local\\Temp\\ipykernel_13336\\2768621955.py:2: SettingWithCopyWarning: \n",
      "A value is trying to be set on a copy of a slice from a DataFrame.\n",
      "Try using .loc[row_indexer,col_indexer] = value instead\n",
      "\n",
      "See the caveats in the documentation: https://pandas.pydata.org/pandas-docs/stable/user_guide/indexing.html#returning-a-view-versus-a-copy\n",
      "  tweets_en['text_clean_list'] = tweets_en.text_clean.apply(lambda row : lemmatize(row))\n"
     ]
    }
   ],
   "source": [
    "# Applying tokenizing function\n",
    "tweets_en['text_clean_list'] = tweets_en.text_clean.apply(lambda row : lemmatize(row))"
   ],
   "metadata": {
    "collapsed": false,
    "pycharm": {
     "name": "#%%\n"
    }
   }
  },
  {
   "cell_type": "code",
   "execution_count": 12,
   "outputs": [
    {
     "name": "stderr",
     "output_type": "stream",
     "text": [
      "C:\\Users\\Konrad\\AppData\\Local\\Temp\\ipykernel_13336\\4086829583.py:2: SettingWithCopyWarning: \n",
      "A value is trying to be set on a copy of a slice from a DataFrame.\n",
      "Try using .loc[row_indexer,col_indexer] = value instead\n",
      "\n",
      "See the caveats in the documentation: https://pandas.pydata.org/pandas-docs/stable/user_guide/indexing.html#returning-a-view-versus-a-copy\n",
      "  tweets_en['text_clean_stopwords'] = tweets_en.text_clean_list.apply(lambda row : remove_stopwords(row))\n"
     ]
    }
   ],
   "source": [
    "# Applying stopwords removal function\n",
    "tweets_en['text_clean_stopwords'] = tweets_en.text_clean_list.apply(lambda row : remove_stopwords(row))"
   ],
   "metadata": {
    "collapsed": false,
    "pycharm": {
     "name": "#%%\n"
    }
   }
  },
  {
   "cell_type": "code",
   "execution_count": 13,
   "outputs": [
    {
     "name": "stderr",
     "output_type": "stream",
     "text": [
      "C:\\Users\\Konrad\\AppData\\Local\\Temp\\ipykernel_13336\\2182982522.py:2: SettingWithCopyWarning: \n",
      "A value is trying to be set on a copy of a slice from a DataFrame.\n",
      "Try using .loc[row_indexer,col_indexer] = value instead\n",
      "\n",
      "See the caveats in the documentation: https://pandas.pydata.org/pandas-docs/stable/user_guide/indexing.html#returning-a-view-versus-a-copy\n",
      "  tweets_en['hashtags_list'] = tweets_en.text.apply(lambda row : [x.lower() for x in re.findall('#(\\w+)', row)])\n"
     ]
    }
   ],
   "source": [
    "# Obtaining list of hashtags from a tweet\n",
    "tweets_en['hashtags_list'] = tweets_en.text.apply(lambda row : [x.lower() for x in re.findall('#(\\w+)', row)])"
   ],
   "metadata": {
    "collapsed": false,
    "pycharm": {
     "name": "#%%\n"
    }
   }
  },
  {
   "cell_type": "code",
   "execution_count": 14,
   "outputs": [
    {
     "data": {
      "text/plain": "           hashtag                   id            author_id  \\\n2       #Qatar2022  1592601191761838081  1591065849531604994   \n5       #Qatar2022  1592601156412649477   968203797049769984   \n7       #Qatar2022  1592601145545031681  1585336194010955781   \n8       #Qatar2022  1592601145503059968  1585336194010955781   \n9       #Qatar2022  1592601145415008256  1585336194010955781   \n...            ...                  ...                  ...   \n461392  #Qatar2022  1605037565999980545  1499701605079396353   \n461393  #Qatar2022  1605037409074573313   897741929387106305   \n461405  #Qatar2022  1605037015233310720  1363653333479788549   \n461406  #Qatar2022  1605036970660462602  1522221998151061509   \n461407  #Qatar2022  1605036968588484609  1504760689650552863   \n\n                                                     text  like_count  \\\n2       Massage and sex in Qatar❤️\\nMassage body to bo...           0   \n5       How to identify a whitexican in Qatar 2022  #Q...           0   \n7       Gillingham vs AFC Fylde\\n\\n⏰ 4:45:00 PM\\n\\nWho...           0   \n8       Derby vs Torquay\\n\\n⏰ 4:45:00 PM\\n\\nWho's goin...           0   \n9       Cambridge United vs Curzon Ashton\\n\\n⏰ 4:45:00...           0   \n...                                                   ...         ...   \n461392  The coronation of the true living #GOAT! @WeAr...           0   \n461393  Peter Drury on Argentina’s winning moment.\\n\\n...           3   \n461405  Argentine dairy industry #DitchDairy @dairy_tr...           0   \n461406  This time @TeamMessi Argentina ⚽❤✌ \\n\\n 📕 #Dex...           0   \n461407  The real GOAT 🐐 congrats LEO @TeamMessi😭🇦🇷 \\n\\...           0   \n\n        reply_count  retweet_count  quote_count                 created_at  \\\n2                 0              0            0  2022-11-15 19:31:27+00:00   \n5                 1              0            0  2022-11-15 19:31:19+00:00   \n7                 0              0            0  2022-11-15 19:31:16+00:00   \n8                 0              0            0  2022-11-15 19:31:16+00:00   \n9                 0              0            0  2022-11-15 19:31:16+00:00   \n...             ...            ...          ...                        ...   \n461392            0              0            0  2022-12-20 03:09:10+00:00   \n461393            0              0            0  2022-12-20 03:08:33+00:00   \n461405            0              0            0  2022-12-20 03:06:59+00:00   \n461406            0              0            0  2022-12-20 03:06:48+00:00   \n461407            0              0            0  2022-12-20 03:06:48+00:00   \n\n       lang                                        mentions  \\\n2        en                                             NaN   \n5        en                                             NaN   \n7        en                                             NaN   \n8        en                                             NaN   \n9        en                                             NaN   \n...     ...                                             ...   \n461392   en                    ['2849963640', '1058376110']   \n461393   en                                             NaN   \n461405   en  ['1370074650038910983', '1246189682150367233']   \n461406   en                                  ['1058376110']   \n461407   en                                  ['1058376110']   \n\n                                               text_clean  \\\n2       massage and sex in qatar   massage body to bod...   \n5       how to identify a whitexican in qatar  qatar m...   \n7       gillingham vs afc fylde    pm whos going to wi...   \n8       derby vs torquay    pm whos going to win fifaw...   \n9       cambridge united vs curzon ashton    pm whos g...   \n...                                                   ...   \n461392  the coronation of the true living goat   dexto...   \n461393  peter drury on argentina s winning moment mess...   \n461405  argentine dairy industry ditchdairy worldcupfi...   \n461406  this time argentina       dextools quack wool ...   \n461407  the real goat   congrats leo   dextools twt dy...   \n\n                                          text_clean_list  \\\n2       [massage, and, sex, in, qatar, massage, body, ...   \n5       [how, to, identify, a, whitexican, in, qatar, ...   \n7       [gillingham, v, afc, fylde, pm, who, going, to...   \n8       [derby, v, torquay, pm, who, going, to, win, f...   \n9       [cambridge, united, v, curzon, ashton, pm, who...   \n...                                                   ...   \n461392  [the, coronation, of, the, true, living, goat,...   \n461393  [peter, drury, on, argentina, s, winning, mome...   \n461405  [argentine, dairy, industry, ditchdairy, world...   \n461406  [this, time, argentina, dextools, quack, wool,...   \n461407  [the, real, goat, congrats, leo, dextools, twt...   \n\n                                     text_clean_stopwords  \\\n2       [massage, sex, qatar, massage, body, body, qat...   \n5       [identify, whitexican, qatar, qatar, mexico, w...   \n7       [gillingham, v, afc, fylde, pm, going, win, fi...   \n8       [derby, v, torquay, pm, going, win, fifaworldc...   \n9       [cambridge, united, v, curzon, ashton, pm, goi...   \n...                                                   ...   \n461392  [coronation, true, living, goat, dextools, en,...   \n461393  [peter, drury, argentina, winning, moment, mes...   \n461405  [argentine, dairy, industry, ditchdairy, world...   \n461406  [time, argentina, dextools, quack, wool, chz, ...   \n461407  [real, goat, congrats, leo, dextools, twt, dyp...   \n\n                                            hashtags_list  \n2                                      [qatar, qatar2022]  \n5                       [qatar2022, mexico, worldcup2022]  \n7                               [fifaworldcup, qatar2022]  \n8                               [fifaworldcup, qatar2022]  \n9                               [fifaworldcup, qatar2022]  \n...                                                   ...  \n461392  [goat, dextools, worldcup2022, worldcup, qatar...  \n461393  [messi𓃵, argentinavsfrance, qatar2022, fifawor...  \n461405  [ditchdairy, worldcupfinal, fifaworldcup, qata...  \n461406  [dextools, worldcup2022, worldcup, qatar2022, ...  \n461407  [dextools, worldcup2022, worldcup, qatar2022, ...  \n\n[129725 rows x 15 columns]",
      "text/html": "<div>\n<style scoped>\n    .dataframe tbody tr th:only-of-type {\n        vertical-align: middle;\n    }\n\n    .dataframe tbody tr th {\n        vertical-align: top;\n    }\n\n    .dataframe thead th {\n        text-align: right;\n    }\n</style>\n<table border=\"1\" class=\"dataframe\">\n  <thead>\n    <tr style=\"text-align: right;\">\n      <th></th>\n      <th>hashtag</th>\n      <th>id</th>\n      <th>author_id</th>\n      <th>text</th>\n      <th>like_count</th>\n      <th>reply_count</th>\n      <th>retweet_count</th>\n      <th>quote_count</th>\n      <th>created_at</th>\n      <th>lang</th>\n      <th>mentions</th>\n      <th>text_clean</th>\n      <th>text_clean_list</th>\n      <th>text_clean_stopwords</th>\n      <th>hashtags_list</th>\n    </tr>\n  </thead>\n  <tbody>\n    <tr>\n      <th>2</th>\n      <td>#Qatar2022</td>\n      <td>1592601191761838081</td>\n      <td>1591065849531604994</td>\n      <td>Massage and sex in Qatar❤️\\nMassage body to bo...</td>\n      <td>0</td>\n      <td>0</td>\n      <td>0</td>\n      <td>0</td>\n      <td>2022-11-15 19:31:27+00:00</td>\n      <td>en</td>\n      <td>NaN</td>\n      <td>massage and sex in qatar   massage body to bod...</td>\n      <td>[massage, and, sex, in, qatar, massage, body, ...</td>\n      <td>[massage, sex, qatar, massage, body, body, qat...</td>\n      <td>[qatar, qatar2022]</td>\n    </tr>\n    <tr>\n      <th>5</th>\n      <td>#Qatar2022</td>\n      <td>1592601156412649477</td>\n      <td>968203797049769984</td>\n      <td>How to identify a whitexican in Qatar 2022  #Q...</td>\n      <td>0</td>\n      <td>1</td>\n      <td>0</td>\n      <td>0</td>\n      <td>2022-11-15 19:31:19+00:00</td>\n      <td>en</td>\n      <td>NaN</td>\n      <td>how to identify a whitexican in qatar  qatar m...</td>\n      <td>[how, to, identify, a, whitexican, in, qatar, ...</td>\n      <td>[identify, whitexican, qatar, qatar, mexico, w...</td>\n      <td>[qatar2022, mexico, worldcup2022]</td>\n    </tr>\n    <tr>\n      <th>7</th>\n      <td>#Qatar2022</td>\n      <td>1592601145545031681</td>\n      <td>1585336194010955781</td>\n      <td>Gillingham vs AFC Fylde\\n\\n⏰ 4:45:00 PM\\n\\nWho...</td>\n      <td>0</td>\n      <td>0</td>\n      <td>0</td>\n      <td>0</td>\n      <td>2022-11-15 19:31:16+00:00</td>\n      <td>en</td>\n      <td>NaN</td>\n      <td>gillingham vs afc fylde    pm whos going to wi...</td>\n      <td>[gillingham, v, afc, fylde, pm, who, going, to...</td>\n      <td>[gillingham, v, afc, fylde, pm, going, win, fi...</td>\n      <td>[fifaworldcup, qatar2022]</td>\n    </tr>\n    <tr>\n      <th>8</th>\n      <td>#Qatar2022</td>\n      <td>1592601145503059968</td>\n      <td>1585336194010955781</td>\n      <td>Derby vs Torquay\\n\\n⏰ 4:45:00 PM\\n\\nWho's goin...</td>\n      <td>0</td>\n      <td>0</td>\n      <td>0</td>\n      <td>0</td>\n      <td>2022-11-15 19:31:16+00:00</td>\n      <td>en</td>\n      <td>NaN</td>\n      <td>derby vs torquay    pm whos going to win fifaw...</td>\n      <td>[derby, v, torquay, pm, who, going, to, win, f...</td>\n      <td>[derby, v, torquay, pm, going, win, fifaworldc...</td>\n      <td>[fifaworldcup, qatar2022]</td>\n    </tr>\n    <tr>\n      <th>9</th>\n      <td>#Qatar2022</td>\n      <td>1592601145415008256</td>\n      <td>1585336194010955781</td>\n      <td>Cambridge United vs Curzon Ashton\\n\\n⏰ 4:45:00...</td>\n      <td>0</td>\n      <td>0</td>\n      <td>0</td>\n      <td>0</td>\n      <td>2022-11-15 19:31:16+00:00</td>\n      <td>en</td>\n      <td>NaN</td>\n      <td>cambridge united vs curzon ashton    pm whos g...</td>\n      <td>[cambridge, united, v, curzon, ashton, pm, who...</td>\n      <td>[cambridge, united, v, curzon, ashton, pm, goi...</td>\n      <td>[fifaworldcup, qatar2022]</td>\n    </tr>\n    <tr>\n      <th>...</th>\n      <td>...</td>\n      <td>...</td>\n      <td>...</td>\n      <td>...</td>\n      <td>...</td>\n      <td>...</td>\n      <td>...</td>\n      <td>...</td>\n      <td>...</td>\n      <td>...</td>\n      <td>...</td>\n      <td>...</td>\n      <td>...</td>\n      <td>...</td>\n      <td>...</td>\n    </tr>\n    <tr>\n      <th>461392</th>\n      <td>#Qatar2022</td>\n      <td>1605037565999980545</td>\n      <td>1499701605079396353</td>\n      <td>The coronation of the true living #GOAT! @WeAr...</td>\n      <td>0</td>\n      <td>0</td>\n      <td>0</td>\n      <td>0</td>\n      <td>2022-12-20 03:09:10+00:00</td>\n      <td>en</td>\n      <td>['2849963640', '1058376110']</td>\n      <td>the coronation of the true living goat   dexto...</td>\n      <td>[the, coronation, of, the, true, living, goat,...</td>\n      <td>[coronation, true, living, goat, dextools, en,...</td>\n      <td>[goat, dextools, worldcup2022, worldcup, qatar...</td>\n    </tr>\n    <tr>\n      <th>461393</th>\n      <td>#Qatar2022</td>\n      <td>1605037409074573313</td>\n      <td>897741929387106305</td>\n      <td>Peter Drury on Argentina’s winning moment.\\n\\n...</td>\n      <td>3</td>\n      <td>0</td>\n      <td>0</td>\n      <td>0</td>\n      <td>2022-12-20 03:08:33+00:00</td>\n      <td>en</td>\n      <td>NaN</td>\n      <td>peter drury on argentina s winning moment mess...</td>\n      <td>[peter, drury, on, argentina, s, winning, mome...</td>\n      <td>[peter, drury, argentina, winning, moment, mes...</td>\n      <td>[messi𓃵, argentinavsfrance, qatar2022, fifawor...</td>\n    </tr>\n    <tr>\n      <th>461405</th>\n      <td>#Qatar2022</td>\n      <td>1605037015233310720</td>\n      <td>1363653333479788549</td>\n      <td>Argentine dairy industry #DitchDairy @dairy_tr...</td>\n      <td>0</td>\n      <td>0</td>\n      <td>0</td>\n      <td>0</td>\n      <td>2022-12-20 03:06:59+00:00</td>\n      <td>en</td>\n      <td>['1370074650038910983', '1246189682150367233']</td>\n      <td>argentine dairy industry ditchdairy worldcupfi...</td>\n      <td>[argentine, dairy, industry, ditchdairy, world...</td>\n      <td>[argentine, dairy, industry, ditchdairy, world...</td>\n      <td>[ditchdairy, worldcupfinal, fifaworldcup, qata...</td>\n    </tr>\n    <tr>\n      <th>461406</th>\n      <td>#Qatar2022</td>\n      <td>1605036970660462602</td>\n      <td>1522221998151061509</td>\n      <td>This time @TeamMessi Argentina ⚽❤✌ \\n\\n 📕 #Dex...</td>\n      <td>0</td>\n      <td>0</td>\n      <td>0</td>\n      <td>0</td>\n      <td>2022-12-20 03:06:48+00:00</td>\n      <td>en</td>\n      <td>['1058376110']</td>\n      <td>this time argentina       dextools quack wool ...</td>\n      <td>[this, time, argentina, dextools, quack, wool,...</td>\n      <td>[time, argentina, dextools, quack, wool, chz, ...</td>\n      <td>[dextools, worldcup2022, worldcup, qatar2022, ...</td>\n    </tr>\n    <tr>\n      <th>461407</th>\n      <td>#Qatar2022</td>\n      <td>1605036968588484609</td>\n      <td>1504760689650552863</td>\n      <td>The real GOAT 🐐 congrats LEO @TeamMessi😭🇦🇷 \\n\\...</td>\n      <td>0</td>\n      <td>0</td>\n      <td>0</td>\n      <td>0</td>\n      <td>2022-12-20 03:06:48+00:00</td>\n      <td>en</td>\n      <td>['1058376110']</td>\n      <td>the real goat   congrats leo   dextools twt dy...</td>\n      <td>[the, real, goat, congrats, leo, dextools, twt...</td>\n      <td>[real, goat, congrats, leo, dextools, twt, dyp...</td>\n      <td>[dextools, worldcup2022, worldcup, qatar2022, ...</td>\n    </tr>\n  </tbody>\n</table>\n<p>129725 rows × 15 columns</p>\n</div>"
     },
     "execution_count": 14,
     "metadata": {},
     "output_type": "execute_result"
    }
   ],
   "source": [
    "# Displaying preprocessed data\n",
    "tweets_en"
   ],
   "metadata": {
    "collapsed": false,
    "pycharm": {
     "name": "#%%\n"
    }
   }
  },
  {
   "cell_type": "code",
   "execution_count": 15,
   "outputs": [],
   "source": [
    "# Saving processed tweets and users datasets\n",
    "tweets_en.to_csv(f'./data/{theme}/tweets_clean.csv', index=False)\n",
    "users.to_csv(f'./data/{theme}/users_clean.csv', index=False)"
   ],
   "metadata": {
    "collapsed": false,
    "pycharm": {
     "name": "#%%\n"
    }
   }
  },
  {
   "cell_type": "code",
   "execution_count": 15,
   "outputs": [],
   "source": [],
   "metadata": {
    "collapsed": false,
    "pycharm": {
     "name": "#%%\n"
    }
   }
  }
 ],
 "metadata": {
  "kernelspec": {
   "display_name": "Python 3",
   "language": "python",
   "name": "python3"
  },
  "language_info": {
   "codemirror_mode": {
    "name": "ipython",
    "version": 2
   },
   "file_extension": ".py",
   "mimetype": "text/x-python",
   "name": "python",
   "nbconvert_exporter": "python",
   "pygments_lexer": "ipython2",
   "version": "2.7.6"
  }
 },
 "nbformat": 4,
 "nbformat_minor": 0
}